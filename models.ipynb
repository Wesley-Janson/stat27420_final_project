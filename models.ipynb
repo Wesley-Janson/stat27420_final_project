{
 "cells": [
  {
   "cell_type": "markdown",
   "metadata": {},
   "source": [
    "### Wesley Janson and Drew Keller\n",
    "## STAT 27420 Final Project\n",
    "# Modeling Code"
   ]
  },
  {
   "cell_type": "code",
   "execution_count": 1,
   "metadata": {},
   "outputs": [],
   "source": [
    "# Load in relevant packages\n",
    "\n",
    "import pandas as pd\n",
    "from statsmodels.miscmodels.ordinal_model import OrderedModel\n",
    "from sklearn.model_selection import KFold, StratifiedKFold, train_test_split\n",
    "from sklearn import tree\n",
    "from sklearn.metrics import accuracy_score, recall_score, precision_score, f1_score, confusion_matrix\n",
    "import xgboost as xgb\n",
    "from sklearn.ensemble import GradientBoostingClassifier\n",
    "from sklearn.neural_network import MLPClassifier\n",
    "from data_utils import read_data, prep_features, evaluate_predictions, rebin_outcome, summarize_predictions, evaluate_multilevel_predictions\n",
    "import numpy as np\n",
    "import matplotlib.pyplot as plt\n",
    "from scipy.stats import norm\n",
    "\n",
    "# set random seed for numpy\n",
    "RANDOM_SEED=69\n",
    "np.random.seed(RANDOM_SEED)\n",
    "\n",
    "\n",
    "DATA_PATH = '../paper_replication_data/new_data.csv'  # Drew's path"
   ]
  },
  {
   "cell_type": "code",
   "execution_count": 2,
   "metadata": {},
   "outputs": [
    {
     "name": "stdout",
     "output_type": "stream",
     "text": [
      "Excluding 2262 observations that did not answer 1 year price change question.\n"
     ]
    }
   ],
   "source": [
    "from load_data import data, categorical_vars, cts_vars, other_vars\n",
    "\n",
    "# loading data from online takes ~20 seconds\n",
    "# to speed up, save data locally and load from there:\n",
    "\n",
    "#data.to_csv(DATA_PATH,index=False)  # run this once"
   ]
  },
  {
   "cell_type": "code",
   "execution_count": 2,
   "metadata": {},
   "outputs": [],
   "source": [
    "# Categorical_vars and cts_vars are lists of vars in each category.\n",
    "# Other_vars are ID and date variables (categorical_vars + cts_vars + other_vars = all vars)\n",
    "\n",
    "data = read_data(DATA_PATH)  # use this over pd.read_csv, because this handles types"
   ]
  },
  {
   "cell_type": "code",
   "execution_count": 3,
   "metadata": {},
   "outputs": [
    {
     "data": {
      "text/plain": [
       "0.0    185749\n",
       "1.0     31599\n",
       "NaN     18725\n",
       "2.0      6010\n",
       "3.0      2836\n",
       "4.0      2368\n",
       "Name: treatment_bins, dtype: int64"
      ]
     },
     "execution_count": 3,
     "metadata": {},
     "output_type": "execute_result"
    }
   ],
   "source": [
    "data.treatment_bins.value_counts(dropna=False)  # check that we have a balanced dataset"
   ]
  },
  {
   "cell_type": "code",
   "execution_count": 4,
   "metadata": {},
   "outputs": [
    {
     "data": {
      "text/plain": [
       "Good          171775\n",
       "Bad            54240\n",
       "Don't know     10247\n",
       "Neutral         9243\n",
       "Refused         1782\n",
       "Name: durable_purchase, dtype: int64"
      ]
     },
     "execution_count": 4,
     "metadata": {},
     "output_type": "execute_result"
    }
   ],
   "source": [
    "data.durable_purchase.value_counts(dropna=False)  # check that we have a balanced dataset"
   ]
  },
  {
   "cell_type": "markdown",
   "metadata": {},
   "source": [
    "***Regression***"
   ]
  },
  {
   "cell_type": "code",
   "execution_count": 3,
   "metadata": {},
   "outputs": [
    {
     "name": "stdout",
     "output_type": "stream",
     "text": [
      "Excluding 12029 observations that refused or didn't know durable purchase question.\n",
      "Excluding 70815 observations that did not answer confounder questions.\n",
      "Excluding 9476 observations that did not answer price change amount question.\n"
     ]
    }
   ],
   "source": [
    "# prep features for modeling; use regression=True for regression models\n",
    "data_regression, treatment_vars, confounder_vars = prep_features(data,regression=True,missing_values='drop cts')  \n",
    "X = data_regression[confounder_vars+[\"price_change_amt_next_yr\"]]\n",
    "Y = data_regression['durable_purchase']\n",
    "X_train, X_test, y_train, y_test = train_test_split(X, Y, test_size=0.2, random_state=7)"
   ]
  },
  {
   "cell_type": "code",
   "execution_count": 7,
   "metadata": {},
   "outputs": [
    {
     "name": "stdout",
     "output_type": "stream",
     "text": [
      "Optimization terminated successfully.\n",
      "         Current function value: 0.613155\n",
      "         Iterations: 142\n",
      "         Function evaluations: 143\n",
      "         Gradient evaluations: 143\n"
     ]
    },
    {
     "data": {
      "text/html": [
       "<table class=\"simpletable\">\n",
       "<caption>OrderedModel Results</caption>\n",
       "<tr>\n",
       "  <th>Dep. Variable:</th>     <td>durable_purchase</td>  <th>  Log-Likelihood:    </th> <td> -76015.</td> \n",
       "</tr>\n",
       "<tr>\n",
       "  <th>Model:</th>               <td>OrderedModel</td>    <th>  AIC:               </th> <td>1.521e+05</td>\n",
       "</tr>\n",
       "<tr>\n",
       "  <th>Method:</th>           <td>Maximum Likelihood</td> <th>  BIC:               </th> <td>1.524e+05</td>\n",
       "</tr>\n",
       "<tr>\n",
       "  <th>Date:</th>              <td>Sun, 04 Dec 2022</td>  <th>                     </th>     <td> </td>    \n",
       "</tr>\n",
       "<tr>\n",
       "  <th>Time:</th>                  <td>13:23:47</td>      <th>                     </th>     <td> </td>    \n",
       "</tr>\n",
       "<tr>\n",
       "  <th>No. Observations:</th>       <td>123973</td>       <th>                     </th>     <td> </td>    \n",
       "</tr>\n",
       "<tr>\n",
       "  <th>Df Residuals:</th>           <td>123939</td>       <th>                     </th>     <td> </td>    \n",
       "</tr>\n",
       "<tr>\n",
       "  <th>Df Model:</th>               <td>    34</td>       <th>                     </th>     <td> </td>    \n",
       "</tr>\n",
       "</table>\n",
       "<table class=\"simpletable\">\n",
       "<tr>\n",
       "                    <td></td>                      <th>coef</th>     <th>std err</th>      <th>z</th>      <th>P>|z|</th>  <th>[0.025</th>    <th>0.975]</th>  \n",
       "</tr>\n",
       "<tr>\n",
       "  <th>fed_funds_rate</th>                       <td>    0.2239</td> <td>    0.006</td> <td>   38.545</td> <td> 0.000</td> <td>    0.212</td> <td>    0.235</td>\n",
       "</tr>\n",
       "<tr>\n",
       "  <th>unemployment_rate</th>                    <td>   -0.1207</td> <td>    0.005</td> <td>  -24.452</td> <td> 0.000</td> <td>   -0.130</td> <td>   -0.111</td>\n",
       "</tr>\n",
       "<tr>\n",
       "  <th>cpi_1mo_lag</th>                          <td>   -0.1546</td> <td>    0.006</td> <td>  -24.690</td> <td> 0.000</td> <td>   -0.167</td> <td>   -0.142</td>\n",
       "</tr>\n",
       "<tr>\n",
       "  <th>cpi_durable_1mo_lag</th>                  <td>   -0.0829</td> <td>    0.006</td> <td>  -14.073</td> <td> 0.000</td> <td>   -0.094</td> <td>   -0.071</td>\n",
       "</tr>\n",
       "<tr>\n",
       "  <th>personal_finances_next_yr_Don't know</th> <td>   -0.1881</td> <td>    0.031</td> <td>   -5.980</td> <td> 0.000</td> <td>   -0.250</td> <td>   -0.126</td>\n",
       "</tr>\n",
       "<tr>\n",
       "  <th>personal_finances_next_yr_Refused</th>    <td>   -0.2356</td> <td>    0.073</td> <td>   -3.247</td> <td> 0.001</td> <td>   -0.378</td> <td>   -0.093</td>\n",
       "</tr>\n",
       "<tr>\n",
       "  <th>personal_finances_next_yr_Same</th>       <td>   -0.0602</td> <td>    0.009</td> <td>   -6.692</td> <td> 0.000</td> <td>   -0.078</td> <td>   -0.043</td>\n",
       "</tr>\n",
       "<tr>\n",
       "  <th>personal_finances_next_yr_Worse</th>      <td>   -0.1900</td> <td>    0.014</td> <td>  -13.342</td> <td> 0.000</td> <td>   -0.218</td> <td>   -0.162</td>\n",
       "</tr>\n",
       "<tr>\n",
       "  <th>income_change_amt_next_yr</th>            <td>   -0.0332</td> <td>    0.004</td> <td>   -7.873</td> <td> 0.000</td> <td>   -0.041</td> <td>   -0.025</td>\n",
       "</tr>\n",
       "<tr>\n",
       "  <th>conditions_next_yr_Don't know</th>        <td>   -0.1513</td> <td>    0.038</td> <td>   -3.977</td> <td> 0.000</td> <td>   -0.226</td> <td>   -0.077</td>\n",
       "</tr>\n",
       "<tr>\n",
       "  <th>conditions_next_yr_Refused</th>           <td>   -0.1890</td> <td>    0.075</td> <td>   -2.525</td> <td> 0.012</td> <td>   -0.336</td> <td>   -0.042</td>\n",
       "</tr>\n",
       "<tr>\n",
       "  <th>conditions_next_yr_Same</th>              <td>   -0.0375</td> <td>    0.010</td> <td>   -3.776</td> <td> 0.000</td> <td>   -0.057</td> <td>   -0.018</td>\n",
       "</tr>\n",
       "<tr>\n",
       "  <th>conditions_next_yr_Worse</th>             <td>   -0.2332</td> <td>    0.013</td> <td>  -18.124</td> <td> 0.000</td> <td>   -0.258</td> <td>   -0.208</td>\n",
       "</tr>\n",
       "<tr>\n",
       "  <th>unemployment_next_yr_Higher</th>          <td>   -0.2147</td> <td>    0.064</td> <td>   -3.355</td> <td> 0.001</td> <td>   -0.340</td> <td>   -0.089</td>\n",
       "</tr>\n",
       "<tr>\n",
       "  <th>unemployment_next_yr_Lower</th>           <td>    0.0953</td> <td>    0.064</td> <td>    1.484</td> <td> 0.138</td> <td>   -0.031</td> <td>    0.221</td>\n",
       "</tr>\n",
       "<tr>\n",
       "  <th>unemployment_next_yr_Refused</th>         <td>   -0.1105</td> <td>    0.130</td> <td>   -0.850</td> <td> 0.395</td> <td>   -0.365</td> <td>    0.144</td>\n",
       "</tr>\n",
       "<tr>\n",
       "  <th>unemployment_next_yr_Same</th>            <td>    0.0483</td> <td>    0.064</td> <td>    0.756</td> <td> 0.450</td> <td>   -0.077</td> <td>    0.173</td>\n",
       "</tr>\n",
       "<tr>\n",
       "  <th>income_quintile_Lower middle</th>         <td>   -0.0856</td> <td>    0.013</td> <td>   -6.447</td> <td> 0.000</td> <td>   -0.112</td> <td>   -0.060</td>\n",
       "</tr>\n",
       "<tr>\n",
       "  <th>income_quintile_Lowest</th>               <td>   -0.1610</td> <td>    0.015</td> <td>  -10.726</td> <td> 0.000</td> <td>   -0.190</td> <td>   -0.132</td>\n",
       "</tr>\n",
       "<tr>\n",
       "  <th>income_quintile_Middle</th>               <td>   -0.0656</td> <td>    0.012</td> <td>   -5.362</td> <td> 0.000</td> <td>   -0.090</td> <td>   -0.042</td>\n",
       "</tr>\n",
       "<tr>\n",
       "  <th>income_quintile_Upper middle</th>         <td>   -0.0371</td> <td>    0.011</td> <td>   -3.240</td> <td> 0.001</td> <td>   -0.060</td> <td>   -0.015</td>\n",
       "</tr>\n",
       "<tr>\n",
       "  <th>age</th>                                  <td>    0.0137</td> <td>    0.005</td> <td>    2.977</td> <td> 0.003</td> <td>    0.005</td> <td>    0.023</td>\n",
       "</tr>\n",
       "<tr>\n",
       "  <th>sex_Male</th>                             <td>    0.1023</td> <td>    0.008</td> <td>   12.604</td> <td> 0.000</td> <td>    0.086</td> <td>    0.118</td>\n",
       "</tr>\n",
       "<tr>\n",
       "  <th>education_Graduate school</th>            <td>   -0.0273</td> <td>    0.012</td> <td>   -2.191</td> <td> 0.028</td> <td>   -0.052</td> <td>   -0.003</td>\n",
       "</tr>\n",
       "<tr>\n",
       "  <th>education_High school</th>                <td>    0.0167</td> <td>    0.012</td> <td>    1.429</td> <td> 0.153</td> <td>   -0.006</td> <td>    0.040</td>\n",
       "</tr>\n",
       "<tr>\n",
       "  <th>education_No high school</th>             <td>   -0.2105</td> <td>    0.031</td> <td>   -6.824</td> <td> 0.000</td> <td>   -0.271</td> <td>   -0.150</td>\n",
       "</tr>\n",
       "<tr>\n",
       "  <th>education_Partial high school</th>        <td>   -0.0260</td> <td>    0.022</td> <td>   -1.179</td> <td> 0.238</td> <td>   -0.069</td> <td>    0.017</td>\n",
       "</tr>\n",
       "<tr>\n",
       "  <th>education_Some college</th>               <td>    0.0117</td> <td>    0.011</td> <td>    1.045</td> <td> 0.296</td> <td>   -0.010</td> <td>    0.034</td>\n",
       "</tr>\n",
       "<tr>\n",
       "  <th>household_size</th>                       <td>   -0.0341</td> <td>    0.004</td> <td>   -7.873</td> <td> 0.000</td> <td>   -0.043</td> <td>   -0.026</td>\n",
       "</tr>\n",
       "<tr>\n",
       "  <th>price_related_yr_ago_1.0</th>             <td>   -0.1542</td> <td>    0.012</td> <td>  -13.070</td> <td> 0.000</td> <td>   -0.177</td> <td>   -0.131</td>\n",
       "</tr>\n",
       "<tr>\n",
       "  <th>zlb_1.0</th>                              <td>   -0.0466</td> <td>    0.016</td> <td>   -2.896</td> <td> 0.004</td> <td>   -0.078</td> <td>   -0.015</td>\n",
       "</tr>\n",
       "<tr>\n",
       "  <th>price_change_amt_next_yr</th>             <td>   -0.0373</td> <td>    0.004</td> <td>   -9.428</td> <td> 0.000</td> <td>   -0.045</td> <td>   -0.030</td>\n",
       "</tr>\n",
       "<tr>\n",
       "  <th>-1.0/0.0</th>                             <td>   -1.0066</td> <td>    0.065</td> <td>  -15.482</td> <td> 0.000</td> <td>   -1.134</td> <td>   -0.879</td>\n",
       "</tr>\n",
       "<tr>\n",
       "  <th>0.0/1.0</th>                              <td>   -2.1598</td> <td>    0.015</td> <td> -139.616</td> <td> 0.000</td> <td>   -2.190</td> <td>   -2.129</td>\n",
       "</tr>\n",
       "</table>"
      ],
      "text/plain": [
       "<class 'statsmodels.iolib.summary.Summary'>\n",
       "\"\"\"\n",
       "                             OrderedModel Results                             \n",
       "==============================================================================\n",
       "Dep. Variable:       durable_purchase   Log-Likelihood:                -76015.\n",
       "Model:                   OrderedModel   AIC:                         1.521e+05\n",
       "Method:            Maximum Likelihood   BIC:                         1.524e+05\n",
       "Date:                Sun, 04 Dec 2022                                         \n",
       "Time:                        13:23:47                                         \n",
       "No. Observations:              123973                                         \n",
       "Df Residuals:                  123939                                         \n",
       "Df Model:                          34                                         \n",
       "========================================================================================================\n",
       "                                           coef    std err          z      P>|z|      [0.025      0.975]\n",
       "--------------------------------------------------------------------------------------------------------\n",
       "fed_funds_rate                           0.2239      0.006     38.545      0.000       0.212       0.235\n",
       "unemployment_rate                       -0.1207      0.005    -24.452      0.000      -0.130      -0.111\n",
       "cpi_1mo_lag                             -0.1546      0.006    -24.690      0.000      -0.167      -0.142\n",
       "cpi_durable_1mo_lag                     -0.0829      0.006    -14.073      0.000      -0.094      -0.071\n",
       "personal_finances_next_yr_Don't know    -0.1881      0.031     -5.980      0.000      -0.250      -0.126\n",
       "personal_finances_next_yr_Refused       -0.2356      0.073     -3.247      0.001      -0.378      -0.093\n",
       "personal_finances_next_yr_Same          -0.0602      0.009     -6.692      0.000      -0.078      -0.043\n",
       "personal_finances_next_yr_Worse         -0.1900      0.014    -13.342      0.000      -0.218      -0.162\n",
       "income_change_amt_next_yr               -0.0332      0.004     -7.873      0.000      -0.041      -0.025\n",
       "conditions_next_yr_Don't know           -0.1513      0.038     -3.977      0.000      -0.226      -0.077\n",
       "conditions_next_yr_Refused              -0.1890      0.075     -2.525      0.012      -0.336      -0.042\n",
       "conditions_next_yr_Same                 -0.0375      0.010     -3.776      0.000      -0.057      -0.018\n",
       "conditions_next_yr_Worse                -0.2332      0.013    -18.124      0.000      -0.258      -0.208\n",
       "unemployment_next_yr_Higher             -0.2147      0.064     -3.355      0.001      -0.340      -0.089\n",
       "unemployment_next_yr_Lower               0.0953      0.064      1.484      0.138      -0.031       0.221\n",
       "unemployment_next_yr_Refused            -0.1105      0.130     -0.850      0.395      -0.365       0.144\n",
       "unemployment_next_yr_Same                0.0483      0.064      0.756      0.450      -0.077       0.173\n",
       "income_quintile_Lower middle            -0.0856      0.013     -6.447      0.000      -0.112      -0.060\n",
       "income_quintile_Lowest                  -0.1610      0.015    -10.726      0.000      -0.190      -0.132\n",
       "income_quintile_Middle                  -0.0656      0.012     -5.362      0.000      -0.090      -0.042\n",
       "income_quintile_Upper middle            -0.0371      0.011     -3.240      0.001      -0.060      -0.015\n",
       "age                                      0.0137      0.005      2.977      0.003       0.005       0.023\n",
       "sex_Male                                 0.1023      0.008     12.604      0.000       0.086       0.118\n",
       "education_Graduate school               -0.0273      0.012     -2.191      0.028      -0.052      -0.003\n",
       "education_High school                    0.0167      0.012      1.429      0.153      -0.006       0.040\n",
       "education_No high school                -0.2105      0.031     -6.824      0.000      -0.271      -0.150\n",
       "education_Partial high school           -0.0260      0.022     -1.179      0.238      -0.069       0.017\n",
       "education_Some college                   0.0117      0.011      1.045      0.296      -0.010       0.034\n",
       "household_size                          -0.0341      0.004     -7.873      0.000      -0.043      -0.026\n",
       "price_related_yr_ago_1.0                -0.1542      0.012    -13.070      0.000      -0.177      -0.131\n",
       "zlb_1.0                                 -0.0466      0.016     -2.896      0.004      -0.078      -0.015\n",
       "price_change_amt_next_yr                -0.0373      0.004     -9.428      0.000      -0.045      -0.030\n",
       "-1.0/0.0                                -1.0066      0.065    -15.482      0.000      -1.134      -0.879\n",
       "0.0/1.0                                 -2.1598      0.015   -139.616      0.000      -2.190      -2.129\n",
       "========================================================================================================\n",
       "\"\"\""
      ]
     },
     "execution_count": 7,
     "metadata": {},
     "output_type": "execute_result"
    }
   ],
   "source": [
    "# Model 1a: ordered probit (same as Bachmann et al.) with cts treatment\n",
    "mod_prob1a = OrderedModel(y_train,X_train,distr='probit')\n",
    "res_prob1a = mod_prob1a.fit(method='bfgs')\n",
    "res_prob1a.summary()"
   ]
  },
  {
   "cell_type": "code",
   "execution_count": 8,
   "metadata": {},
   "outputs": [
    {
     "data": {
      "text/plain": [
       "54211    -1.0\n",
       "12948     1.0\n",
       "106443    1.0\n",
       "179037    1.0\n",
       "42451     0.0\n",
       "         ... \n",
       "223908    1.0\n",
       "75890     1.0\n",
       "239600   -1.0\n",
       "148680    1.0\n",
       "37775     1.0\n",
       "Name: durable_purchase, Length: 30994, dtype: float64"
      ]
     },
     "execution_count": 8,
     "metadata": {},
     "output_type": "execute_result"
    }
   ],
   "source": [
    "y_test"
   ]
  },
  {
   "cell_type": "code",
   "execution_count": 9,
   "metadata": {},
   "outputs": [
    {
     "name": "stdout",
     "output_type": "stream",
     "text": [
      "Baseline accuracy: 75.71%\n",
      "Train accuracy: 75.91%\n",
      "Test accuracy: 76.33%\n",
      "\n",
      "Test predictions vs actual:\n"
     ]
    },
    {
     "data": {
      "text/plain": [
       "actual  predicted\n",
       "-1.0    -1             746\n",
       "         1            5845\n",
       " 0.0    -1              27\n",
       "         1             910\n",
       " 1.0    -1             555\n",
       "         1           22911\n",
       "dtype: int64"
      ]
     },
     "execution_count": 9,
     "metadata": {},
     "output_type": "execute_result"
    }
   ],
   "source": [
    "evaluate_predictions(res_prob1a, X_train, X_test, y_train, y_test, regression=True)"
   ]
  },
  {
   "cell_type": "code",
   "execution_count": 10,
   "metadata": {},
   "outputs": [],
   "source": [
    "X = data_regression[confounder_vars+treatment_vars]\n",
    "Y = data_regression['durable_purchase']\n",
    "X_train, X_test, y_train, y_test = train_test_split(X, Y, test_size=0.2, random_state=7)"
   ]
  },
  {
   "cell_type": "code",
   "execution_count": 11,
   "metadata": {},
   "outputs": [
    {
     "name": "stdout",
     "output_type": "stream",
     "text": [
      "Optimization terminated successfully.\n",
      "         Current function value: 0.613123\n",
      "         Iterations: 153\n",
      "         Function evaluations: 154\n",
      "         Gradient evaluations: 154\n"
     ]
    },
    {
     "name": "stderr",
     "output_type": "stream",
     "text": [
      "/Users/drewkeller/opt/anaconda3/envs/stats/lib/python3.8/site-packages/statsmodels/base/model.py:592: HessianInversionWarning: Inverting hessian failed, no bse or cov_params available\n",
      "  warnings.warn('Inverting hessian failed, no bse or cov_params '\n"
     ]
    },
    {
     "data": {
      "text/html": [
       "<table class=\"simpletable\">\n",
       "<caption>OrderedModel Results</caption>\n",
       "<tr>\n",
       "  <th>Dep. Variable:</th>     <td>durable_purchase</td>  <th>  Log-Likelihood:    </th> <td> -76011.</td> \n",
       "</tr>\n",
       "<tr>\n",
       "  <th>Model:</th>               <td>OrderedModel</td>    <th>  AIC:               </th> <td>1.521e+05</td>\n",
       "</tr>\n",
       "<tr>\n",
       "  <th>Method:</th>           <td>Maximum Likelihood</td> <th>  BIC:               </th> <td>1.525e+05</td>\n",
       "</tr>\n",
       "<tr>\n",
       "  <th>Date:</th>              <td>Sun, 04 Dec 2022</td>  <th>                     </th>     <td> </td>    \n",
       "</tr>\n",
       "<tr>\n",
       "  <th>Time:</th>                  <td>13:26:43</td>      <th>                     </th>     <td> </td>    \n",
       "</tr>\n",
       "<tr>\n",
       "  <th>No. Observations:</th>       <td>123973</td>       <th>                     </th>     <td> </td>    \n",
       "</tr>\n",
       "<tr>\n",
       "  <th>Df Residuals:</th>           <td>123935</td>       <th>                     </th>     <td> </td>    \n",
       "</tr>\n",
       "<tr>\n",
       "  <th>Df Model:</th>               <td>    38</td>       <th>                     </th>     <td> </td>    \n",
       "</tr>\n",
       "</table>\n",
       "<table class=\"simpletable\">\n",
       "<tr>\n",
       "                    <td></td>                      <th>coef</th>     <th>std err</th>      <th>z</th>      <th>P>|z|</th>  <th>[0.025</th>    <th>0.975]</th>  \n",
       "</tr>\n",
       "<tr>\n",
       "  <th>fed_funds_rate</th>                       <td>    0.2232</td> <td>      nan</td> <td>      nan</td> <td>   nan</td> <td>      nan</td> <td>      nan</td>\n",
       "</tr>\n",
       "<tr>\n",
       "  <th>unemployment_rate</th>                    <td>   -0.1205</td> <td>      nan</td> <td>      nan</td> <td>   nan</td> <td>      nan</td> <td>      nan</td>\n",
       "</tr>\n",
       "<tr>\n",
       "  <th>cpi_1mo_lag</th>                          <td>   -0.1548</td> <td>      nan</td> <td>      nan</td> <td>   nan</td> <td>      nan</td> <td>      nan</td>\n",
       "</tr>\n",
       "<tr>\n",
       "  <th>cpi_durable_1mo_lag</th>                  <td>   -0.0831</td> <td>      nan</td> <td>      nan</td> <td>   nan</td> <td>      nan</td> <td>      nan</td>\n",
       "</tr>\n",
       "<tr>\n",
       "  <th>personal_finances_next_yr_Don't know</th> <td>   -0.1877</td> <td>      nan</td> <td>      nan</td> <td>   nan</td> <td>      nan</td> <td>      nan</td>\n",
       "</tr>\n",
       "<tr>\n",
       "  <th>personal_finances_next_yr_Refused</th>    <td>   -0.2389</td> <td>      nan</td> <td>      nan</td> <td>   nan</td> <td>      nan</td> <td>      nan</td>\n",
       "</tr>\n",
       "<tr>\n",
       "  <th>personal_finances_next_yr_Same</th>       <td>   -0.0610</td> <td>      nan</td> <td>      nan</td> <td>   nan</td> <td>      nan</td> <td>      nan</td>\n",
       "</tr>\n",
       "<tr>\n",
       "  <th>personal_finances_next_yr_Worse</th>      <td>   -0.1904</td> <td>      nan</td> <td>      nan</td> <td>   nan</td> <td>      nan</td> <td>      nan</td>\n",
       "</tr>\n",
       "<tr>\n",
       "  <th>income_change_amt_next_yr</th>            <td>   -0.0333</td> <td>      nan</td> <td>      nan</td> <td>   nan</td> <td>      nan</td> <td>      nan</td>\n",
       "</tr>\n",
       "<tr>\n",
       "  <th>conditions_next_yr_Don't know</th>        <td>   -0.1510</td> <td>      nan</td> <td>      nan</td> <td>   nan</td> <td>      nan</td> <td>      nan</td>\n",
       "</tr>\n",
       "<tr>\n",
       "  <th>conditions_next_yr_Refused</th>           <td>   -0.1895</td> <td>      nan</td> <td>      nan</td> <td>   nan</td> <td>      nan</td> <td>      nan</td>\n",
       "</tr>\n",
       "<tr>\n",
       "  <th>conditions_next_yr_Same</th>              <td>   -0.0381</td> <td>      nan</td> <td>      nan</td> <td>   nan</td> <td>      nan</td> <td>      nan</td>\n",
       "</tr>\n",
       "<tr>\n",
       "  <th>conditions_next_yr_Worse</th>             <td>   -0.2334</td> <td>      nan</td> <td>      nan</td> <td>   nan</td> <td>      nan</td> <td>      nan</td>\n",
       "</tr>\n",
       "<tr>\n",
       "  <th>unemployment_next_yr_Higher</th>          <td>   -0.2144</td> <td>      nan</td> <td>      nan</td> <td>   nan</td> <td>      nan</td> <td>      nan</td>\n",
       "</tr>\n",
       "<tr>\n",
       "  <th>unemployment_next_yr_Lower</th>           <td>    0.0961</td> <td>      nan</td> <td>      nan</td> <td>   nan</td> <td>      nan</td> <td>      nan</td>\n",
       "</tr>\n",
       "<tr>\n",
       "  <th>unemployment_next_yr_Refused</th>         <td>   -0.1104</td> <td>      nan</td> <td>      nan</td> <td>   nan</td> <td>      nan</td> <td>      nan</td>\n",
       "</tr>\n",
       "<tr>\n",
       "  <th>unemployment_next_yr_Same</th>            <td>    0.0480</td> <td>      nan</td> <td>      nan</td> <td>   nan</td> <td>      nan</td> <td>      nan</td>\n",
       "</tr>\n",
       "<tr>\n",
       "  <th>income_quintile_Lower middle</th>         <td>   -0.0858</td> <td>      nan</td> <td>      nan</td> <td>   nan</td> <td>      nan</td> <td>      nan</td>\n",
       "</tr>\n",
       "<tr>\n",
       "  <th>income_quintile_Lowest</th>               <td>   -0.1609</td> <td>      nan</td> <td>      nan</td> <td>   nan</td> <td>      nan</td> <td>      nan</td>\n",
       "</tr>\n",
       "<tr>\n",
       "  <th>income_quintile_Middle</th>               <td>   -0.0660</td> <td>      nan</td> <td>      nan</td> <td>   nan</td> <td>      nan</td> <td>      nan</td>\n",
       "</tr>\n",
       "<tr>\n",
       "  <th>income_quintile_Upper middle</th>         <td>   -0.0372</td> <td>      nan</td> <td>      nan</td> <td>   nan</td> <td>      nan</td> <td>      nan</td>\n",
       "</tr>\n",
       "<tr>\n",
       "  <th>age</th>                                  <td>    0.0140</td> <td>      nan</td> <td>      nan</td> <td>   nan</td> <td>      nan</td> <td>      nan</td>\n",
       "</tr>\n",
       "<tr>\n",
       "  <th>sex_Male</th>                             <td>    0.1034</td> <td>      nan</td> <td>      nan</td> <td>   nan</td> <td>      nan</td> <td>      nan</td>\n",
       "</tr>\n",
       "<tr>\n",
       "  <th>education_Graduate school</th>            <td>   -0.0278</td> <td>      nan</td> <td>      nan</td> <td>   nan</td> <td>      nan</td> <td>      nan</td>\n",
       "</tr>\n",
       "<tr>\n",
       "  <th>education_High school</th>                <td>    0.0167</td> <td>      nan</td> <td>      nan</td> <td>   nan</td> <td>      nan</td> <td>      nan</td>\n",
       "</tr>\n",
       "<tr>\n",
       "  <th>education_No high school</th>             <td>   -0.2118</td> <td>      nan</td> <td>      nan</td> <td>   nan</td> <td>      nan</td> <td>      nan</td>\n",
       "</tr>\n",
       "<tr>\n",
       "  <th>education_Partial high school</th>        <td>   -0.0282</td> <td>      nan</td> <td>      nan</td> <td>   nan</td> <td>      nan</td> <td>      nan</td>\n",
       "</tr>\n",
       "<tr>\n",
       "  <th>education_Some college</th>               <td>    0.0123</td> <td>      nan</td> <td>      nan</td> <td>   nan</td> <td>      nan</td> <td>      nan</td>\n",
       "</tr>\n",
       "<tr>\n",
       "  <th>household_size</th>                       <td>   -0.0342</td> <td>      nan</td> <td>      nan</td> <td>   nan</td> <td>      nan</td> <td>      nan</td>\n",
       "</tr>\n",
       "<tr>\n",
       "  <th>price_related_yr_ago_1.0</th>             <td>   -0.1543</td> <td>      nan</td> <td>      nan</td> <td>   nan</td> <td>      nan</td> <td>      nan</td>\n",
       "</tr>\n",
       "<tr>\n",
       "  <th>zlb_1.0</th>                              <td>   -0.0463</td> <td>      nan</td> <td>      nan</td> <td>   nan</td> <td>      nan</td> <td>      nan</td>\n",
       "</tr>\n",
       "<tr>\n",
       "  <th>treatment_bins_10-15</th>                 <td>   -0.1512</td> <td>      nan</td> <td>      nan</td> <td>   nan</td> <td>      nan</td> <td>      nan</td>\n",
       "</tr>\n",
       "<tr>\n",
       "  <th>treatment_bins_15-20</th>                 <td>   -0.0970</td> <td>      nan</td> <td>      nan</td> <td>   nan</td> <td>      nan</td> <td>      nan</td>\n",
       "</tr>\n",
       "<tr>\n",
       "  <th>treatment_bins_20+</th>                   <td>   -0.1271</td> <td>      nan</td> <td>      nan</td> <td>   nan</td> <td>      nan</td> <td>      nan</td>\n",
       "</tr>\n",
       "<tr>\n",
       "  <th>treatment_bins_5-10</th>                  <td>   -0.0851</td> <td>      nan</td> <td>      nan</td> <td>   nan</td> <td>      nan</td> <td>      nan</td>\n",
       "</tr>\n",
       "<tr>\n",
       "  <th>treatment_bins_Missing</th>               <td>         0</td> <td>      nan</td> <td>      nan</td> <td>   nan</td> <td>      nan</td> <td>      nan</td>\n",
       "</tr>\n",
       "<tr>\n",
       "  <th>-1.0/0.0</th>                             <td>   -1.0244</td> <td>      nan</td> <td>      nan</td> <td>   nan</td> <td>      nan</td> <td>      nan</td>\n",
       "</tr>\n",
       "<tr>\n",
       "  <th>0.0/1.0</th>                              <td>   -2.1597</td> <td>      nan</td> <td>      nan</td> <td>   nan</td> <td>      nan</td> <td>      nan</td>\n",
       "</tr>\n",
       "</table>"
      ],
      "text/plain": [
       "<class 'statsmodels.iolib.summary.Summary'>\n",
       "\"\"\"\n",
       "                             OrderedModel Results                             \n",
       "==============================================================================\n",
       "Dep. Variable:       durable_purchase   Log-Likelihood:                -76011.\n",
       "Model:                   OrderedModel   AIC:                         1.521e+05\n",
       "Method:            Maximum Likelihood   BIC:                         1.525e+05\n",
       "Date:                Sun, 04 Dec 2022                                         \n",
       "Time:                        13:26:43                                         \n",
       "No. Observations:              123973                                         \n",
       "Df Residuals:                  123935                                         \n",
       "Df Model:                          38                                         \n",
       "========================================================================================================\n",
       "                                           coef    std err          z      P>|z|      [0.025      0.975]\n",
       "--------------------------------------------------------------------------------------------------------\n",
       "fed_funds_rate                           0.2232        nan        nan        nan         nan         nan\n",
       "unemployment_rate                       -0.1205        nan        nan        nan         nan         nan\n",
       "cpi_1mo_lag                             -0.1548        nan        nan        nan         nan         nan\n",
       "cpi_durable_1mo_lag                     -0.0831        nan        nan        nan         nan         nan\n",
       "personal_finances_next_yr_Don't know    -0.1877        nan        nan        nan         nan         nan\n",
       "personal_finances_next_yr_Refused       -0.2389        nan        nan        nan         nan         nan\n",
       "personal_finances_next_yr_Same          -0.0610        nan        nan        nan         nan         nan\n",
       "personal_finances_next_yr_Worse         -0.1904        nan        nan        nan         nan         nan\n",
       "income_change_amt_next_yr               -0.0333        nan        nan        nan         nan         nan\n",
       "conditions_next_yr_Don't know           -0.1510        nan        nan        nan         nan         nan\n",
       "conditions_next_yr_Refused              -0.1895        nan        nan        nan         nan         nan\n",
       "conditions_next_yr_Same                 -0.0381        nan        nan        nan         nan         nan\n",
       "conditions_next_yr_Worse                -0.2334        nan        nan        nan         nan         nan\n",
       "unemployment_next_yr_Higher             -0.2144        nan        nan        nan         nan         nan\n",
       "unemployment_next_yr_Lower               0.0961        nan        nan        nan         nan         nan\n",
       "unemployment_next_yr_Refused            -0.1104        nan        nan        nan         nan         nan\n",
       "unemployment_next_yr_Same                0.0480        nan        nan        nan         nan         nan\n",
       "income_quintile_Lower middle            -0.0858        nan        nan        nan         nan         nan\n",
       "income_quintile_Lowest                  -0.1609        nan        nan        nan         nan         nan\n",
       "income_quintile_Middle                  -0.0660        nan        nan        nan         nan         nan\n",
       "income_quintile_Upper middle            -0.0372        nan        nan        nan         nan         nan\n",
       "age                                      0.0140        nan        nan        nan         nan         nan\n",
       "sex_Male                                 0.1034        nan        nan        nan         nan         nan\n",
       "education_Graduate school               -0.0278        nan        nan        nan         nan         nan\n",
       "education_High school                    0.0167        nan        nan        nan         nan         nan\n",
       "education_No high school                -0.2118        nan        nan        nan         nan         nan\n",
       "education_Partial high school           -0.0282        nan        nan        nan         nan         nan\n",
       "education_Some college                   0.0123        nan        nan        nan         nan         nan\n",
       "household_size                          -0.0342        nan        nan        nan         nan         nan\n",
       "price_related_yr_ago_1.0                -0.1543        nan        nan        nan         nan         nan\n",
       "zlb_1.0                                 -0.0463        nan        nan        nan         nan         nan\n",
       "treatment_bins_10-15                    -0.1512        nan        nan        nan         nan         nan\n",
       "treatment_bins_15-20                    -0.0970        nan        nan        nan         nan         nan\n",
       "treatment_bins_20+                      -0.1271        nan        nan        nan         nan         nan\n",
       "treatment_bins_5-10                     -0.0851        nan        nan        nan         nan         nan\n",
       "treatment_bins_Missing                        0        nan        nan        nan         nan         nan\n",
       "-1.0/0.0                                -1.0244        nan        nan        nan         nan         nan\n",
       "0.0/1.0                                 -2.1597        nan        nan        nan         nan         nan\n",
       "========================================================================================================\n",
       "\"\"\""
      ]
     },
     "execution_count": 11,
     "metadata": {},
     "output_type": "execute_result"
    }
   ],
   "source": [
    "# Model 1b: ordered probit (same as Bachmann et al.) with cts treatment\n",
    "mod_prob1b = OrderedModel(y_train,X_train,distr='probit')\n",
    "res_prob1b = mod_prob1b.fit(method='bfgs')\n",
    "res_prob1b.summary()"
   ]
  },
  {
   "cell_type": "code",
   "execution_count": 12,
   "metadata": {},
   "outputs": [
    {
     "name": "stdout",
     "output_type": "stream",
     "text": [
      "Baseline accuracy: 75.71%\n",
      "Train accuracy: 75.94%\n",
      "Test accuracy: 76.31%\n",
      "\n",
      "Test predictions vs actual:\n"
     ]
    },
    {
     "data": {
      "text/plain": [
       "actual  predicted\n",
       "-1.0    -1             742\n",
       "         1            5849\n",
       " 0.0    -1              24\n",
       "         1             913\n",
       " 1.0    -1             555\n",
       "         1           22911\n",
       "dtype: int64"
      ]
     },
     "execution_count": 12,
     "metadata": {},
     "output_type": "execute_result"
    }
   ],
   "source": [
    "evaluate_predictions(res_prob1b, X_train, X_test, y_train, y_test, regression=True)"
   ]
  },
  {
   "cell_type": "markdown",
   "metadata": {},
   "source": [
    "***Classification with XGBoost***"
   ]
  },
  {
   "cell_type": "code",
   "execution_count": 3,
   "metadata": {},
   "outputs": [
    {
     "name": "stdout",
     "output_type": "stream",
     "text": [
      "Excluding 12029 observations that refused or didn't know durable purchase question.\n",
      "Excluding 16763 observations that did not answer price change amount question.\n"
     ]
    }
   ],
   "source": [
    "data_xgboost, treatment_vars, confounder_vars = prep_features(data,regression=False,missing_values='retain all')  "
   ]
  },
  {
   "cell_type": "code",
   "execution_count": 14,
   "metadata": {},
   "outputs": [
    {
     "data": {
      "text/plain": [
       "[<matplotlib.lines.Line2D at 0x7f9ac3f89820>]"
      ]
     },
     "execution_count": 14,
     "metadata": {},
     "output_type": "execute_result"
    },
    {
     "data": {
      "image/png": "[encoded data removed]",
      "text/plain": [
       "<Figure size 432x288 with 1 Axes>"
      ]
     },
     "metadata": {
      "needs_background": "light"
     },
     "output_type": "display_data"
    }
   ],
   "source": [
    "# only income_change_amt_next_yr has many missing values within our chosen cts confounders\n",
    "\n",
    "# calculate percent missing for income_change_amt_next_yr by year \n",
    "pct_missing = data['income_change_amt_next_yr'].isnull().groupby(data.date.dt.year).agg(['mean','count'])\n",
    "plt.plot(pct_missing[\"mean\"])"
   ]
  },
  {
   "cell_type": "code",
   "execution_count": 15,
   "metadata": {},
   "outputs": [],
   "source": [
    "# try dropping income_change_amt_next_yr\n",
    "data_xgboost.drop(columns=['income_change_amt_next_yr'],inplace=True)  \n",
    "confounder_vars.remove('income_change_amt_next_yr')"
   ]
  },
  {
   "cell_type": "code",
   "execution_count": 16,
   "metadata": {},
   "outputs": [
    {
     "name": "stderr",
     "output_type": "stream",
     "text": [
      "/Users/drewkeller/opt/anaconda3/envs/stats/lib/python3.8/site-packages/xgboost/sklearn.py:888: UserWarning: The use of label encoder in XGBClassifier is deprecated and will be removed in a future release. To remove this warning, do the following: 1) Pass option use_label_encoder=False when constructing XGBClassifier object; and 2) Encode your labels (y) as integers starting with 0, i.e. 0, 1, 2, ..., [num_class - 1].\n",
      "  warnings.warn(label_encoder_deprecation_msg, UserWarning)\n"
     ]
    },
    {
     "name": "stdout",
     "output_type": "stream",
     "text": [
      "[13:26:45] WARNING: /opt/concourse/worker/volumes/live/7a2b9f41-3287-451b-6691-43e9a6c0910f/volume/xgboost-split_1619728204606/work/src/learner.cc:1061: Starting in XGBoost 1.3.0, the default evaluation metric used with the objective 'multi:softprob' was changed from 'merror' to 'mlogloss'. Explicitly set eval_metric if you'd like to restore the old behavior.\n"
     ]
    },
    {
     "data": {
      "text/plain": [
       "XGBClassifier(base_score=0.5, booster='gbtree', colsample_bylevel=1,\n",
       "              colsample_bynode=1, colsample_bytree=1, gamma=0, gpu_id=-1,\n",
       "              importance_type='gain', interaction_constraints='',\n",
       "              learning_rate=0.07, max_delta_step=0, max_depth=6,\n",
       "              min_child_weight=3, missing=nan, monotone_constraints='()',\n",
       "              n_estimators=120, n_jobs=8, num_parallel_tree=1,\n",
       "              objective='multi:softprob', random_state=0, reg_alpha=0,\n",
       "              reg_lambda=1, scale_pos_weight=None, subsample=1,\n",
       "              tree_method='exact', validate_parameters=1, verbosity=None)"
      ]
     },
     "execution_count": 16,
     "metadata": {},
     "output_type": "execute_result"
    }
   ],
   "source": [
    "# Model 2: XGBoost with binned treatment\n",
    "\n",
    "X = data_xgboost[confounder_vars+treatment_vars]\n",
    "Y = data_xgboost['durable_purchase']\n",
    "X_train, X_test, y_train, y_test = train_test_split(X, Y, test_size=0.2, random_state=7)\n",
    "model2 = xgb.XGBClassifier(learning_rate=0.07,max_depth=6,n_estimators=120,min_child_weight=3)\n",
    "model2.fit(X_train, y_train)"
   ]
  },
  {
   "cell_type": "code",
   "execution_count": 29,
   "metadata": {},
   "outputs": [
    {
     "name": "stdout",
     "output_type": "stream",
     "text": [
      "Baseline accuracy: 73.88%\n",
      "Train accuracy: 75.65%\n",
      "Test accuracy: 74.93%\n",
      "\n",
      "Test predictions vs actual:\n"
     ]
    },
    {
     "data": {
      "text/plain": [
       "actual  predicted\n",
       "0       0             1502\n",
       "        2             8278\n",
       "1       0               91\n",
       "        2             1544\n",
       "2       0             1042\n",
       "        2            31242\n",
       "dtype: int64"
      ]
     },
     "execution_count": 29,
     "metadata": {},
     "output_type": "execute_result"
    }
   ],
   "source": [
    "evaluate_predictions(model2, X_train, X_test, y_train, y_test)"
   ]
  },
  {
   "cell_type": "code",
   "execution_count": 30,
   "metadata": {},
   "outputs": [
    {
     "data": {
      "text/plain": [
       "<AxesSubplot:title={'center':'Feature importance'}, xlabel='F score', ylabel='Features'>"
      ]
     },
     "execution_count": 30,
     "metadata": {},
     "output_type": "execute_result"
    },
    {
     "data": {
      "image/png": "[encoded data removed]",
      "text/plain": [
       "<Figure size 1080x720 with 1 Axes>"
      ]
     },
     "metadata": {
      "needs_background": "light"
     },
     "output_type": "display_data"
    }
   ],
   "source": [
    "plt.rcParams['figure.figsize'] = [15, 10]\n",
    "xgb.plot_importance(model2)"
   ]
  },
  {
   "cell_type": "code",
   "execution_count": 4,
   "metadata": {},
   "outputs": [
    {
     "name": "stdout",
     "output_type": "stream",
     "text": [
      "Excluding 12029 observations that refused or didn't know durable purchase question.\n",
      "Excluding 16763 observations that did not answer price change amount question.\n"
     ]
    }
   ],
   "source": [
    "data_xgboost, treatment_vars, confounder_vars = prep_features(data,regression=False,missing_values='retain all')  "
   ]
  },
  {
   "cell_type": "code",
   "execution_count": 32,
   "metadata": {},
   "outputs": [
    {
     "data": {
      "text/plain": [
       "XGBClassifier(base_score=0.5, booster='gbtree', colsample_bylevel=1,\n",
       "              colsample_bynode=1, colsample_bytree=1, eval_metric='logloss',\n",
       "              gamma=0, gpu_id=-1, importance_type='gain',\n",
       "              interaction_constraints='', learning_rate=0.07, max_delta_step=0,\n",
       "              max_depth=4, min_child_weight=1, missing=nan,\n",
       "              monotone_constraints='()', n_estimators=120, n_jobs=8,\n",
       "              num_parallel_tree=1, random_state=0, reg_alpha=0, reg_lambda=1,\n",
       "              scale_pos_weight=1, subsample=1, tree_method='exact',\n",
       "              use_label_encoder=False, validate_parameters=1, verbosity=None)"
      ]
     },
     "execution_count": 32,
     "metadata": {},
     "output_type": "execute_result"
    }
   ],
   "source": [
    "# try multiple classifiers\n",
    "\n",
    "data_xgboost = rebin_outcome(data_xgboost)\n",
    "X = data_xgboost[confounder_vars+treatment_vars]\n",
    "Y = data_xgboost[['durable_purchase','durable_good','durable_bad']]\n",
    "Xa, Xb, ya, yb = train_test_split(X, Y, test_size=0.5, random_state=7)  # just switch train and test\n",
    "ya_good = ya['durable_good']\n",
    "ya_bad = ya['durable_bad']\n",
    "yb_good = yb['durable_good']\n",
    "yb_bad = yb['durable_bad']\n",
    "\n",
    "model3a = xgb.XGBClassifier(\n",
    "    learning_rate=0.07,max_depth=4,n_estimators=120,min_child_weight=1,\n",
    "    eval_metric='logloss',use_label_encoder=False)\n",
    "model3a.fit(Xa, ya_good)\n",
    "\n",
    "model3b = xgb.XGBClassifier(\n",
    "    learning_rate=0.07,max_depth=4,n_estimators=120,min_child_weight=1,\n",
    "    eval_metric='logloss',use_label_encoder=False)\n",
    "model3b.fit(Xb, yb_bad)"
   ]
  },
  {
   "cell_type": "code",
   "execution_count": 36,
   "metadata": {},
   "outputs": [
    {
     "name": "stdout",
     "output_type": "stream",
     "text": [
      "{(1.0, 0.0): 97091, (0.0, 0.0): 6595, (1.0, 1.0): 5183, (0.0, 1.0): 378}\n",
      "1    0.73897\n",
      "0    0.26103\n",
      "Name: durable_good, dtype: float64\n",
      "1    0.936173\n",
      "0    0.063827\n",
      "dtype: float64\n",
      "0    0.77506\n",
      "1    0.22494\n",
      "Name: durable_bad, dtype: float64\n",
      "0    0.949097\n",
      "1    0.050903\n",
      "dtype: float64\n"
     ]
    }
   ],
   "source": [
    "ya_pred = model3a.predict(Xb)\n",
    "yb_pred = model3b.predict(Xa)\n",
    "print(pd.DataFrame([ya_pred,yb_pred]).T.value_counts().to_dict())\n",
    "print(yb_good.value_counts(normalize=True))\n",
    "print(pd.Series(ya_pred).value_counts(normalize=True))\n",
    "print(ya_bad.value_counts(normalize=True))\n",
    "print(pd.Series(yb_pred).value_counts(normalize=True))"
   ]
  },
  {
   "cell_type": "code",
   "execution_count": 38,
   "metadata": {},
   "outputs": [
    {
     "name": "stdout",
     "output_type": "stream",
     "text": [
      "{(1.0, 0.0): 97016, (0.0, 0.0): 6681, (1.0, 1.0): 5154, (0.0, 1.0): 396}\n",
      "1    0.737521\n",
      "0    0.262479\n",
      "Name: durable_good, dtype: float64\n",
      "1    0.93522\n",
      "0    0.06478\n",
      "dtype: float64\n",
      "0    0.775611\n",
      "1    0.224389\n",
      "Name: durable_bad, dtype: float64\n",
      "0    0.949198\n",
      "1    0.050802\n",
      "dtype: float64\n"
     ]
    }
   ],
   "source": [
    "ya_pred = model3a.predict(Xa)\n",
    "yb_pred = model3b.predict(Xb)\n",
    "print(pd.DataFrame([ya_pred,yb_pred]).T.value_counts().to_dict())\n",
    "print(ya_good.value_counts(normalize=True))\n",
    "print(pd.Series(ya_pred).value_counts(normalize=True))\n",
    "print(yb_bad.value_counts(normalize=True))\n",
    "print(pd.Series(yb_pred).value_counts(normalize=True))"
   ]
  },
  {
   "cell_type": "code",
   "execution_count": 39,
   "metadata": {},
   "outputs": [
    {
     "name": "stdout",
     "output_type": "stream",
     "text": [
      "Baseline accuracy: 73.88%\n",
      "Train accuracy: 74.46%\n",
      "Test accuracy: 74.17%\n",
      "\n",
      "Test predictions vs actual:\n"
     ]
    },
    {
     "data": {
      "text/plain": [
       "actual  predicted\n",
       "0       -1              37\n",
       "         0            1247\n",
       "         1             303\n",
       "         2            8193\n",
       "1       -1               1\n",
       "         0              75\n",
       "         1              31\n",
       "         2            1528\n",
       "2       -1              29\n",
       "         0             809\n",
       "         1             314\n",
       "         2           31132\n",
       "dtype: int64"
      ]
     },
     "execution_count": 39,
     "metadata": {},
     "output_type": "execute_result"
    }
   ],
   "source": [
    "data_xgboost = rebin_outcome(data_xgboost)\n",
    "X = data_xgboost[confounder_vars+treatment_vars]\n",
    "Y = data_xgboost[['durable_purchase','durable_good','durable_bad']]\n",
    "X_train, X_test, y_train, y_test = train_test_split(X, Y, test_size=0.2, random_state=7)\n",
    "ya_train = y_train['durable_good']\n",
    "yb_train = y_train['durable_bad']\n",
    "ya_test = y_test['durable_good']\n",
    "yb_test = y_test['durable_bad']\n",
    "\n",
    "model3a = xgb.XGBClassifier(\n",
    "    learning_rate=0.07,max_depth=4,n_estimators=120,min_child_weight=1,\n",
    "    eval_metric='logloss',use_label_encoder=False)\n",
    "model3a.fit(X_train, np.array(ya_train).astype(int))\n",
    "\n",
    "model3b = xgb.XGBClassifier(\n",
    "    learning_rate=0.05,max_depth=5,n_estimators=150,min_child_weight=3,\n",
    "    eval_metric='logloss',use_label_encoder=False)\n",
    "model3b.fit(X_train, np.array(yb_train).astype(int))\n",
    "\n",
    "evaluate_multilevel_predictions(model3a, model3b, X_train, X_test, y_train, y_test)"
   ]
  },
  {
   "cell_type": "markdown",
   "metadata": {},
   "source": [
    "***Classification with NN***"
   ]
  },
  {
   "cell_type": "code",
   "execution_count": null,
   "metadata": {},
   "outputs": [],
   "source": [
    "# model 3: large neural network just to see if we can overfit at least\n",
    "model3 = MLPClassifier(hidden_layer_sizes=(100,100), max_iter=1000)\n",
    "model3.fit(X_train, y_train)"
   ]
  },
  {
   "cell_type": "code",
   "execution_count": null,
   "metadata": {},
   "outputs": [
    {
     "data": {
      "text/plain": [
       "15603"
      ]
     },
     "execution_count": 35,
     "metadata": {},
     "output_type": "execute_result"
    }
   ],
   "source": [
    "num_params = sum([coef.shape[0] * coef.shape[1] for coef in model3.coefs_])\n",
    "num_params += sum([intercept.shape[0] for intercept in model3.intercepts_])\n",
    "num_params"
   ]
  },
  {
   "cell_type": "code",
   "execution_count": null,
   "metadata": {},
   "outputs": [
    {
     "name": "stdout",
     "output_type": "stream",
     "text": [
      "Baseline accuracy: 71.63%\n",
      "Train accuracy: 76.52%\n",
      "Test accuracy: 70.52%\n",
      "\n",
      "Test predictions vs actual:\n"
     ]
    },
    {
     "data": {
      "text/plain": [
       "actual  predicted\n",
       "0.0     0             3076\n",
       "        1              109\n",
       "        2             9738\n",
       "1.0     0              307\n",
       "        1               30\n",
       "        2             1916\n",
       "2.0     0             3495\n",
       "        1              206\n",
       "        2            34619\n",
       "dtype: int64"
      ]
     },
     "execution_count": 30,
     "metadata": {},
     "output_type": "execute_result"
    }
   ],
   "source": [
    "evaluate_predictions(model3, X_train, X_test, y_train, y_test,regression=False)"
   ]
  },
  {
   "cell_type": "markdown",
   "metadata": {},
   "source": [
    "***AIPW Estimation***"
   ]
  },
  {
   "cell_type": "code",
   "execution_count": 5,
   "metadata": {},
   "outputs": [],
   "source": [
    "# Conditional outcome models (Q models)\n",
    "def make_Q_model(model_type):\n",
    "    ''' A function that returns a general ML q model for later use in k-folding'''\n",
    "    if model_type == 'fast':\n",
    "        return xgb.XGBClassifier(eval_metric = 'mlogloss'), 2\n",
    "    else:\n",
    "        return xgb.XGBClassifier(\n",
    "            eval_metric = 'mlogloss',learning_rate=0.05,max_depth=5,n_estimators=150,min_child_weight=3), 5\n",
    "\n",
    "\n",
    "# Propensity score models (g models)\n",
    "def make_g_model(model_type):\n",
    "    ''' A function that returns a g model for computing propensity scores'''\n",
    "    if model_type == 'fast':\n",
    "        return xgb.XGBClassifier(eval_metric = 'mlogloss'), 2\n",
    "    else:\n",
    "        return xgb.XGBClassifier(\n",
    "            eval_metric = 'mlogloss',learning_rate=0.07,max_depth=6,n_estimators=120,min_child_weight=1), 5"
   ]
  },
  {
   "cell_type": "code",
   "execution_count": 6,
   "metadata": {},
   "outputs": [],
   "source": [
    "# Functions for K-fold cross-fitting\n",
    "def treatment_k_fold_fit_and_predict(X:pd.DataFrame, A:np.array, model_type='slow'):\n",
    "    '''\n",
    "    Implements K fold cross-fitting for the model predicting the treatment A. \n",
    "    That is, \n",
    "    1. Split data into K folds\n",
    "    2. For each fold j, the model is fit on the other K-1 folds\n",
    "    3. The fitted model is used to make predictions for each data point in fold j\n",
    "    Returns an array containing the predictions  \n",
    "\n",
    "    Args:\n",
    "    model: function that returns sklearn model (which implements fit and predict_prob)\n",
    "    X: dataframe of variables to adjust for\n",
    "    A: array of treatments\n",
    "    n_splits: number of splits to use\n",
    "    '''\n",
    "\n",
    "    make_model, n_splits = make_g_model(model_type)\n",
    "\n",
    "    predictions = np.empty((len(X),5), dtype=float)  # row per obs, col per treatment bin\n",
    "    kf = StratifiedKFold(n_splits=n_splits, shuffle=True, random_state=RANDOM_SEED)\n",
    "\n",
    "    kf.split(X, A)\n",
    "    for train_index, test_index in kf.split(X, A):\n",
    "        X_train = X.iloc[train_index]\n",
    "        A_train = A.iloc[train_index]\n",
    "        g = make_model\n",
    "        g.fit(X_train, A_train)\n",
    "        \n",
    "        # get predictions for split\n",
    "        predictions[test_index] = g.predict_proba(X.iloc[test_index])\n",
    "    \n",
    "    # sanity check that overlap holds\n",
    "    assert np.isnan(predictions).sum() == 0\n",
    "\n",
    "    return predictions, g\n",
    "\n",
    "\n",
    "def conditionalize_on_column(g,col_index=0):\n",
    "    divisors = g+g[:,col_index][:,np.newaxis]\n",
    "    g_cond = g / divisors\n",
    "    g_cond[:,col_index] = 1  # won't use, but for completeness\n",
    "    return g_cond\n",
    "\n",
    "\n",
    "def outcome_k_fold_fit_and_predict(\n",
    "    X:pd.DataFrame, y:np.array, A:pd.DataFrame, model_type='slow', output_type='categorical'):\n",
    "    '''\n",
    "    Implements K fold cross-fitting for the model predicting the outcome Y. \n",
    "    That is, \n",
    "    1. Split data into K folds\n",
    "    2. For each fold j, the model is fit on the other K-1 folds\n",
    "    3. The fitted model is used to make predictions for each data point in fold j\n",
    "    Returns two arrays containing the predictions for all units untreated, all units treated  \n",
    "\n",
    "    Args:\n",
    "    model: function that returns sklearn model (that implements fit and either predict_prob or predict)\n",
    "    X: dataframe of variables to adjust for\n",
    "    y: array of outcomes\n",
    "    A: array of treatments\n",
    "    output_type: type of outcome, \"categorical\" or \"continuous\"\n",
    "    '''\n",
    "\n",
    "    make_model, n_splits = make_Q_model(model_type)\n",
    "\n",
    "    # initialize: row per obs, col per outcome\n",
    "    predictions0 = np.empty((len(X),3), dtype=float)\n",
    "    predictions1 = np.empty((len(X),3), dtype=float)\n",
    "    predictions2 = np.empty((len(X),3), dtype=float)\n",
    "    predictions3 = np.empty((len(X),3), dtype=float)\n",
    "    predictions4 = np.empty((len(X),3), dtype=float)\n",
    "\n",
    "    if output_type == 'categorical':\n",
    "        kf = StratifiedKFold(n_splits=n_splits, shuffle=True, random_state=RANDOM_SEED)\n",
    "    elif output_type == 'continuous':\n",
    "        kf = KFold(n_splits=n_splits, shuffle=True, random_state=RANDOM_SEED)\n",
    "\n",
    "    # for predicting effect under treatment / control status for each data point \n",
    "    X_w_treatment = pd.concat(\n",
    "        [X, pd.DataFrame(0, columns=A.columns,index=A.index)], axis=1)\n",
    "    X0 = X_w_treatment.copy()\n",
    "    X0[\"treatment_bins_0.0\"] = 1\n",
    "    X1 = X_w_treatment.copy()\n",
    "    X1[\"treatment_bins_1.0\"] = 1\n",
    "    X2 = X_w_treatment.copy()\n",
    "    X2[\"treatment_bins_2.0\"] = 1\n",
    "    X3 = X_w_treatment.copy()\n",
    "    X3[\"treatment_bins_3.0\"] = 1\n",
    "    X4 = X_w_treatment.copy()\n",
    "    X4[\"treatment_bins_4.0\"] = 1\n",
    "\n",
    "    # include the treatment as input feature\n",
    "    X_w_treatment = pd.concat([X, A], axis=1)\n",
    "\n",
    "    for train_index, test_index in kf.split(X_w_treatment, np.transpose(y)):\n",
    "        X_train = X_w_treatment.iloc[train_index]\n",
    "        y_train = y.iloc[train_index]\n",
    "        q = make_model\n",
    "        q.fit(X_train, y_train)\n",
    "\n",
    "        if output_type =='categorical':\n",
    "            predictions0[test_index,:] = q.predict_proba(X0.iloc[test_index])\n",
    "            predictions1[test_index,:] = q.predict_proba(X1.iloc[test_index])\n",
    "            predictions2[test_index,:] = q.predict_proba(X2.iloc[test_index])\n",
    "            predictions3[test_index,:] = q.predict_proba(X3.iloc[test_index])\n",
    "            predictions4[test_index,:] = q.predict_proba(X4.iloc[test_index])\n",
    "        elif output_type == 'continuous':\n",
    "            predictions0[test_index,:] = q.predict(X0.iloc[test_index])\n",
    "            predictions1[test_index,:] = q.predict(X1.iloc[test_index])\n",
    "\n",
    "    assert np.isnan(predictions0).sum() == 0\n",
    "    assert np.isnan(predictions1).sum() == 0\n",
    "    return predictions0, predictions1, predictions2, predictions3, predictions4, q\n",
    "\n",
    "\n",
    "def ate_aiptw(Q_control, Q_treat, g, A, Y, prob_t=None):\n",
    "    \"\"\"Double ML estimator for the ATE\n",
    "    Return: aiptw of ATE and its standard error\"\"\"\n",
    "\n",
    "    # number of observations\n",
    "    n = Y.shape[0]\n",
    "\n",
    "    # ate aiptw\"\n",
    "    tau_hat = (Q_treat - Q_control + A*(Y-Q_treat)/g - (1-A)*(Y-Q_control)/(1-g)).mean()\n",
    "    \n",
    "    # influence curve and standard error of aiptw\n",
    "    phi = Q_treat - Q_control + A*(Y-Q_treat)/g - (1-A)*(Y-Q_control)/(1-g) - tau_hat\n",
    "    std_hat = np.std(phi) / np.sqrt(n)\n",
    "    \n",
    "    return tau_hat, std_hat"
   ]
  },
  {
   "cell_type": "code",
   "execution_count": 7,
   "metadata": {},
   "outputs": [
    {
     "name": "stdout",
     "output_type": "stream",
     "text": [
      "Excluding 12029 observations that refused or didn't know durable purchase question.\n",
      "Excluding 16763 observations that did not answer price change amount question.\n"
     ]
    }
   ],
   "source": [
    "data_xgboost, treatment_vars, confounder_vars = prep_features(data,regression=False,missing_values='retain all')  "
   ]
  },
  {
   "cell_type": "code",
   "execution_count": 8,
   "metadata": {},
   "outputs": [],
   "source": [
    "# Fit Q(A,X) model\n",
    "# get conditional outcomes\n",
    "Q0, Q1, Q2, Q3, Q4, q_importance = outcome_k_fold_fit_and_predict(\n",
    "    X=data_xgboost[confounder_vars], y=data_xgboost[\"durable_purchase\"], A=data_xgboost[treatment_vars[:-1]])"
   ]
  },
  {
   "cell_type": "code",
   "execution_count": 10,
   "metadata": {},
   "outputs": [],
   "source": [
    "# Fit g(x) model\n",
    "g, g_importance = treatment_k_fold_fit_and_predict(X=data_xgboost[confounder_vars], A=data_xgboost[\"treatment_bins\"])"
   ]
  },
  {
   "cell_type": "code",
   "execution_count": 50,
   "metadata": {},
   "outputs": [],
   "source": [
    "g_cond = conditionalize_on_column(g)"
   ]
  },
  {
   "cell_type": "code",
   "execution_count": 51,
   "metadata": {},
   "outputs": [
    {
     "data": {
      "text/html": [
       "<div>\n",
       "<style scoped>\n",
       "    .dataframe tbody tr th:only-of-type {\n",
       "        vertical-align: middle;\n",
       "    }\n",
       "\n",
       "    .dataframe tbody tr th {\n",
       "        vertical-align: top;\n",
       "    }\n",
       "\n",
       "    .dataframe thead th {\n",
       "        text-align: right;\n",
       "    }\n",
       "</style>\n",
       "<table border=\"1\" class=\"dataframe\">\n",
       "  <thead>\n",
       "    <tr style=\"text-align: right;\">\n",
       "      <th></th>\n",
       "      <th>outcome</th>\n",
       "      <th>treatment</th>\n",
       "      <th>ATE</th>\n",
       "      <th>std</th>\n",
       "      <th>p-value</th>\n",
       "      <th>95% significant</th>\n",
       "    </tr>\n",
       "  </thead>\n",
       "  <tbody>\n",
       "    <tr>\n",
       "      <th>0</th>\n",
       "      <td>Negative</td>\n",
       "      <td>5-10% inflation</td>\n",
       "      <td>0.0221</td>\n",
       "      <td>0.0028</td>\n",
       "      <td>2.953456e-15</td>\n",
       "      <td>Yes</td>\n",
       "    </tr>\n",
       "    <tr>\n",
       "      <th>1</th>\n",
       "      <td>Negative</td>\n",
       "      <td>10-15% inflation</td>\n",
       "      <td>0.0413</td>\n",
       "      <td>0.0058</td>\n",
       "      <td>1.073884e-12</td>\n",
       "      <td>Yes</td>\n",
       "    </tr>\n",
       "    <tr>\n",
       "      <th>2</th>\n",
       "      <td>Negative</td>\n",
       "      <td>15-20% inflation</td>\n",
       "      <td>0.0411</td>\n",
       "      <td>0.0078</td>\n",
       "      <td>1.369966e-07</td>\n",
       "      <td>Yes</td>\n",
       "    </tr>\n",
       "    <tr>\n",
       "      <th>3</th>\n",
       "      <td>Negative</td>\n",
       "      <td>20+% inflation</td>\n",
       "      <td>0.0234</td>\n",
       "      <td>0.0056</td>\n",
       "      <td>2.933459e-05</td>\n",
       "      <td>Yes</td>\n",
       "    </tr>\n",
       "    <tr>\n",
       "      <th>4</th>\n",
       "      <td>Neutral</td>\n",
       "      <td>5-10% inflation</td>\n",
       "      <td>0.0032</td>\n",
       "      <td>0.0014</td>\n",
       "      <td>2.227098e-02</td>\n",
       "      <td>Yes</td>\n",
       "    </tr>\n",
       "    <tr>\n",
       "      <th>5</th>\n",
       "      <td>Neutral</td>\n",
       "      <td>10-15% inflation</td>\n",
       "      <td>0.0003</td>\n",
       "      <td>0.0024</td>\n",
       "      <td>9.005236e-01</td>\n",
       "      <td>No</td>\n",
       "    </tr>\n",
       "    <tr>\n",
       "      <th>6</th>\n",
       "      <td>Neutral</td>\n",
       "      <td>15-20% inflation</td>\n",
       "      <td>0.0006</td>\n",
       "      <td>0.0030</td>\n",
       "      <td>8.414806e-01</td>\n",
       "      <td>No</td>\n",
       "    </tr>\n",
       "    <tr>\n",
       "      <th>7</th>\n",
       "      <td>Neutral</td>\n",
       "      <td>20+% inflation</td>\n",
       "      <td>0.0031</td>\n",
       "      <td>0.0024</td>\n",
       "      <td>1.964726e-01</td>\n",
       "      <td>No</td>\n",
       "    </tr>\n",
       "    <tr>\n",
       "      <th>8</th>\n",
       "      <td>Positive</td>\n",
       "      <td>5-10% inflation</td>\n",
       "      <td>-0.0253</td>\n",
       "      <td>0.0030</td>\n",
       "      <td>3.359560e-17</td>\n",
       "      <td>Yes</td>\n",
       "    </tr>\n",
       "    <tr>\n",
       "      <th>9</th>\n",
       "      <td>Positive</td>\n",
       "      <td>10-15% inflation</td>\n",
       "      <td>-0.0416</td>\n",
       "      <td>0.0060</td>\n",
       "      <td>4.110381e-12</td>\n",
       "      <td>Yes</td>\n",
       "    </tr>\n",
       "    <tr>\n",
       "      <th>10</th>\n",
       "      <td>Positive</td>\n",
       "      <td>15-20% inflation</td>\n",
       "      <td>-0.0417</td>\n",
       "      <td>0.0079</td>\n",
       "      <td>1.302592e-07</td>\n",
       "      <td>Yes</td>\n",
       "    </tr>\n",
       "    <tr>\n",
       "      <th>11</th>\n",
       "      <td>Positive</td>\n",
       "      <td>20+% inflation</td>\n",
       "      <td>-0.0265</td>\n",
       "      <td>0.0058</td>\n",
       "      <td>4.901374e-06</td>\n",
       "      <td>Yes</td>\n",
       "    </tr>\n",
       "  </tbody>\n",
       "</table>\n",
       "</div>"
      ],
      "text/plain": [
       "     outcome         treatment     ATE     std       p-value 95% significant\n",
       "0   Negative   5-10% inflation  0.0221  0.0028  2.953456e-15             Yes\n",
       "1   Negative  10-15% inflation  0.0413  0.0058  1.073884e-12             Yes\n",
       "2   Negative  15-20% inflation  0.0411  0.0078  1.369966e-07             Yes\n",
       "3   Negative    20+% inflation  0.0234  0.0056  2.933459e-05             Yes\n",
       "4    Neutral   5-10% inflation  0.0032  0.0014  2.227098e-02             Yes\n",
       "5    Neutral  10-15% inflation  0.0003  0.0024  9.005236e-01              No\n",
       "6    Neutral  15-20% inflation  0.0006  0.0030  8.414806e-01              No\n",
       "7    Neutral    20+% inflation  0.0031  0.0024  1.964726e-01              No\n",
       "8   Positive   5-10% inflation -0.0253  0.0030  3.359560e-17             Yes\n",
       "9   Positive  10-15% inflation -0.0416  0.0060  4.110381e-12             Yes\n",
       "10  Positive  15-20% inflation -0.0417  0.0079  1.302592e-07             Yes\n",
       "11  Positive    20+% inflation -0.0265  0.0058  4.901374e-06             Yes"
      ]
     },
     "execution_count": 51,
     "metadata": {},
     "output_type": "execute_result"
    }
   ],
   "source": [
    "# Let's do a table of effects! \n",
    "\n",
    "outcomes = ['durable_purchase_0','durable_purchase_1','durable_purchase_2']\n",
    "treatments = treatment_vars[1:-1]\n",
    "\n",
    "estimates = pd.DataFrame(columns={'outcome':'','treatment':'','ATE':0.0,'std':0.0})\n",
    "for outcome in outcomes:\n",
    "    for treatment in treatments:\n",
    "        data_and_nuisance_estimates_xgb = pd.DataFrame(\n",
    "            {'g': g_cond[:,int(treatment[-3])], 'Q_control': Q0[:,int(outcome[-1])], 'Q_treat': Q1[:,int(outcome[-1])],\n",
    "            'A': data_xgboost[treatment], 'Y': data_xgboost[outcome]})\n",
    "        tau_hat, std_hat = ate_aiptw(**data_and_nuisance_estimates_xgb)\n",
    "        #estimates.loc[estimates['outcome']=='',:] = [outcome,treatment,tau_hat,std_hat]\n",
    "        estimates = estimates.append({\n",
    "            'outcome':outcome,'treatment':treatment,'ATE':round(tau_hat,4),'std':round(std_hat,4)},\n",
    "            ignore_index=True)\n",
    "\n",
    "# calculate p-values (two-tailed)\n",
    "estimates['p-value'] = 2*(norm.sf(abs(estimates['ATE']/estimates['std'])))\n",
    "estimates['95% significant'] = np.where(abs(estimates['ATE']) > 1.96*estimates['std'], 'Yes', 'No')\n",
    "\n",
    "estimates.replace(to_replace={\n",
    "    'durable_purchase_0':'Negative',\n",
    "    'durable_purchase_1':'Neutral',\n",
    "    'durable_purchase_2':'Positive',\n",
    "    'treatment_bins_1.0':'5-10% inflation',\n",
    "    'treatment_bins_2.0':'10-15% inflation',\n",
    "    'treatment_bins_3.0':'15-20% inflation',\n",
    "    'treatment_bins_4.0':'20+% inflation'},\n",
    "    inplace=True)\n",
    "\n",
    "estimates"
   ]
  },
  {
   "cell_type": "code",
   "execution_count": 28,
   "metadata": {},
   "outputs": [
    {
     "data": {
      "text/plain": [
       "<AxesSubplot: title={'center': 'Feature importance'}, xlabel='F score', ylabel='Features'>"
      ]
     },
     "execution_count": 28,
     "metadata": {},
     "output_type": "execute_result"
    },
    {
     "data": {
      "image/png": "[encoded data removed]",
      "text/plain": [
       "<Figure size 1500x1000 with 1 Axes>"
      ]
     },
     "metadata": {},
     "output_type": "display_data"
    }
   ],
   "source": [
    "# Plotting Q model importance\n",
    "plt.rcParams['figure.figsize'] = [15, 10]\n",
    "xgb.plot_importance(q_importance, max_num_features=10)"
   ]
  },
  {
   "cell_type": "code",
   "execution_count": 27,
   "metadata": {},
   "outputs": [
    {
     "data": {
      "text/plain": [
       "<AxesSubplot: title={'center': 'Feature importance'}, xlabel='F score', ylabel='Features'>"
      ]
     },
     "execution_count": 27,
     "metadata": {},
     "output_type": "execute_result"
    },
    {
     "data": {
      "image/png": "[encoded data removed]",
      "text/plain": [
       "<Figure size 1500x1000 with 1 Axes>"
      ]
     },
     "metadata": {},
     "output_type": "display_data"
    }
   ],
   "source": [
    "# Plotting g model importance\n",
    "plt.rcParams['figure.figsize'] = [15, 10]\n",
    "xgb.plot_importance(g_importance, max_num_features=10)"
   ]
  },
  {
   "cell_type": "markdown",
   "metadata": {},
   "source": [
    "_Some old stuff keeping just in case for now - delete later_"
   ]
  },
  {
   "cell_type": "code",
   "execution_count": null,
   "metadata": {},
   "outputs": [],
   "source": [
    "# Need to select the desired column of the Q predictions! ie one of {0,1,2}\n",
    "# Need to select the desired column of the g_cond predictions! ie one of {1,2,3,4} (don't use 0! it's untreated)\n",
    "\n",
    "# AIPW for Good for 5-10% inflation predictors compared to 0-5%\n",
    "data_and_nuisance_estimates_xgb = pd.DataFrame(\n",
    "    {'g': g_cond[:,1], 'Q_control': Q0[:,2], 'Q_treat': Q1[:,2],\n",
    "    'A': data_xgboost[\"treatment_bins_1.0\"], 'Y': data_xgboost[\"durable_purchase_2\"]})\n",
    "tau_hat, std_hat = ate_aiptw(**data_and_nuisance_estimates_xgb)\n",
    "print(f\"The ATE AIPTW is {tau_hat} with a std = {std_hat}\")\n",
    "\n",
    "# Pre-Wesley's changes 12/6: The ATE AIPTW is 0.5910816442549504 with a std = 0.015243537827750696"
   ]
  },
  {
   "cell_type": "code",
   "execution_count": 17,
   "metadata": {},
   "outputs": [
    {
     "name": "stdout",
     "output_type": "stream",
     "text": [
      "The ATE AIPTW is -0.0256634274986595 with a std = 0.0036139236682537173\n"
     ]
    }
   ],
   "source": [
    "# Probably need to conditionalize the Q predictions too??\n",
    "# 12/6 update: probably not actually\n",
    "\n",
    "# AIPW for Good for 10-15% inflation predictors compared to 0-5%, Q conditional\n",
    "q0_cond = conditionalize_on_column(Q0)\n",
    "q1_cond = conditionalize_on_column(Q1)\n",
    "data_and_nuisance_estimates_xgb = pd.DataFrame(\n",
    "    {'g': g_cond[:,1], 'Q_control': q0_cond[:,2], 'Q_treat': q1_cond[:,2],\n",
    "    'A': data_xgboost[\"treatment_bins_1.0\"], 'Y': data_xgboost[\"durable_purchase_2\"]})\n",
    "tau_hat, std_hat = ate_aiptw(**data_and_nuisance_estimates_xgb)\n",
    "print(f\"The ATE AIPTW is {tau_hat} with a std = {std_hat}\")\n"
   ]
  },
  {
   "cell_type": "code",
   "execution_count": 10,
   "metadata": {},
   "outputs": [
    {
     "name": "stdout",
     "output_type": "stream",
     "text": [
      "The ATE AIPTW is 1.272947023869124 with a std = 0.021873424846318285\n"
     ]
    }
   ],
   "source": [
    "# old - this won't work anymore\n",
    "\n",
    "data_and_nuisance_estimates_xgb = pd.DataFrame(\n",
    "    {'g': g, 'Q_control': Q0_lm, 'Q_treat': Q1_lm, 'A': data_xgboost[\"treatment_bins\"], 'Y': data_xgboost[\"durable_purchase\"]})\n",
    "\n",
    "# AIPW for 5-10% inflation predictors compared to 0-5%\n",
    "tau_hat, std_hat = ate_aiptw(**data_and_nuisance_estimates_xgb)\n",
    "print(f\"The ATE AIPTW is {tau_hat} with a std = {std_hat}\")"
   ]
  }
 ],
 "metadata": {
  "kernelspec": {
   "display_name": "Python 3.9.6 64-bit",
   "language": "python",
   "name": "python3"
  },
  "language_info": {
   "codemirror_mode": {
    "name": "ipython",
    "version": 3
   },
   "file_extension": ".py",
   "mimetype": "text/x-python",
   "name": "python",
   "nbconvert_exporter": "python",
   "pygments_lexer": "ipython3",
   "version": "3.9.6"
  },
  "orig_nbformat": 4,
  "vscode": {
   "interpreter": {
    "hash": "31f2aee4e71d21fbe5cf8b01ff0e069b9275f58929596ceb00d14d90e3e16cd6"
   }
  }
 },
 "nbformat": 4,
 "nbformat_minor": 2
}
