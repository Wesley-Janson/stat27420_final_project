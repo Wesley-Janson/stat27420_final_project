{
 "cells": [
  {
   "cell_type": "markdown",
   "metadata": {},
   "source": [
    "### Wesley Janson and Drew Keller\n",
    "## STAT 27420 Final Project\n",
    "# Modeling Code"
   ]
  },
  {
   "cell_type": "code",
   "execution_count": 1,
   "metadata": {},
   "outputs": [],
   "source": [
    "from load_data import data"
   ]
  },
  {
   "cell_type": "code",
   "execution_count": 5,
   "metadata": {},
   "outputs": [],
   "source": [
    "# Load in relevant packages\n",
    "# Will need to \"pip3 install statsmodels\", \"pip3 install xgboost\"\n",
    "\n",
    "import pandas as pd\n",
    "from statsmodels.miscmodels.ordinal_model import OrderedModel\n",
    "from sklearn.model_selection import train_test_split\n",
    "from sklearn import tree\n",
    "from sklearn.metrics import accuracy_score, recall_score, precision_score, f1_score\n",
    "import xgboost as xgb # This one?\n",
    "from sklearn.ensemble import GradientBoostingClassifier # Or this one?\n",
    "\n",
    "from load_data import data\n",
    "\n",
    "# loading data from online takes ~20 seconds\n",
    "# to speed up, save data locally and load from there:\n",
    "# DATA_PATH = '<REPLACE>'\n",
    "# data.to_csv(DATA_PATH)  # run this once\n",
    "# data = pd.read_csv(DATA_PATH)  # comment out \"from load_data\" line and run this from now on"
   ]
  },
  {
   "cell_type": "code",
   "execution_count": null,
   "metadata": {},
   "outputs": [],
   "source": [
    "# First model, ordered probit-same as Bachmann et al.\n",
    "mod_prob = OrderedModel(data['YVAR'],\n",
    "                        data[['X1', 'X2', 'X3']],\n",
    "                        distr='probit')\n",
    "\n",
    "res_prob = mod_prob.fit(method='bfgs')\n",
    "res_prob.summary()\n",
    "\n",
    "predicted = res_prob.model.predict(res_prob.params, exog=data[['X1', 'X2', 'X3']])\n",
    "predicted"
   ]
  },
  {
   "cell_type": "code",
   "execution_count": null,
   "metadata": {},
   "outputs": [],
   "source": [
    "# Second model - some sort of XGBoost?"
   ]
  }
 ],
 "metadata": {
  "kernelspec": {
   "display_name": "Python 3.8.8 ('base')",
   "language": "python",
   "name": "python3"
  },
  "language_info": {
   "codemirror_mode": {
    "name": "ipython",
    "version": 3
   },
   "file_extension": ".py",
   "mimetype": "text/x-python",
   "name": "python",
   "nbconvert_exporter": "python",
   "pygments_lexer": "ipython3",
   "version": "3.8.8"
  },
  "orig_nbformat": 4,
  "vscode": {
   "interpreter": {
    "hash": "a46f1b5a7c2f7d98a9c5b822833f2b5c313c9e905fbdd070e07917c35d21e938"
   }
  }
 },
 "nbformat": 4,
 "nbformat_minor": 2
}
