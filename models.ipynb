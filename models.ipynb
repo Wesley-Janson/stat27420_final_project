{
 "cells": [
  {
   "cell_type": "markdown",
   "metadata": {},
   "source": [
    "### Wesley Janson and Drew Keller\n",
    "## STAT 27420 Final Project\n",
    "# Modeling Code"
   ]
  },
  {
   "cell_type": "code",
   "execution_count": 1,
   "metadata": {},
   "outputs": [],
   "source": [
    "# Load in relevant packages\n",
    "\n",
    "import pandas as pd\n",
    "from statsmodels.miscmodels.ordinal_model import OrderedModel\n",
    "from sklearn.model_selection import train_test_split\n",
    "from sklearn import tree\n",
    "from sklearn.metrics import accuracy_score, recall_score, precision_score, f1_score\n",
    "import xgboost as xgb\n",
    "from sklearn.ensemble import GradientBoostingClassifier\n",
    "from data_utils import read_data, prep_features\n",
    "import numpy as np\n",
    "\n",
    "DATA_PATH = '../paper_replication_data/new_data.csv'  # Drew's path"
   ]
  },
  {
   "cell_type": "code",
   "execution_count": 8,
   "metadata": {},
   "outputs": [],
   "source": [
    "from load_data import data, categorical_vars, cts_vars, other_vars\n",
    "\n",
    "# loading data from online takes ~20 seconds\n",
    "# to speed up, save data locally and load from there:\n",
    "\n",
    "#data.to_csv(DATA_PATH,index=False)  # run this once\n",
    "\n"
   ]
  },
  {
   "cell_type": "code",
   "execution_count": 11,
   "metadata": {},
   "outputs": [
    {
     "data": {
      "text/plain": [
       "['first_interview',\n",
       " 'personal_finances_yr_ago',\n",
       " 'price_related_yr_ago',\n",
       " 'personal_finances_5yr_ago',\n",
       " 'personal_finances_next_yr',\n",
       " 'personal_finances_next_5yr',\n",
       " 'income_change_next_yr',\n",
       " 'real_income_expectations',\n",
       " 'conditions_yr_ago',\n",
       " 'conditions_next_yr',\n",
       " 'unemployment_next_yr',\n",
       " 'govt_policy_efficacy',\n",
       " 'interest_rates_next_yr',\n",
       " 'price_change_next_yr',\n",
       " 'price_change_next_5yr',\n",
       " 'durable_purchase',\n",
       " 'car_purchase',\n",
       " 'income_quintile',\n",
       " 'region',\n",
       " 'sex',\n",
       " 'education',\n",
       " 'vehicle_ownership',\n",
       " 'treatment_pctile',\n",
       " 'treatment_bins']"
      ]
     },
     "execution_count": 11,
     "metadata": {},
     "output_type": "execute_result"
    }
   ],
   "source": [
    "categorical_vars"
   ]
  },
  {
   "cell_type": "code",
   "execution_count": 4,
   "metadata": {},
   "outputs": [
    {
     "data": {
      "text/plain": [
       "' Categorical_vars and cts_vars are lists of vars in each category.\\nOther_vars are ID and date variables (categorical_vars + cts_vars + other_vars = all vars)'"
      ]
     },
     "execution_count": 4,
     "metadata": {},
     "output_type": "execute_result"
    }
   ],
   "source": [
    "data = read_data(DATA_PATH)  # use this over pd.read_csv, because this handles types\n",
    "\n",
    "\"\"\" Categorical_vars and cts_vars are lists of vars in each category.\n",
    "Other_vars are ID and date variables (categorical_vars + cts_vars + other_vars = all vars)\"\"\""
   ]
  },
  {
   "cell_type": "code",
   "execution_count": 3,
   "metadata": {},
   "outputs": [
    {
     "data": {
      "text/plain": [
       "0-5      210475\n",
       "5-10      47431\n",
       "NaN       24168\n",
       "10-15     11780\n",
       "20+        5376\n",
       "15-20      4984\n",
       "Name: treatment_bins, dtype: int64"
      ]
     },
     "execution_count": 3,
     "metadata": {},
     "output_type": "execute_result"
    }
   ],
   "source": [
    "data.treatment_bins.value_counts(dropna=False)  # check that we have a balanced dataset"
   ]
  },
  {
   "cell_type": "code",
   "execution_count": 4,
   "metadata": {},
   "outputs": [
    {
     "data": {
      "text/plain": [
       "Good          204553\n",
       "Bad            71471\n",
       "Neutral        12945\n",
       "Don't know     12599\n",
       "Refused         2646\n",
       "Name: durable_purchase, dtype: int64"
      ]
     },
     "execution_count": 4,
     "metadata": {},
     "output_type": "execute_result"
    }
   ],
   "source": [
    "data.durable_purchase.value_counts(dropna=False)  # check that we have a balanced dataset"
   ]
  },
  {
   "cell_type": "code",
   "execution_count": 4,
   "metadata": {},
   "outputs": [
    {
     "data": {
      "text/plain": [
       "NaN    24168\n",
       "Name: price_change_amt_next_yr, dtype: int64"
      ]
     },
     "execution_count": 4,
     "metadata": {},
     "output_type": "execute_result"
    }
   ],
   "source": [
    "data[data.treatment_bins.isnull()].price_change_amt_next_yr.value_counts(dropna=False)"
   ]
  },
  {
   "cell_type": "code",
   "execution_count": 5,
   "metadata": {},
   "outputs": [
    {
     "name": "stdout",
     "output_type": "stream",
     "text": [
      "Excluding 15245 observations that did not answer durable purchase question.\n",
      "Excluding 21490 observations that did not answer price change amount question.\n"
     ]
    }
   ],
   "source": [
    "# prep features for modeling; use regression=True for regression models\n",
    "data_regression, treatment_vars, confounder_vars = prep_features(data,regression=True)  "
   ]
  },
  {
   "cell_type": "code",
   "execution_count": 10,
   "metadata": {},
   "outputs": [
    {
     "data": {
      "text/plain": [
       " 1.0    191595\n",
       "-1.0     64499\n",
       " 0.0     11385\n",
       "Name: durable_purchase, dtype: int64"
      ]
     },
     "execution_count": 10,
     "metadata": {},
     "output_type": "execute_result"
    }
   ],
   "source": [
    "data_regression.durable_purchase.value_counts(dropna=False)  # check that we have a balanced dataset"
   ]
  },
  {
   "cell_type": "code",
   "execution_count": 6,
   "metadata": {},
   "outputs": [
    {
     "data": {
      "text/plain": [
       "0.7146280642592503"
      ]
     },
     "execution_count": 6,
     "metadata": {},
     "output_type": "execute_result"
    }
   ],
   "source": [
    "len(data_regression.dropna(subset=confounder_vars))/len(data_regression)"
   ]
  },
  {
   "cell_type": "code",
   "execution_count": 7,
   "metadata": {},
   "outputs": [],
   "source": [
    "data_regression = data_regression.dropna(subset=confounder_vars)"
   ]
  },
  {
   "cell_type": "code",
   "execution_count": 8,
   "metadata": {},
   "outputs": [
    {
     "name": "stdout",
     "output_type": "stream",
     "text": [
      "Optimization terminated successfully.\n",
      "         Current function value: 0.650917\n",
      "         Iterations: 114\n",
      "         Function evaluations: 115\n",
      "         Gradient evaluations: 115\n"
     ]
    },
    {
     "data": {
      "text/html": [
       "<table class=\"simpletable\">\n",
       "<caption>OrderedModel Results</caption>\n",
       "<tr>\n",
       "  <th>Dep. Variable:</th>     <td>durable_purchase</td>  <th>  Log-Likelihood:    </th> <td>-1.2442e+05</td>\n",
       "</tr>\n",
       "<tr>\n",
       "  <th>Model:</th>               <td>OrderedModel</td>    <th>  AIC:               </th>  <td>2.489e+05</td> \n",
       "</tr>\n",
       "<tr>\n",
       "  <th>Method:</th>           <td>Maximum Likelihood</td> <th>  BIC:               </th>  <td>2.493e+05</td> \n",
       "</tr>\n",
       "<tr>\n",
       "  <th>Date:</th>              <td>Wed, 30 Nov 2022</td>  <th>                     </th>      <td> </td>     \n",
       "</tr>\n",
       "<tr>\n",
       "  <th>Time:</th>                  <td>21:06:31</td>      <th>                     </th>      <td> </td>     \n",
       "</tr>\n",
       "<tr>\n",
       "  <th>No. Observations:</th>       <td>191148</td>       <th>                     </th>      <td> </td>     \n",
       "</tr>\n",
       "<tr>\n",
       "  <th>Df Residuals:</th>           <td>191112</td>       <th>                     </th>      <td> </td>     \n",
       "</tr>\n",
       "<tr>\n",
       "  <th>Df Model:</th>               <td>    36</td>       <th>                     </th>      <td> </td>     \n",
       "</tr>\n",
       "</table>\n",
       "<table class=\"simpletable\">\n",
       "<tr>\n",
       "                    <td></td>                      <th>coef</th>     <th>std err</th>      <th>z</th>      <th>P>|z|</th>  <th>[0.025</th>    <th>0.975]</th>  \n",
       "</tr>\n",
       "<tr>\n",
       "  <th>fed_funds_rate</th>                       <td>    0.2373</td> <td>    0.005</td> <td>   50.506</td> <td> 0.000</td> <td>    0.228</td> <td>    0.247</td>\n",
       "</tr>\n",
       "<tr>\n",
       "  <th>unemployment_rate</th>                    <td>   -0.1566</td> <td>    0.003</td> <td>  -48.724</td> <td> 0.000</td> <td>   -0.163</td> <td>   -0.150</td>\n",
       "</tr>\n",
       "<tr>\n",
       "  <th>cpi_1mo_lag</th>                          <td>   -0.1763</td> <td>    0.007</td> <td>  -26.770</td> <td> 0.000</td> <td>   -0.189</td> <td>   -0.163</td>\n",
       "</tr>\n",
       "<tr>\n",
       "  <th>cpi_durable_1mo_lag</th>                  <td>   -0.1506</td> <td>    0.005</td> <td>  -29.500</td> <td> 0.000</td> <td>   -0.161</td> <td>   -0.141</td>\n",
       "</tr>\n",
       "<tr>\n",
       "  <th>personal_finances_next_yr_Don't know</th> <td>   -0.1997</td> <td>    0.024</td> <td>   -8.278</td> <td> 0.000</td> <td>   -0.247</td> <td>   -0.152</td>\n",
       "</tr>\n",
       "<tr>\n",
       "  <th>personal_finances_next_yr_Refused</th>    <td>   -0.1907</td> <td>    0.058</td> <td>   -3.304</td> <td> 0.001</td> <td>   -0.304</td> <td>   -0.078</td>\n",
       "</tr>\n",
       "<tr>\n",
       "  <th>personal_finances_next_yr_Same</th>       <td>   -0.0524</td> <td>    0.007</td> <td>   -7.347</td> <td> 0.000</td> <td>   -0.066</td> <td>   -0.038</td>\n",
       "</tr>\n",
       "<tr>\n",
       "  <th>personal_finances_next_yr_Worse</th>      <td>   -0.1756</td> <td>    0.011</td> <td>  -15.987</td> <td> 0.000</td> <td>   -0.197</td> <td>   -0.154</td>\n",
       "</tr>\n",
       "<tr>\n",
       "  <th>income_change_amt_next_yr</th>            <td>   -0.0308</td> <td>    0.003</td> <td>   -9.162</td> <td> 0.000</td> <td>   -0.037</td> <td>   -0.024</td>\n",
       "</tr>\n",
       "<tr>\n",
       "  <th>conditions_next_yr_Don't know</th>        <td>   -0.1387</td> <td>    0.030</td> <td>   -4.609</td> <td> 0.000</td> <td>   -0.198</td> <td>   -0.080</td>\n",
       "</tr>\n",
       "<tr>\n",
       "  <th>conditions_next_yr_Refused</th>           <td>   -0.1702</td> <td>    0.057</td> <td>   -2.994</td> <td> 0.003</td> <td>   -0.282</td> <td>   -0.059</td>\n",
       "</tr>\n",
       "<tr>\n",
       "  <th>conditions_next_yr_Same</th>              <td>   -0.0297</td> <td>    0.008</td> <td>   -3.795</td> <td> 0.000</td> <td>   -0.045</td> <td>   -0.014</td>\n",
       "</tr>\n",
       "<tr>\n",
       "  <th>conditions_next_yr_Worse</th>             <td>   -0.2189</td> <td>    0.010</td> <td>  -21.753</td> <td> 0.000</td> <td>   -0.239</td> <td>   -0.199</td>\n",
       "</tr>\n",
       "<tr>\n",
       "  <th>unemployment_next_yr_Higher</th>          <td>   -0.1275</td> <td>    0.048</td> <td>   -2.676</td> <td> 0.007</td> <td>   -0.221</td> <td>   -0.034</td>\n",
       "</tr>\n",
       "<tr>\n",
       "  <th>unemployment_next_yr_Lower</th>           <td>    0.1676</td> <td>    0.048</td> <td>    3.502</td> <td> 0.000</td> <td>    0.074</td> <td>    0.261</td>\n",
       "</tr>\n",
       "<tr>\n",
       "  <th>unemployment_next_yr_Refused</th>         <td>    0.0034</td> <td>    0.095</td> <td>    0.036</td> <td> 0.971</td> <td>   -0.182</td> <td>    0.189</td>\n",
       "</tr>\n",
       "<tr>\n",
       "  <th>unemployment_next_yr_Same</th>            <td>    0.1216</td> <td>    0.048</td> <td>    2.557</td> <td> 0.011</td> <td>    0.028</td> <td>    0.215</td>\n",
       "</tr>\n",
       "<tr>\n",
       "  <th>income_quintile_Lower middle</th>         <td>   -0.1227</td> <td>    0.010</td> <td>  -12.203</td> <td> 0.000</td> <td>   -0.142</td> <td>   -0.103</td>\n",
       "</tr>\n",
       "<tr>\n",
       "  <th>income_quintile_Lowest</th>               <td>   -0.2197</td> <td>    0.011</td> <td>  -19.263</td> <td> 0.000</td> <td>   -0.242</td> <td>   -0.197</td>\n",
       "</tr>\n",
       "<tr>\n",
       "  <th>income_quintile_Middle</th>               <td>   -0.0958</td> <td>    0.009</td> <td>  -10.159</td> <td> 0.000</td> <td>   -0.114</td> <td>   -0.077</td>\n",
       "</tr>\n",
       "<tr>\n",
       "  <th>income_quintile_Upper middle</th>         <td>   -0.0596</td> <td>    0.009</td> <td>   -6.809</td> <td> 0.000</td> <td>   -0.077</td> <td>   -0.042</td>\n",
       "</tr>\n",
       "<tr>\n",
       "  <th>age</th>                                  <td>   -0.0202</td> <td>    0.004</td> <td>   -5.267</td> <td> 0.000</td> <td>   -0.028</td> <td>   -0.013</td>\n",
       "</tr>\n",
       "<tr>\n",
       "  <th>sex_Male</th>                             <td>    0.1048</td> <td>    0.006</td> <td>   16.392</td> <td> 0.000</td> <td>    0.092</td> <td>    0.117</td>\n",
       "</tr>\n",
       "<tr>\n",
       "  <th>education_Graduate school</th>            <td>   -0.0175</td> <td>    0.010</td> <td>   -1.724</td> <td> 0.085</td> <td>   -0.037</td> <td>    0.002</td>\n",
       "</tr>\n",
       "<tr>\n",
       "  <th>education_High school</th>                <td>    0.0398</td> <td>    0.009</td> <td>    4.384</td> <td> 0.000</td> <td>    0.022</td> <td>    0.058</td>\n",
       "</tr>\n",
       "<tr>\n",
       "  <th>education_No high school</th>             <td>   -0.1282</td> <td>    0.022</td> <td>   -5.830</td> <td> 0.000</td> <td>   -0.171</td> <td>   -0.085</td>\n",
       "</tr>\n",
       "<tr>\n",
       "  <th>education_Partial high school</th>        <td>    0.0087</td> <td>    0.016</td> <td>    0.547</td> <td> 0.585</td> <td>   -0.022</td> <td>    0.040</td>\n",
       "</tr>\n",
       "<tr>\n",
       "  <th>education_Some college</th>               <td>    0.0263</td> <td>    0.009</td> <td>    2.934</td> <td> 0.003</td> <td>    0.009</td> <td>    0.044</td>\n",
       "</tr>\n",
       "<tr>\n",
       "  <th>household_size</th>                       <td>   -0.0378</td> <td>    0.003</td> <td>  -11.241</td> <td> 0.000</td> <td>   -0.044</td> <td>   -0.031</td>\n",
       "</tr>\n",
       "<tr>\n",
       "  <th>price_related_yr_ago_1.0</th>             <td>   -0.1520</td> <td>    0.009</td> <td>  -17.402</td> <td> 0.000</td> <td>   -0.169</td> <td>   -0.135</td>\n",
       "</tr>\n",
       "<tr>\n",
       "  <th>treatment_bins_10-15</th>                 <td>   -0.0580</td> <td>    0.016</td> <td>   -3.615</td> <td> 0.000</td> <td>   -0.089</td> <td>   -0.027</td>\n",
       "</tr>\n",
       "<tr>\n",
       "  <th>treatment_bins_15-20</th>                 <td>   -0.0670</td> <td>    0.024</td> <td>   -2.833</td> <td> 0.005</td> <td>   -0.113</td> <td>   -0.021</td>\n",
       "</tr>\n",
       "<tr>\n",
       "  <th>treatment_bins_20+</th>                   <td>   -0.0989</td> <td>    0.024</td> <td>   -4.197</td> <td> 0.000</td> <td>   -0.145</td> <td>   -0.053</td>\n",
       "</tr>\n",
       "<tr>\n",
       "  <th>treatment_bins_5-10</th>                  <td>   -0.0526</td> <td>    0.009</td> <td>   -6.077</td> <td> 0.000</td> <td>   -0.070</td> <td>   -0.036</td>\n",
       "</tr>\n",
       "<tr>\n",
       "  <th>-1.0/0.0</th>                             <td>   -0.8644</td> <td>    0.048</td> <td>  -17.894</td> <td> 0.000</td> <td>   -0.959</td> <td>   -0.770</td>\n",
       "</tr>\n",
       "<tr>\n",
       "  <th>0.0/1.0</th>                              <td>   -2.0287</td> <td>    0.011</td> <td> -178.481</td> <td> 0.000</td> <td>   -2.051</td> <td>   -2.006</td>\n",
       "</tr>\n",
       "</table>"
      ],
      "text/plain": [
       "<class 'statsmodels.iolib.summary.Summary'>\n",
       "\"\"\"\n",
       "                             OrderedModel Results                             \n",
       "==============================================================================\n",
       "Dep. Variable:       durable_purchase   Log-Likelihood:            -1.2442e+05\n",
       "Model:                   OrderedModel   AIC:                         2.489e+05\n",
       "Method:            Maximum Likelihood   BIC:                         2.493e+05\n",
       "Date:                Wed, 30 Nov 2022                                         \n",
       "Time:                        21:06:31                                         \n",
       "No. Observations:              191148                                         \n",
       "Df Residuals:                  191112                                         \n",
       "Df Model:                          36                                         \n",
       "========================================================================================================\n",
       "                                           coef    std err          z      P>|z|      [0.025      0.975]\n",
       "--------------------------------------------------------------------------------------------------------\n",
       "fed_funds_rate                           0.2373      0.005     50.506      0.000       0.228       0.247\n",
       "unemployment_rate                       -0.1566      0.003    -48.724      0.000      -0.163      -0.150\n",
       "cpi_1mo_lag                             -0.1763      0.007    -26.770      0.000      -0.189      -0.163\n",
       "cpi_durable_1mo_lag                     -0.1506      0.005    -29.500      0.000      -0.161      -0.141\n",
       "personal_finances_next_yr_Don't know    -0.1997      0.024     -8.278      0.000      -0.247      -0.152\n",
       "personal_finances_next_yr_Refused       -0.1907      0.058     -3.304      0.001      -0.304      -0.078\n",
       "personal_finances_next_yr_Same          -0.0524      0.007     -7.347      0.000      -0.066      -0.038\n",
       "personal_finances_next_yr_Worse         -0.1756      0.011    -15.987      0.000      -0.197      -0.154\n",
       "income_change_amt_next_yr               -0.0308      0.003     -9.162      0.000      -0.037      -0.024\n",
       "conditions_next_yr_Don't know           -0.1387      0.030     -4.609      0.000      -0.198      -0.080\n",
       "conditions_next_yr_Refused              -0.1702      0.057     -2.994      0.003      -0.282      -0.059\n",
       "conditions_next_yr_Same                 -0.0297      0.008     -3.795      0.000      -0.045      -0.014\n",
       "conditions_next_yr_Worse                -0.2189      0.010    -21.753      0.000      -0.239      -0.199\n",
       "unemployment_next_yr_Higher             -0.1275      0.048     -2.676      0.007      -0.221      -0.034\n",
       "unemployment_next_yr_Lower               0.1676      0.048      3.502      0.000       0.074       0.261\n",
       "unemployment_next_yr_Refused             0.0034      0.095      0.036      0.971      -0.182       0.189\n",
       "unemployment_next_yr_Same                0.1216      0.048      2.557      0.011       0.028       0.215\n",
       "income_quintile_Lower middle            -0.1227      0.010    -12.203      0.000      -0.142      -0.103\n",
       "income_quintile_Lowest                  -0.2197      0.011    -19.263      0.000      -0.242      -0.197\n",
       "income_quintile_Middle                  -0.0958      0.009    -10.159      0.000      -0.114      -0.077\n",
       "income_quintile_Upper middle            -0.0596      0.009     -6.809      0.000      -0.077      -0.042\n",
       "age                                     -0.0202      0.004     -5.267      0.000      -0.028      -0.013\n",
       "sex_Male                                 0.1048      0.006     16.392      0.000       0.092       0.117\n",
       "education_Graduate school               -0.0175      0.010     -1.724      0.085      -0.037       0.002\n",
       "education_High school                    0.0398      0.009      4.384      0.000       0.022       0.058\n",
       "education_No high school                -0.1282      0.022     -5.830      0.000      -0.171      -0.085\n",
       "education_Partial high school            0.0087      0.016      0.547      0.585      -0.022       0.040\n",
       "education_Some college                   0.0263      0.009      2.934      0.003       0.009       0.044\n",
       "household_size                          -0.0378      0.003    -11.241      0.000      -0.044      -0.031\n",
       "price_related_yr_ago_1.0                -0.1520      0.009    -17.402      0.000      -0.169      -0.135\n",
       "treatment_bins_10-15                    -0.0580      0.016     -3.615      0.000      -0.089      -0.027\n",
       "treatment_bins_15-20                    -0.0670      0.024     -2.833      0.005      -0.113      -0.021\n",
       "treatment_bins_20+                      -0.0989      0.024     -4.197      0.000      -0.145      -0.053\n",
       "treatment_bins_5-10                     -0.0526      0.009     -6.077      0.000      -0.070      -0.036\n",
       "-1.0/0.0                                -0.8644      0.048    -17.894      0.000      -0.959      -0.770\n",
       "0.0/1.0                                 -2.0287      0.011   -178.481      0.000      -2.051      -2.006\n",
       "========================================================================================================\n",
       "\"\"\""
      ]
     },
     "execution_count": 8,
     "metadata": {},
     "output_type": "execute_result"
    }
   ],
   "source": [
    "# First model, ordered probit-same as Bachmann et al.\n",
    "mod_prob = OrderedModel(data_regression['durable_purchase'],\n",
    "                        data_regression[confounder_vars+treatment_vars],\n",
    "                        distr='probit')\n",
    "\n",
    "res_prob = mod_prob.fit(method='bfgs')\n",
    "res_prob.summary()"
   ]
  },
  {
   "cell_type": "code",
   "execution_count": 9,
   "metadata": {},
   "outputs": [
    {
     "name": "stdout",
     "output_type": "stream",
     "text": [
      "Optimization terminated successfully.\n",
      "         Current function value: 0.650927\n",
      "         Iterations: 94\n",
      "         Function evaluations: 95\n",
      "         Gradient evaluations: 95\n"
     ]
    },
    {
     "data": {
      "text/html": [
       "<table class=\"simpletable\">\n",
       "<caption>OrderedModel Results</caption>\n",
       "<tr>\n",
       "  <th>Dep. Variable:</th>     <td>durable_purchase</td>  <th>  Log-Likelihood:    </th> <td>-1.2442e+05</td>\n",
       "</tr>\n",
       "<tr>\n",
       "  <th>Model:</th>               <td>OrderedModel</td>    <th>  AIC:               </th>  <td>2.489e+05</td> \n",
       "</tr>\n",
       "<tr>\n",
       "  <th>Method:</th>           <td>Maximum Likelihood</td> <th>  BIC:               </th>  <td>2.492e+05</td> \n",
       "</tr>\n",
       "<tr>\n",
       "  <th>Date:</th>              <td>Wed, 30 Nov 2022</td>  <th>                     </th>      <td> </td>     \n",
       "</tr>\n",
       "<tr>\n",
       "  <th>Time:</th>                  <td>21:08:59</td>      <th>                     </th>      <td> </td>     \n",
       "</tr>\n",
       "<tr>\n",
       "  <th>No. Observations:</th>       <td>191148</td>       <th>                     </th>      <td> </td>     \n",
       "</tr>\n",
       "<tr>\n",
       "  <th>Df Residuals:</th>           <td>191115</td>       <th>                     </th>      <td> </td>     \n",
       "</tr>\n",
       "<tr>\n",
       "  <th>Df Model:</th>               <td>    33</td>       <th>                     </th>      <td> </td>     \n",
       "</tr>\n",
       "</table>\n",
       "<table class=\"simpletable\">\n",
       "<tr>\n",
       "                    <td></td>                      <th>coef</th>     <th>std err</th>      <th>z</th>      <th>P>|z|</th>  <th>[0.025</th>    <th>0.975]</th>  \n",
       "</tr>\n",
       "<tr>\n",
       "  <th>fed_funds_rate</th>                       <td>    0.2372</td> <td>    0.005</td> <td>   50.494</td> <td> 0.000</td> <td>    0.228</td> <td>    0.246</td>\n",
       "</tr>\n",
       "<tr>\n",
       "  <th>unemployment_rate</th>                    <td>   -0.1572</td> <td>    0.003</td> <td>  -48.943</td> <td> 0.000</td> <td>   -0.163</td> <td>   -0.151</td>\n",
       "</tr>\n",
       "<tr>\n",
       "  <th>cpi_1mo_lag</th>                          <td>   -0.1776</td> <td>    0.007</td> <td>  -27.066</td> <td> 0.000</td> <td>   -0.190</td> <td>   -0.165</td>\n",
       "</tr>\n",
       "<tr>\n",
       "  <th>cpi_durable_1mo_lag</th>                  <td>   -0.1507</td> <td>    0.005</td> <td>  -29.516</td> <td> 0.000</td> <td>   -0.161</td> <td>   -0.141</td>\n",
       "</tr>\n",
       "<tr>\n",
       "  <th>personal_finances_next_yr_Don't know</th> <td>   -0.2000</td> <td>    0.024</td> <td>   -8.293</td> <td> 0.000</td> <td>   -0.247</td> <td>   -0.153</td>\n",
       "</tr>\n",
       "<tr>\n",
       "  <th>personal_finances_next_yr_Refused</th>    <td>   -0.1871</td> <td>    0.058</td> <td>   -3.241</td> <td> 0.001</td> <td>   -0.300</td> <td>   -0.074</td>\n",
       "</tr>\n",
       "<tr>\n",
       "  <th>personal_finances_next_yr_Same</th>       <td>   -0.0520</td> <td>    0.007</td> <td>   -7.299</td> <td> 0.000</td> <td>   -0.066</td> <td>   -0.038</td>\n",
       "</tr>\n",
       "<tr>\n",
       "  <th>personal_finances_next_yr_Worse</th>      <td>   -0.1755</td> <td>    0.011</td> <td>  -15.974</td> <td> 0.000</td> <td>   -0.197</td> <td>   -0.154</td>\n",
       "</tr>\n",
       "<tr>\n",
       "  <th>income_change_amt_next_yr</th>            <td>   -0.0308</td> <td>    0.003</td> <td>   -9.158</td> <td> 0.000</td> <td>   -0.037</td> <td>   -0.024</td>\n",
       "</tr>\n",
       "<tr>\n",
       "  <th>conditions_next_yr_Don't know</th>        <td>   -0.1377</td> <td>    0.030</td> <td>   -4.575</td> <td> 0.000</td> <td>   -0.197</td> <td>   -0.079</td>\n",
       "</tr>\n",
       "<tr>\n",
       "  <th>conditions_next_yr_Refused</th>           <td>   -0.1716</td> <td>    0.057</td> <td>   -3.019</td> <td> 0.003</td> <td>   -0.283</td> <td>   -0.060</td>\n",
       "</tr>\n",
       "<tr>\n",
       "  <th>conditions_next_yr_Same</th>              <td>   -0.0292</td> <td>    0.008</td> <td>   -3.736</td> <td> 0.000</td> <td>   -0.045</td> <td>   -0.014</td>\n",
       "</tr>\n",
       "<tr>\n",
       "  <th>conditions_next_yr_Worse</th>             <td>   -0.2187</td> <td>    0.010</td> <td>  -21.729</td> <td> 0.000</td> <td>   -0.238</td> <td>   -0.199</td>\n",
       "</tr>\n",
       "<tr>\n",
       "  <th>unemployment_next_yr_Higher</th>          <td>   -0.1280</td> <td>    0.048</td> <td>   -2.688</td> <td> 0.007</td> <td>   -0.221</td> <td>   -0.035</td>\n",
       "</tr>\n",
       "<tr>\n",
       "  <th>unemployment_next_yr_Lower</th>           <td>    0.1672</td> <td>    0.048</td> <td>    3.494</td> <td> 0.000</td> <td>    0.073</td> <td>    0.261</td>\n",
       "</tr>\n",
       "<tr>\n",
       "  <th>unemployment_next_yr_Refused</th>         <td>   -0.0077</td> <td>    0.095</td> <td>   -0.081</td> <td> 0.935</td> <td>   -0.193</td> <td>    0.178</td>\n",
       "</tr>\n",
       "<tr>\n",
       "  <th>unemployment_next_yr_Same</th>            <td>    0.1214</td> <td>    0.048</td> <td>    2.555</td> <td> 0.011</td> <td>    0.028</td> <td>    0.215</td>\n",
       "</tr>\n",
       "<tr>\n",
       "  <th>income_quintile_Lower middle</th>         <td>   -0.1223</td> <td>    0.010</td> <td>  -12.167</td> <td> 0.000</td> <td>   -0.142</td> <td>   -0.103</td>\n",
       "</tr>\n",
       "<tr>\n",
       "  <th>income_quintile_Lowest</th>               <td>   -0.2195</td> <td>    0.011</td> <td>  -19.244</td> <td> 0.000</td> <td>   -0.242</td> <td>   -0.197</td>\n",
       "</tr>\n",
       "<tr>\n",
       "  <th>income_quintile_Middle</th>               <td>   -0.0953</td> <td>    0.009</td> <td>  -10.107</td> <td> 0.000</td> <td>   -0.114</td> <td>   -0.077</td>\n",
       "</tr>\n",
       "<tr>\n",
       "  <th>income_quintile_Upper middle</th>         <td>   -0.0591</td> <td>    0.009</td> <td>   -6.752</td> <td> 0.000</td> <td>   -0.076</td> <td>   -0.042</td>\n",
       "</tr>\n",
       "<tr>\n",
       "  <th>age</th>                                  <td>   -0.0205</td> <td>    0.004</td> <td>   -5.338</td> <td> 0.000</td> <td>   -0.028</td> <td>   -0.013</td>\n",
       "</tr>\n",
       "<tr>\n",
       "  <th>sex_Male</th>                             <td>    0.1041</td> <td>    0.006</td> <td>   16.281</td> <td> 0.000</td> <td>    0.092</td> <td>    0.117</td>\n",
       "</tr>\n",
       "<tr>\n",
       "  <th>education_Graduate school</th>            <td>   -0.0175</td> <td>    0.010</td> <td>   -1.722</td> <td> 0.085</td> <td>   -0.037</td> <td>    0.002</td>\n",
       "</tr>\n",
       "<tr>\n",
       "  <th>education_High school</th>                <td>    0.0399</td> <td>    0.009</td> <td>    4.399</td> <td> 0.000</td> <td>    0.022</td> <td>    0.058</td>\n",
       "</tr>\n",
       "<tr>\n",
       "  <th>education_No high school</th>             <td>   -0.1269</td> <td>    0.022</td> <td>   -5.767</td> <td> 0.000</td> <td>   -0.170</td> <td>   -0.084</td>\n",
       "</tr>\n",
       "<tr>\n",
       "  <th>education_Partial high school</th>        <td>    0.0096</td> <td>    0.016</td> <td>    0.604</td> <td> 0.546</td> <td>   -0.021</td> <td>    0.041</td>\n",
       "</tr>\n",
       "<tr>\n",
       "  <th>education_Some college</th>               <td>    0.0260</td> <td>    0.009</td> <td>    2.901</td> <td> 0.004</td> <td>    0.008</td> <td>    0.044</td>\n",
       "</tr>\n",
       "<tr>\n",
       "  <th>household_size</th>                       <td>   -0.0378</td> <td>    0.003</td> <td>  -11.239</td> <td> 0.000</td> <td>   -0.044</td> <td>   -0.031</td>\n",
       "</tr>\n",
       "<tr>\n",
       "  <th>price_related_yr_ago_1.0</th>             <td>   -0.1521</td> <td>    0.009</td> <td>  -17.423</td> <td> 0.000</td> <td>   -0.169</td> <td>   -0.135</td>\n",
       "</tr>\n",
       "<tr>\n",
       "  <th>price_change_amt_next_yr</th>             <td>   -0.0248</td> <td>    0.003</td> <td>   -7.413</td> <td> 0.000</td> <td>   -0.031</td> <td>   -0.018</td>\n",
       "</tr>\n",
       "<tr>\n",
       "  <th>-1.0/0.0</th>                             <td>   -0.8500</td> <td>    0.048</td> <td>  -17.610</td> <td> 0.000</td> <td>   -0.945</td> <td>   -0.755</td>\n",
       "</tr>\n",
       "<tr>\n",
       "  <th>0.0/1.0</th>                              <td>   -2.0286</td> <td>    0.011</td> <td> -178.484</td> <td> 0.000</td> <td>   -2.051</td> <td>   -2.006</td>\n",
       "</tr>\n",
       "</table>"
      ],
      "text/plain": [
       "<class 'statsmodels.iolib.summary.Summary'>\n",
       "\"\"\"\n",
       "                             OrderedModel Results                             \n",
       "==============================================================================\n",
       "Dep. Variable:       durable_purchase   Log-Likelihood:            -1.2442e+05\n",
       "Model:                   OrderedModel   AIC:                         2.489e+05\n",
       "Method:            Maximum Likelihood   BIC:                         2.492e+05\n",
       "Date:                Wed, 30 Nov 2022                                         \n",
       "Time:                        21:08:59                                         \n",
       "No. Observations:              191148                                         \n",
       "Df Residuals:                  191115                                         \n",
       "Df Model:                          33                                         \n",
       "========================================================================================================\n",
       "                                           coef    std err          z      P>|z|      [0.025      0.975]\n",
       "--------------------------------------------------------------------------------------------------------\n",
       "fed_funds_rate                           0.2372      0.005     50.494      0.000       0.228       0.246\n",
       "unemployment_rate                       -0.1572      0.003    -48.943      0.000      -0.163      -0.151\n",
       "cpi_1mo_lag                             -0.1776      0.007    -27.066      0.000      -0.190      -0.165\n",
       "cpi_durable_1mo_lag                     -0.1507      0.005    -29.516      0.000      -0.161      -0.141\n",
       "personal_finances_next_yr_Don't know    -0.2000      0.024     -8.293      0.000      -0.247      -0.153\n",
       "personal_finances_next_yr_Refused       -0.1871      0.058     -3.241      0.001      -0.300      -0.074\n",
       "personal_finances_next_yr_Same          -0.0520      0.007     -7.299      0.000      -0.066      -0.038\n",
       "personal_finances_next_yr_Worse         -0.1755      0.011    -15.974      0.000      -0.197      -0.154\n",
       "income_change_amt_next_yr               -0.0308      0.003     -9.158      0.000      -0.037      -0.024\n",
       "conditions_next_yr_Don't know           -0.1377      0.030     -4.575      0.000      -0.197      -0.079\n",
       "conditions_next_yr_Refused              -0.1716      0.057     -3.019      0.003      -0.283      -0.060\n",
       "conditions_next_yr_Same                 -0.0292      0.008     -3.736      0.000      -0.045      -0.014\n",
       "conditions_next_yr_Worse                -0.2187      0.010    -21.729      0.000      -0.238      -0.199\n",
       "unemployment_next_yr_Higher             -0.1280      0.048     -2.688      0.007      -0.221      -0.035\n",
       "unemployment_next_yr_Lower               0.1672      0.048      3.494      0.000       0.073       0.261\n",
       "unemployment_next_yr_Refused            -0.0077      0.095     -0.081      0.935      -0.193       0.178\n",
       "unemployment_next_yr_Same                0.1214      0.048      2.555      0.011       0.028       0.215\n",
       "income_quintile_Lower middle            -0.1223      0.010    -12.167      0.000      -0.142      -0.103\n",
       "income_quintile_Lowest                  -0.2195      0.011    -19.244      0.000      -0.242      -0.197\n",
       "income_quintile_Middle                  -0.0953      0.009    -10.107      0.000      -0.114      -0.077\n",
       "income_quintile_Upper middle            -0.0591      0.009     -6.752      0.000      -0.076      -0.042\n",
       "age                                     -0.0205      0.004     -5.338      0.000      -0.028      -0.013\n",
       "sex_Male                                 0.1041      0.006     16.281      0.000       0.092       0.117\n",
       "education_Graduate school               -0.0175      0.010     -1.722      0.085      -0.037       0.002\n",
       "education_High school                    0.0399      0.009      4.399      0.000       0.022       0.058\n",
       "education_No high school                -0.1269      0.022     -5.767      0.000      -0.170      -0.084\n",
       "education_Partial high school            0.0096      0.016      0.604      0.546      -0.021       0.041\n",
       "education_Some college                   0.0260      0.009      2.901      0.004       0.008       0.044\n",
       "household_size                          -0.0378      0.003    -11.239      0.000      -0.044      -0.031\n",
       "price_related_yr_ago_1.0                -0.1521      0.009    -17.423      0.000      -0.169      -0.135\n",
       "price_change_amt_next_yr                -0.0248      0.003     -7.413      0.000      -0.031      -0.018\n",
       "-1.0/0.0                                -0.8500      0.048    -17.610      0.000      -0.945      -0.755\n",
       "0.0/1.0                                 -2.0286      0.011   -178.484      0.000      -2.051      -2.006\n",
       "========================================================================================================\n",
       "\"\"\""
      ]
     },
     "execution_count": 9,
     "metadata": {},
     "output_type": "execute_result"
    }
   ],
   "source": [
    "# First model, ordered probit-same as Bachmann et al.\n",
    "mod_prob = OrderedModel(data_regression['durable_purchase'],\n",
    "                        data_regression[confounder_vars+[\"price_change_amt_next_yr\"]],\n",
    "                        distr='probit')\n",
    "\n",
    "res_prob = mod_prob.fit(method='bfgs')\n",
    "res_prob.summary()"
   ]
  },
  {
   "cell_type": "code",
   "execution_count": null,
   "metadata": {},
   "outputs": [],
   "source": [
    "# Second model - some sort of XGBoost?"
   ]
  }
 ],
 "metadata": {
  "kernelspec": {
   "display_name": "Python 3.9.6 64-bit",
   "language": "python",
   "name": "python3"
  },
  "language_info": {
   "codemirror_mode": {
    "name": "ipython",
    "version": 3
   },
   "file_extension": ".py",
   "mimetype": "text/x-python",
   "name": "python",
   "nbconvert_exporter": "python",
   "pygments_lexer": "ipython3",
   "version": "3.9.6"
  },
  "orig_nbformat": 4,
  "vscode": {
   "interpreter": {
    "hash": "31f2aee4e71d21fbe5cf8b01ff0e069b9275f58929596ceb00d14d90e3e16cd6"
   }
  }
 },
 "nbformat": 4,
 "nbformat_minor": 2
}
