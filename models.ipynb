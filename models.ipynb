{
 "cells": [
  {
   "cell_type": "markdown",
   "metadata": {},
   "source": [
    "### Wesley Janson and Drew Keller\n",
    "## STAT 27420 Final Project\n",
    "# Modeling Code"
   ]
  },
  {
   "cell_type": "code",
   "execution_count": 2,
   "metadata": {},
   "outputs": [],
   "source": [
    "# Load in relevant packages\n",
    "\n",
    "import pandas as pd\n",
    "from statsmodels.miscmodels.ordinal_model import OrderedModel\n",
    "from sklearn.model_selection import KFold, StratifiedKFold, train_test_split\n",
    "from sklearn import tree\n",
    "from sklearn.metrics import accuracy_score, recall_score, precision_score, f1_score\n",
    "import xgboost as xgb\n",
    "from sklearn.ensemble import GradientBoostingClassifier\n",
    "from data_utils import read_data, prep_features\n",
    "import numpy as np\n",
    "import os\n",
    "\n",
    "# set random seed for numpy\n",
    "RANDOM_SEED=69\n",
    "np.random.seed(RANDOM_SEED)\n",
    "\n",
    "\n",
    "DATA_PATH = '../paper_replication_data/new_data.csv'  # Drew's path"
   ]
  },
  {
   "cell_type": "code",
   "execution_count": 3,
   "metadata": {},
   "outputs": [
    {
     "name": "stdout",
     "output_type": "stream",
     "text": [
      "Excluding 0 observations that did not answer 1 year price change question.\n"
     ]
    }
   ],
   "source": [
    "from load_data import data, categorical_vars, cts_vars, other_vars\n",
    "\n",
    "# loading data from online takes ~20 seconds\n",
    "# to speed up, save data locally and load from there:\n",
    "\n",
    "data.to_csv(DATA_PATH,index=False)  # run this once"
   ]
  },
  {
   "cell_type": "code",
   "execution_count": 4,
   "metadata": {},
   "outputs": [
    {
     "data": {
      "text/plain": [
       "' Categorical_vars and cts_vars are lists of vars in each category.\\nOther_vars are ID and date variables (categorical_vars + cts_vars + other_vars = all vars)'"
      ]
     },
     "execution_count": 3,
     "metadata": {},
     "output_type": "execute_result"
    }
   ],
   "source": [
    "# Categorical_vars and cts_vars are lists of vars in each category.\n",
    "# Other_vars are ID and date variables (categorical_vars + cts_vars + other_vars = all vars)\n",
    "\n",
    "data = read_data(DATA_PATH)  # use this over pd.read_csv, because this handles types"
   ]
  },
  {
   "cell_type": "code",
   "execution_count": 4,
   "metadata": {},
   "outputs": [
    {
     "data": {
      "text/plain": [
       "0-5      210475\n",
       "5-10      47431\n",
       "NaN       24168\n",
       "10-15     11780\n",
       "20+        5376\n",
       "15-20      4984\n",
       "Name: treatment_bins, dtype: int64"
      ]
     },
     "execution_count": 4,
     "metadata": {},
     "output_type": "execute_result"
    }
   ],
   "source": [
    "data.treatment_bins.value_counts(dropna=False)  # check that we have a balanced dataset"
   ]
  },
  {
   "cell_type": "code",
   "execution_count": 5,
   "metadata": {},
   "outputs": [
    {
     "data": {
      "text/plain": [
       "Good          204553\n",
       "Bad            71471\n",
       "Neutral        12945\n",
       "Don't know     12599\n",
       "Refused         2646\n",
       "Name: durable_purchase, dtype: int64"
      ]
     },
     "execution_count": 5,
     "metadata": {},
     "output_type": "execute_result"
    }
   ],
   "source": [
    "data.durable_purchase.value_counts(dropna=False)  # check that we have a balanced dataset"
   ]
  },
  {
   "cell_type": "code",
   "execution_count": 5,
   "metadata": {},
   "outputs": [
    {
     "data": {
      "text/plain": [
       "NaN    24168\n",
       "Name: price_change_amt_next_yr, dtype: int64"
      ]
     },
     "execution_count": 5,
     "metadata": {},
     "output_type": "execute_result"
    }
   ],
   "source": [
    "data[data.treatment_bins.isnull()].price_change_amt_next_yr.value_counts(dropna=False)"
   ]
  },
  {
   "cell_type": "code",
   "execution_count": 6,
   "metadata": {},
   "outputs": [
    {
     "name": "stdout",
     "output_type": "stream",
     "text": [
      "Excluding 15245 observationsthat did not answer durable purchase question.\n",
      "Excluding 102089 observations that did not answerconfounder questions.\n",
      "Excluding 10354 observationsthat did not answer price change amount question.\n"
     ]
    }
   ],
   "source": [
    "# prep features for modeling; use regression=True for regression models\n",
    "data_regression, treatment_vars, confounder_vars = prep_features(data,regression=True)  "
   ]
  },
  {
   "cell_type": "code",
   "execution_count": 7,
   "metadata": {},
   "outputs": [
    {
     "data": {
      "text/plain": [
       "2    191595\n",
       "0     64499\n",
       "1     11385\n",
       "Name: durable_purchase, dtype: int64"
      ]
     },
     "execution_count": 7,
     "metadata": {},
     "output_type": "execute_result"
    }
   ],
   "source": [
    "data_regression.durable_purchase.value_counts(dropna=False)  # check that we have a balanced dataset"
   ]
  },
  {
   "cell_type": "code",
   "execution_count": 9,
   "metadata": {},
   "outputs": [],
   "source": [
    "data_regression = data_regression.dropna(subset=confounder_vars)"
   ]
  },
  {
   "cell_type": "code",
   "execution_count": 10,
   "metadata": {},
   "outputs": [
    {
     "name": "stdout",
     "output_type": "stream",
     "text": [
      "Optimization terminated successfully.\n",
      "         Current function value: 0.650848\n",
      "         Iterations: 91\n",
      "         Function evaluations: 92\n",
      "         Gradient evaluations: 92\n"
     ]
    },
    {
     "data": {
      "text/html": [
       "<table class=\"simpletable\">\n",
       "<caption>OrderedModel Results</caption>\n",
       "<tr>\n",
       "  <th>Dep. Variable:</th>     <td>durable_purchase</td>  <th>  Log-Likelihood:    </th> <td>-1.2441e+05</td>\n",
       "</tr>\n",
       "<tr>\n",
       "  <th>Model:</th>               <td>OrderedModel</td>    <th>  AIC:               </th>  <td>2.489e+05</td> \n",
       "</tr>\n",
       "<tr>\n",
       "  <th>Method:</th>           <td>Maximum Likelihood</td> <th>  BIC:               </th>  <td>2.493e+05</td> \n",
       "</tr>\n",
       "<tr>\n",
       "  <th>Date:</th>              <td>Fri, 02 Dec 2022</td>  <th>                     </th>      <td> </td>     \n",
       "</tr>\n",
       "<tr>\n",
       "  <th>Time:</th>                  <td>17:50:18</td>      <th>                     </th>      <td> </td>     \n",
       "</tr>\n",
       "<tr>\n",
       "  <th>No. Observations:</th>       <td>191148</td>       <th>                     </th>      <td> </td>     \n",
       "</tr>\n",
       "<tr>\n",
       "  <th>Df Residuals:</th>           <td>191111</td>       <th>                     </th>      <td> </td>     \n",
       "</tr>\n",
       "<tr>\n",
       "  <th>Df Model:</th>               <td>    37</td>       <th>                     </th>      <td> </td>     \n",
       "</tr>\n",
       "</table>\n",
       "<table class=\"simpletable\">\n",
       "<tr>\n",
       "                    <td></td>                      <th>coef</th>     <th>std err</th>      <th>z</th>      <th>P>|z|</th>  <th>[0.025</th>    <th>0.975]</th>  \n",
       "</tr>\n",
       "<tr>\n",
       "  <th>fed_funds_rate</th>                       <td>    0.2196</td> <td>    0.006</td> <td>   37.726</td> <td> 0.000</td> <td>    0.208</td> <td>    0.231</td>\n",
       "</tr>\n",
       "<tr>\n",
       "  <th>unemployment_rate</th>                    <td>   -0.1462</td> <td>    0.004</td> <td>  -38.508</td> <td> 0.000</td> <td>   -0.154</td> <td>   -0.139</td>\n",
       "</tr>\n",
       "<tr>\n",
       "  <th>cpi_1mo_lag</th>                          <td>   -0.1783</td> <td>    0.007</td> <td>  -27.010</td> <td> 0.000</td> <td>   -0.191</td> <td>   -0.165</td>\n",
       "</tr>\n",
       "<tr>\n",
       "  <th>cpi_durable_1mo_lag</th>                  <td>   -0.1421</td> <td>    0.005</td> <td>  -26.449</td> <td> 0.000</td> <td>   -0.153</td> <td>   -0.132</td>\n",
       "</tr>\n",
       "<tr>\n",
       "  <th>personal_finances_next_yr_Don't know</th> <td>   -0.1994</td> <td>    0.024</td> <td>   -8.266</td> <td> 0.000</td> <td>   -0.247</td> <td>   -0.152</td>\n",
       "</tr>\n",
       "<tr>\n",
       "  <th>personal_finances_next_yr_Refused</th>    <td>   -0.1898</td> <td>    0.058</td> <td>   -3.286</td> <td> 0.001</td> <td>   -0.303</td> <td>   -0.077</td>\n",
       "</tr>\n",
       "<tr>\n",
       "  <th>personal_finances_next_yr_Same</th>       <td>   -0.0517</td> <td>    0.007</td> <td>   -7.248</td> <td> 0.000</td> <td>   -0.066</td> <td>   -0.038</td>\n",
       "</tr>\n",
       "<tr>\n",
       "  <th>personal_finances_next_yr_Worse</th>      <td>   -0.1748</td> <td>    0.011</td> <td>  -15.909</td> <td> 0.000</td> <td>   -0.196</td> <td>   -0.153</td>\n",
       "</tr>\n",
       "<tr>\n",
       "  <th>income_change_amt_next_yr</th>            <td>   -0.0311</td> <td>    0.003</td> <td>   -9.241</td> <td> 0.000</td> <td>   -0.038</td> <td>   -0.024</td>\n",
       "</tr>\n",
       "<tr>\n",
       "  <th>conditions_next_yr_Don't know</th>        <td>   -0.1377</td> <td>    0.030</td> <td>   -4.574</td> <td> 0.000</td> <td>   -0.197</td> <td>   -0.079</td>\n",
       "</tr>\n",
       "<tr>\n",
       "  <th>conditions_next_yr_Refused</th>           <td>   -0.1739</td> <td>    0.057</td> <td>   -3.059</td> <td> 0.002</td> <td>   -0.285</td> <td>   -0.063</td>\n",
       "</tr>\n",
       "<tr>\n",
       "  <th>conditions_next_yr_Same</th>              <td>   -0.0287</td> <td>    0.008</td> <td>   -3.667</td> <td> 0.000</td> <td>   -0.044</td> <td>   -0.013</td>\n",
       "</tr>\n",
       "<tr>\n",
       "  <th>conditions_next_yr_Worse</th>             <td>   -0.2178</td> <td>    0.010</td> <td>  -21.629</td> <td> 0.000</td> <td>   -0.237</td> <td>   -0.198</td>\n",
       "</tr>\n",
       "<tr>\n",
       "  <th>unemployment_next_yr_Higher</th>          <td>   -0.1266</td> <td>    0.048</td> <td>   -2.658</td> <td> 0.008</td> <td>   -0.220</td> <td>   -0.033</td>\n",
       "</tr>\n",
       "<tr>\n",
       "  <th>unemployment_next_yr_Lower</th>           <td>    0.1706</td> <td>    0.048</td> <td>    3.565</td> <td> 0.000</td> <td>    0.077</td> <td>    0.264</td>\n",
       "</tr>\n",
       "<tr>\n",
       "  <th>unemployment_next_yr_Refused</th>         <td>   -0.0067</td> <td>    0.095</td> <td>   -0.070</td> <td> 0.944</td> <td>   -0.192</td> <td>    0.179</td>\n",
       "</tr>\n",
       "<tr>\n",
       "  <th>unemployment_next_yr_Same</th>            <td>    0.1238</td> <td>    0.048</td> <td>    2.604</td> <td> 0.009</td> <td>    0.031</td> <td>    0.217</td>\n",
       "</tr>\n",
       "<tr>\n",
       "  <th>income_quintile_Lower middle</th>         <td>   -0.1216</td> <td>    0.010</td> <td>  -12.091</td> <td> 0.000</td> <td>   -0.141</td> <td>   -0.102</td>\n",
       "</tr>\n",
       "<tr>\n",
       "  <th>income_quintile_Lowest</th>               <td>   -0.2186</td> <td>    0.011</td> <td>  -19.168</td> <td> 0.000</td> <td>   -0.241</td> <td>   -0.196</td>\n",
       "</tr>\n",
       "<tr>\n",
       "  <th>income_quintile_Middle</th>               <td>   -0.0952</td> <td>    0.009</td> <td>  -10.094</td> <td> 0.000</td> <td>   -0.114</td> <td>   -0.077</td>\n",
       "</tr>\n",
       "<tr>\n",
       "  <th>income_quintile_Upper middle</th>         <td>   -0.0595</td> <td>    0.009</td> <td>   -6.803</td> <td> 0.000</td> <td>   -0.077</td> <td>   -0.042</td>\n",
       "</tr>\n",
       "<tr>\n",
       "  <th>age</th>                                  <td>   -0.0182</td> <td>    0.004</td> <td>   -4.721</td> <td> 0.000</td> <td>   -0.026</td> <td>   -0.011</td>\n",
       "</tr>\n",
       "<tr>\n",
       "  <th>sex_Male</th>                             <td>    0.1055</td> <td>    0.006</td> <td>   16.497</td> <td> 0.000</td> <td>    0.093</td> <td>    0.118</td>\n",
       "</tr>\n",
       "<tr>\n",
       "  <th>education_Graduate school</th>            <td>   -0.0174</td> <td>    0.010</td> <td>   -1.717</td> <td> 0.086</td> <td>   -0.037</td> <td>    0.002</td>\n",
       "</tr>\n",
       "<tr>\n",
       "  <th>education_High school</th>                <td>    0.0379</td> <td>    0.009</td> <td>    4.171</td> <td> 0.000</td> <td>    0.020</td> <td>    0.056</td>\n",
       "</tr>\n",
       "<tr>\n",
       "  <th>education_No high school</th>             <td>   -0.1326</td> <td>    0.022</td> <td>   -6.024</td> <td> 0.000</td> <td>   -0.176</td> <td>   -0.089</td>\n",
       "</tr>\n",
       "<tr>\n",
       "  <th>education_Partial high school</th>        <td>    0.0061</td> <td>    0.016</td> <td>    0.384</td> <td> 0.701</td> <td>   -0.025</td> <td>    0.037</td>\n",
       "</tr>\n",
       "<tr>\n",
       "  <th>education_Some college</th>               <td>    0.0261</td> <td>    0.009</td> <td>    2.911</td> <td> 0.004</td> <td>    0.009</td> <td>    0.044</td>\n",
       "</tr>\n",
       "<tr>\n",
       "  <th>household_size</th>                       <td>   -0.0375</td> <td>    0.003</td> <td>  -11.138</td> <td> 0.000</td> <td>   -0.044</td> <td>   -0.031</td>\n",
       "</tr>\n",
       "<tr>\n",
       "  <th>price_related_yr_ago_1.0</th>             <td>   -0.1516</td> <td>    0.009</td> <td>  -17.363</td> <td> 0.000</td> <td>   -0.169</td> <td>   -0.134</td>\n",
       "</tr>\n",
       "<tr>\n",
       "  <th>zlb_1.0</th>                              <td>   -0.0615</td> <td>    0.012</td> <td>   -5.139</td> <td> 0.000</td> <td>   -0.085</td> <td>   -0.038</td>\n",
       "</tr>\n",
       "<tr>\n",
       "  <th>treatment_bins_10-15</th>                 <td>   -0.0546</td> <td>    0.016</td> <td>   -3.402</td> <td> 0.001</td> <td>   -0.086</td> <td>   -0.023</td>\n",
       "</tr>\n",
       "<tr>\n",
       "  <th>treatment_bins_15-20</th>                 <td>   -0.0651</td> <td>    0.024</td> <td>   -2.751</td> <td> 0.006</td> <td>   -0.111</td> <td>   -0.019</td>\n",
       "</tr>\n",
       "<tr>\n",
       "  <th>treatment_bins_20+</th>                   <td>   -0.0989</td> <td>    0.024</td> <td>   -4.201</td> <td> 0.000</td> <td>   -0.145</td> <td>   -0.053</td>\n",
       "</tr>\n",
       "<tr>\n",
       "  <th>treatment_bins_5-10</th>                  <td>   -0.0516</td> <td>    0.009</td> <td>   -5.966</td> <td> 0.000</td> <td>   -0.069</td> <td>   -0.035</td>\n",
       "</tr>\n",
       "<tr>\n",
       "  <th>0/1</th>                                  <td>   -0.8727</td> <td>    0.048</td> <td>  -18.051</td> <td> 0.000</td> <td>   -0.967</td> <td>   -0.778</td>\n",
       "</tr>\n",
       "<tr>\n",
       "  <th>1/2</th>                                  <td>   -2.0284</td> <td>    0.011</td> <td> -178.471</td> <td> 0.000</td> <td>   -2.051</td> <td>   -2.006</td>\n",
       "</tr>\n",
       "</table>"
      ],
      "text/plain": [
       "<class 'statsmodels.iolib.summary.Summary'>\n",
       "\"\"\"\n",
       "                             OrderedModel Results                             \n",
       "==============================================================================\n",
       "Dep. Variable:       durable_purchase   Log-Likelihood:            -1.2441e+05\n",
       "Model:                   OrderedModel   AIC:                         2.489e+05\n",
       "Method:            Maximum Likelihood   BIC:                         2.493e+05\n",
       "Date:                Fri, 02 Dec 2022                                         \n",
       "Time:                        17:50:18                                         \n",
       "No. Observations:              191148                                         \n",
       "Df Residuals:                  191111                                         \n",
       "Df Model:                          37                                         \n",
       "========================================================================================================\n",
       "                                           coef    std err          z      P>|z|      [0.025      0.975]\n",
       "--------------------------------------------------------------------------------------------------------\n",
       "fed_funds_rate                           0.2196      0.006     37.726      0.000       0.208       0.231\n",
       "unemployment_rate                       -0.1462      0.004    -38.508      0.000      -0.154      -0.139\n",
       "cpi_1mo_lag                             -0.1783      0.007    -27.010      0.000      -0.191      -0.165\n",
       "cpi_durable_1mo_lag                     -0.1421      0.005    -26.449      0.000      -0.153      -0.132\n",
       "personal_finances_next_yr_Don't know    -0.1994      0.024     -8.266      0.000      -0.247      -0.152\n",
       "personal_finances_next_yr_Refused       -0.1898      0.058     -3.286      0.001      -0.303      -0.077\n",
       "personal_finances_next_yr_Same          -0.0517      0.007     -7.248      0.000      -0.066      -0.038\n",
       "personal_finances_next_yr_Worse         -0.1748      0.011    -15.909      0.000      -0.196      -0.153\n",
       "income_change_amt_next_yr               -0.0311      0.003     -9.241      0.000      -0.038      -0.024\n",
       "conditions_next_yr_Don't know           -0.1377      0.030     -4.574      0.000      -0.197      -0.079\n",
       "conditions_next_yr_Refused              -0.1739      0.057     -3.059      0.002      -0.285      -0.063\n",
       "conditions_next_yr_Same                 -0.0287      0.008     -3.667      0.000      -0.044      -0.013\n",
       "conditions_next_yr_Worse                -0.2178      0.010    -21.629      0.000      -0.237      -0.198\n",
       "unemployment_next_yr_Higher             -0.1266      0.048     -2.658      0.008      -0.220      -0.033\n",
       "unemployment_next_yr_Lower               0.1706      0.048      3.565      0.000       0.077       0.264\n",
       "unemployment_next_yr_Refused            -0.0067      0.095     -0.070      0.944      -0.192       0.179\n",
       "unemployment_next_yr_Same                0.1238      0.048      2.604      0.009       0.031       0.217\n",
       "income_quintile_Lower middle            -0.1216      0.010    -12.091      0.000      -0.141      -0.102\n",
       "income_quintile_Lowest                  -0.2186      0.011    -19.168      0.000      -0.241      -0.196\n",
       "income_quintile_Middle                  -0.0952      0.009    -10.094      0.000      -0.114      -0.077\n",
       "income_quintile_Upper middle            -0.0595      0.009     -6.803      0.000      -0.077      -0.042\n",
       "age                                     -0.0182      0.004     -4.721      0.000      -0.026      -0.011\n",
       "sex_Male                                 0.1055      0.006     16.497      0.000       0.093       0.118\n",
       "education_Graduate school               -0.0174      0.010     -1.717      0.086      -0.037       0.002\n",
       "education_High school                    0.0379      0.009      4.171      0.000       0.020       0.056\n",
       "education_No high school                -0.1326      0.022     -6.024      0.000      -0.176      -0.089\n",
       "education_Partial high school            0.0061      0.016      0.384      0.701      -0.025       0.037\n",
       "education_Some college                   0.0261      0.009      2.911      0.004       0.009       0.044\n",
       "household_size                          -0.0375      0.003    -11.138      0.000      -0.044      -0.031\n",
       "price_related_yr_ago_1.0                -0.1516      0.009    -17.363      0.000      -0.169      -0.134\n",
       "zlb_1.0                                 -0.0615      0.012     -5.139      0.000      -0.085      -0.038\n",
       "treatment_bins_10-15                    -0.0546      0.016     -3.402      0.001      -0.086      -0.023\n",
       "treatment_bins_15-20                    -0.0651      0.024     -2.751      0.006      -0.111      -0.019\n",
       "treatment_bins_20+                      -0.0989      0.024     -4.201      0.000      -0.145      -0.053\n",
       "treatment_bins_5-10                     -0.0516      0.009     -5.966      0.000      -0.069      -0.035\n",
       "0/1                                     -0.8727      0.048    -18.051      0.000      -0.967      -0.778\n",
       "1/2                                     -2.0284      0.011   -178.471      0.000      -2.051      -2.006\n",
       "========================================================================================================\n",
       "\"\"\""
      ]
     },
     "execution_count": 10,
     "metadata": {},
     "output_type": "execute_result"
    }
   ],
   "source": [
    "# First model, ordered probit-same as Bachmann et al.\n",
    "mod_prob = OrderedModel(data_regression['durable_purchase'],\n",
    "                        data_regression[confounder_vars+[\"price_change_amt_next_yr\"]],\n",
    "                        distr='probit')\n",
    "\n",
    "res_prob = mod_prob.fit(method='bfgs')\n",
    "res_prob.summary()"
   ]
  },
  {
   "cell_type": "code",
   "execution_count": 11,
   "metadata": {},
   "outputs": [
    {
     "name": "stdout",
     "output_type": "stream",
     "text": [
      "Optimization terminated successfully.\n",
      "         Current function value: 0.650858\n",
      "         Iterations: 91\n",
      "         Function evaluations: 92\n",
      "         Gradient evaluations: 92\n"
     ]
    },
    {
     "data": {
      "text/html": [
       "<table class=\"simpletable\">\n",
       "<caption>OrderedModel Results</caption>\n",
       "<tr>\n",
       "  <th>Dep. Variable:</th>     <td>durable_purchase</td>  <th>  Log-Likelihood:    </th> <td>-1.2441e+05</td>\n",
       "</tr>\n",
       "<tr>\n",
       "  <th>Model:</th>               <td>OrderedModel</td>    <th>  AIC:               </th>  <td>2.489e+05</td> \n",
       "</tr>\n",
       "<tr>\n",
       "  <th>Method:</th>           <td>Maximum Likelihood</td> <th>  BIC:               </th>  <td>2.492e+05</td> \n",
       "</tr>\n",
       "<tr>\n",
       "  <th>Date:</th>              <td>Fri, 02 Dec 2022</td>  <th>                     </th>      <td> </td>     \n",
       "</tr>\n",
       "<tr>\n",
       "  <th>Time:</th>                  <td>17:53:19</td>      <th>                     </th>      <td> </td>     \n",
       "</tr>\n",
       "<tr>\n",
       "  <th>No. Observations:</th>       <td>191148</td>       <th>                     </th>      <td> </td>     \n",
       "</tr>\n",
       "<tr>\n",
       "  <th>Df Residuals:</th>           <td>191114</td>       <th>                     </th>      <td> </td>     \n",
       "</tr>\n",
       "<tr>\n",
       "  <th>Df Model:</th>               <td>    34</td>       <th>                     </th>      <td> </td>     \n",
       "</tr>\n",
       "</table>\n",
       "<table class=\"simpletable\">\n",
       "<tr>\n",
       "                    <td></td>                      <th>coef</th>     <th>std err</th>      <th>z</th>      <th>P>|z|</th>  <th>[0.025</th>    <th>0.975]</th>  \n",
       "</tr>\n",
       "<tr>\n",
       "  <th>fed_funds_rate</th>                       <td>    0.2194</td> <td>    0.006</td> <td>   37.686</td> <td> 0.000</td> <td>    0.208</td> <td>    0.231</td>\n",
       "</tr>\n",
       "<tr>\n",
       "  <th>unemployment_rate</th>                    <td>   -0.1467</td> <td>    0.004</td> <td>  -38.647</td> <td> 0.000</td> <td>   -0.154</td> <td>   -0.139</td>\n",
       "</tr>\n",
       "<tr>\n",
       "  <th>cpi_1mo_lag</th>                          <td>   -0.1795</td> <td>    0.007</td> <td>  -27.301</td> <td> 0.000</td> <td>   -0.192</td> <td>   -0.167</td>\n",
       "</tr>\n",
       "<tr>\n",
       "  <th>cpi_durable_1mo_lag</th>                  <td>   -0.1421</td> <td>    0.005</td> <td>  -26.461</td> <td> 0.000</td> <td>   -0.153</td> <td>   -0.132</td>\n",
       "</tr>\n",
       "<tr>\n",
       "  <th>personal_finances_next_yr_Don't know</th> <td>   -0.1995</td> <td>    0.024</td> <td>   -8.270</td> <td> 0.000</td> <td>   -0.247</td> <td>   -0.152</td>\n",
       "</tr>\n",
       "<tr>\n",
       "  <th>personal_finances_next_yr_Refused</th>    <td>   -0.1882</td> <td>    0.058</td> <td>   -3.259</td> <td> 0.001</td> <td>   -0.301</td> <td>   -0.075</td>\n",
       "</tr>\n",
       "<tr>\n",
       "  <th>personal_finances_next_yr_Same</th>       <td>   -0.0513</td> <td>    0.007</td> <td>   -7.198</td> <td> 0.000</td> <td>   -0.065</td> <td>   -0.037</td>\n",
       "</tr>\n",
       "<tr>\n",
       "  <th>personal_finances_next_yr_Worse</th>      <td>   -0.1744</td> <td>    0.011</td> <td>  -15.874</td> <td> 0.000</td> <td>   -0.196</td> <td>   -0.153</td>\n",
       "</tr>\n",
       "<tr>\n",
       "  <th>income_change_amt_next_yr</th>            <td>   -0.0310</td> <td>    0.003</td> <td>   -9.227</td> <td> 0.000</td> <td>   -0.038</td> <td>   -0.024</td>\n",
       "</tr>\n",
       "<tr>\n",
       "  <th>conditions_next_yr_Don't know</th>        <td>   -0.1372</td> <td>    0.030</td> <td>   -4.557</td> <td> 0.000</td> <td>   -0.196</td> <td>   -0.078</td>\n",
       "</tr>\n",
       "<tr>\n",
       "  <th>conditions_next_yr_Refused</th>           <td>   -0.1740</td> <td>    0.057</td> <td>   -3.060</td> <td> 0.002</td> <td>   -0.285</td> <td>   -0.063</td>\n",
       "</tr>\n",
       "<tr>\n",
       "  <th>conditions_next_yr_Same</th>              <td>   -0.0284</td> <td>    0.008</td> <td>   -3.629</td> <td> 0.000</td> <td>   -0.044</td> <td>   -0.013</td>\n",
       "</tr>\n",
       "<tr>\n",
       "  <th>conditions_next_yr_Worse</th>             <td>   -0.2178</td> <td>    0.010</td> <td>  -21.626</td> <td> 0.000</td> <td>   -0.237</td> <td>   -0.198</td>\n",
       "</tr>\n",
       "<tr>\n",
       "  <th>unemployment_next_yr_Higher</th>          <td>   -0.1281</td> <td>    0.048</td> <td>   -2.690</td> <td> 0.007</td> <td>   -0.222</td> <td>   -0.035</td>\n",
       "</tr>\n",
       "<tr>\n",
       "  <th>unemployment_next_yr_Lower</th>           <td>    0.1690</td> <td>    0.048</td> <td>    3.530</td> <td> 0.000</td> <td>    0.075</td> <td>    0.263</td>\n",
       "</tr>\n",
       "<tr>\n",
       "  <th>unemployment_next_yr_Refused</th>         <td>   -0.0090</td> <td>    0.095</td> <td>   -0.095</td> <td> 0.924</td> <td>   -0.195</td> <td>    0.176</td>\n",
       "</tr>\n",
       "<tr>\n",
       "  <th>unemployment_next_yr_Same</th>            <td>    0.1224</td> <td>    0.048</td> <td>    2.575</td> <td> 0.010</td> <td>    0.029</td> <td>    0.216</td>\n",
       "</tr>\n",
       "<tr>\n",
       "  <th>income_quintile_Lower middle</th>         <td>   -0.1211</td> <td>    0.010</td> <td>  -12.041</td> <td> 0.000</td> <td>   -0.141</td> <td>   -0.101</td>\n",
       "</tr>\n",
       "<tr>\n",
       "  <th>income_quintile_Lowest</th>               <td>   -0.2183</td> <td>    0.011</td> <td>  -19.132</td> <td> 0.000</td> <td>   -0.241</td> <td>   -0.196</td>\n",
       "</tr>\n",
       "<tr>\n",
       "  <th>income_quintile_Middle</th>               <td>   -0.0948</td> <td>    0.009</td> <td>  -10.042</td> <td> 0.000</td> <td>   -0.113</td> <td>   -0.076</td>\n",
       "</tr>\n",
       "<tr>\n",
       "  <th>income_quintile_Upper middle</th>         <td>   -0.0591</td> <td>    0.009</td> <td>   -6.756</td> <td> 0.000</td> <td>   -0.076</td> <td>   -0.042</td>\n",
       "</tr>\n",
       "<tr>\n",
       "  <th>age</th>                                  <td>   -0.0185</td> <td>    0.004</td> <td>   -4.792</td> <td> 0.000</td> <td>   -0.026</td> <td>   -0.011</td>\n",
       "</tr>\n",
       "<tr>\n",
       "  <th>sex_Male</th>                             <td>    0.1048</td> <td>    0.006</td> <td>   16.384</td> <td> 0.000</td> <td>    0.092</td> <td>    0.117</td>\n",
       "</tr>\n",
       "<tr>\n",
       "  <th>education_Graduate school</th>            <td>   -0.0174</td> <td>    0.010</td> <td>   -1.714</td> <td> 0.087</td> <td>   -0.037</td> <td>    0.002</td>\n",
       "</tr>\n",
       "<tr>\n",
       "  <th>education_High school</th>                <td>    0.0380</td> <td>    0.009</td> <td>    4.180</td> <td> 0.000</td> <td>    0.020</td> <td>    0.056</td>\n",
       "</tr>\n",
       "<tr>\n",
       "  <th>education_No high school</th>             <td>   -0.1318</td> <td>    0.022</td> <td>   -5.985</td> <td> 0.000</td> <td>   -0.175</td> <td>   -0.089</td>\n",
       "</tr>\n",
       "<tr>\n",
       "  <th>education_Partial high school</th>        <td>    0.0071</td> <td>    0.016</td> <td>    0.446</td> <td> 0.656</td> <td>   -0.024</td> <td>    0.038</td>\n",
       "</tr>\n",
       "<tr>\n",
       "  <th>education_Some college</th>               <td>    0.0258</td> <td>    0.009</td> <td>    2.877</td> <td> 0.004</td> <td>    0.008</td> <td>    0.043</td>\n",
       "</tr>\n",
       "<tr>\n",
       "  <th>household_size</th>                       <td>   -0.0375</td> <td>    0.003</td> <td>  -11.129</td> <td> 0.000</td> <td>   -0.044</td> <td>   -0.031</td>\n",
       "</tr>\n",
       "<tr>\n",
       "  <th>price_related_yr_ago_1.0</th>             <td>   -0.1518</td> <td>    0.009</td> <td>  -17.388</td> <td> 0.000</td> <td>   -0.169</td> <td>   -0.135</td>\n",
       "</tr>\n",
       "<tr>\n",
       "  <th>zlb_1.0</th>                              <td>   -0.0619</td> <td>    0.012</td> <td>   -5.172</td> <td> 0.000</td> <td>   -0.085</td> <td>   -0.038</td>\n",
       "</tr>\n",
       "<tr>\n",
       "  <th>price_change_amt_next_yr</th>             <td>   -0.0243</td> <td>    0.003</td> <td>   -7.265</td> <td> 0.000</td> <td>   -0.031</td> <td>   -0.018</td>\n",
       "</tr>\n",
       "<tr>\n",
       "  <th>0/1</th>                                  <td>   -0.8599</td> <td>    0.048</td> <td>  -17.787</td> <td> 0.000</td> <td>   -0.955</td> <td>   -0.765</td>\n",
       "</tr>\n",
       "<tr>\n",
       "  <th>1/2</th>                                  <td>   -2.0284</td> <td>    0.011</td> <td> -178.471</td> <td> 0.000</td> <td>   -2.051</td> <td>   -2.006</td>\n",
       "</tr>\n",
       "</table>"
      ],
      "text/plain": [
       "<class 'statsmodels.iolib.summary.Summary'>\n",
       "\"\"\"\n",
       "                             OrderedModel Results                             \n",
       "==============================================================================\n",
       "Dep. Variable:       durable_purchase   Log-Likelihood:            -1.2441e+05\n",
       "Model:                   OrderedModel   AIC:                         2.489e+05\n",
       "Method:            Maximum Likelihood   BIC:                         2.492e+05\n",
       "Date:                Fri, 02 Dec 2022                                         \n",
       "Time:                        17:53:19                                         \n",
       "No. Observations:              191148                                         \n",
       "Df Residuals:                  191114                                         \n",
       "Df Model:                          34                                         \n",
       "========================================================================================================\n",
       "                                           coef    std err          z      P>|z|      [0.025      0.975]\n",
       "--------------------------------------------------------------------------------------------------------\n",
       "fed_funds_rate                           0.2194      0.006     37.686      0.000       0.208       0.231\n",
       "unemployment_rate                       -0.1467      0.004    -38.647      0.000      -0.154      -0.139\n",
       "cpi_1mo_lag                             -0.1795      0.007    -27.301      0.000      -0.192      -0.167\n",
       "cpi_durable_1mo_lag                     -0.1421      0.005    -26.461      0.000      -0.153      -0.132\n",
       "personal_finances_next_yr_Don't know    -0.1995      0.024     -8.270      0.000      -0.247      -0.152\n",
       "personal_finances_next_yr_Refused       -0.1882      0.058     -3.259      0.001      -0.301      -0.075\n",
       "personal_finances_next_yr_Same          -0.0513      0.007     -7.198      0.000      -0.065      -0.037\n",
       "personal_finances_next_yr_Worse         -0.1744      0.011    -15.874      0.000      -0.196      -0.153\n",
       "income_change_amt_next_yr               -0.0310      0.003     -9.227      0.000      -0.038      -0.024\n",
       "conditions_next_yr_Don't know           -0.1372      0.030     -4.557      0.000      -0.196      -0.078\n",
       "conditions_next_yr_Refused              -0.1740      0.057     -3.060      0.002      -0.285      -0.063\n",
       "conditions_next_yr_Same                 -0.0284      0.008     -3.629      0.000      -0.044      -0.013\n",
       "conditions_next_yr_Worse                -0.2178      0.010    -21.626      0.000      -0.237      -0.198\n",
       "unemployment_next_yr_Higher             -0.1281      0.048     -2.690      0.007      -0.222      -0.035\n",
       "unemployment_next_yr_Lower               0.1690      0.048      3.530      0.000       0.075       0.263\n",
       "unemployment_next_yr_Refused            -0.0090      0.095     -0.095      0.924      -0.195       0.176\n",
       "unemployment_next_yr_Same                0.1224      0.048      2.575      0.010       0.029       0.216\n",
       "income_quintile_Lower middle            -0.1211      0.010    -12.041      0.000      -0.141      -0.101\n",
       "income_quintile_Lowest                  -0.2183      0.011    -19.132      0.000      -0.241      -0.196\n",
       "income_quintile_Middle                  -0.0948      0.009    -10.042      0.000      -0.113      -0.076\n",
       "income_quintile_Upper middle            -0.0591      0.009     -6.756      0.000      -0.076      -0.042\n",
       "age                                     -0.0185      0.004     -4.792      0.000      -0.026      -0.011\n",
       "sex_Male                                 0.1048      0.006     16.384      0.000       0.092       0.117\n",
       "education_Graduate school               -0.0174      0.010     -1.714      0.087      -0.037       0.002\n",
       "education_High school                    0.0380      0.009      4.180      0.000       0.020       0.056\n",
       "education_No high school                -0.1318      0.022     -5.985      0.000      -0.175      -0.089\n",
       "education_Partial high school            0.0071      0.016      0.446      0.656      -0.024       0.038\n",
       "education_Some college                   0.0258      0.009      2.877      0.004       0.008       0.043\n",
       "household_size                          -0.0375      0.003    -11.129      0.000      -0.044      -0.031\n",
       "price_related_yr_ago_1.0                -0.1518      0.009    -17.388      0.000      -0.169      -0.135\n",
       "zlb_1.0                                 -0.0619      0.012     -5.172      0.000      -0.085      -0.038\n",
       "price_change_amt_next_yr                -0.0243      0.003     -7.265      0.000      -0.031      -0.018\n",
       "0/1                                     -0.8599      0.048    -17.787      0.000      -0.955      -0.765\n",
       "1/2                                     -2.0284      0.011   -178.471      0.000      -2.051      -2.006\n",
       "========================================================================================================\n",
       "\"\"\""
      ]
     },
     "execution_count": 11,
     "metadata": {},
     "output_type": "execute_result"
    }
   ],
   "source": [
    "# model 1b: ordered probit (same as Bachmann et al.) using binned treatment\n",
    "mod_prob = OrderedModel(data_regression['durable_purchase'],\n",
    "                        data_regression[confounder_vars+treatment_vars],\n",
    "                        distr='probit')\n",
    "\n",
    "res_prob = mod_prob.fit(method='bfgs')\n",
    "res_prob.summary()"
   ]
  },
  {
   "cell_type": "code",
   "execution_count": 15,
   "metadata": {},
   "outputs": [
    {
     "data": {
      "text/plain": [
       "array([2, 2, 0, ..., 2, 2, 2])"
      ]
     },
     "execution_count": 15,
     "metadata": {},
     "output_type": "execute_result"
    }
   ],
   "source": [
    "# Second model - some sort of XGBoost?\n",
    "X = data_regression[confounder_vars+treatment_vars]\n",
    "Y = data_regression['durable_purchase']\n",
    "X_train, X_test, y_train, y_test = train_test_split(X, Y, test_size=0.2, random_state=7)\n",
    "\n",
    "model = xgb.XGBClassifier()\n",
    "model.fit(X_train, y_train)\n",
    "y_pred = model.predict(X_test)\n",
    "\n",
    "# predictions = [round(value) for value in y_pred]\n",
    "# # evaluate predictions\n",
    "# accuracy = accuracy_score(y_test, predictions)\n",
    "# print(\"Accuracy: %.2f%%\" % (accuracy * 100.0))"
   ]
  },
  {
   "cell_type": "markdown",
   "metadata": {},
   "source": [
    "## Helper Functions"
   ]
  },
  {
   "cell_type": "code",
   "execution_count": null,
   "metadata": {},
   "outputs": [],
   "source": [
    "# Conditional outcome models (Q models)\n",
    "def make_Q_model():\n",
    "    ''' A function that returns a general ML q model for later use in k-folding'''\n",
    "    return xgb.XGBRegressor()\n",
    "\n",
    "# Propensity score models (g models)\n",
    "def make_g_model():\n",
    "    ''' A function that returns a g model for computing propensity scores'''\n",
    "    return xgb.XGBClassifier()"
   ]
  },
  {
   "cell_type": "code",
   "execution_count": null,
   "metadata": {},
   "outputs": [],
   "source": [
    "# Functions for K-fold cross-fitting\n",
    "def treatment_k_fold_fit_and_predict(make_model, X:pd.DataFrame, A:np.array, n_splits:int):\n",
    "    '''\n",
    "    Implements K fold cross-fitting for the model predicting the treatment A. \n",
    "    That is, \n",
    "    1. Split data into K folds\n",
    "    2. For each fold j, the model is fit on the other K-1 folds\n",
    "    3. The fitted model is used to make predictions for each data point in fold j\n",
    "    Returns an array containing the predictions  \n",
    "\n",
    "    Args:\n",
    "    model: function that returns sklearn model (which implements fit and predict_prob)\n",
    "    X: dataframe of variables to adjust for\n",
    "    A: array of treatments\n",
    "    n_splits: number of splits to use\n",
    "    '''\n",
    "\n",
    "    predictions = np.full_like(A, np.nan, dtype=float)\n",
    "    kf = StratifiedKFold(n_splits=n_splits, shuffle=True, random_state=RANDOM_SEED)\n",
    "    \n",
    "    for train_index, test_index in kf.split(X, A):\n",
    "        X_train = X.loc[train_index]\n",
    "        A_train = A.loc[train_index]\n",
    "        g = make_model()\n",
    "        g.fit(X_train, A_train)\n",
    "\n",
    "        # get predictions for split\n",
    "        predictions[test_index] = g.predict_proba(X.loc[test_index])[:, 1]\n",
    "    \n",
    "    # sanity check that overlap holds\n",
    "    assert np.isnan(predictions).sum() == 0\n",
    "    return predictions\n",
    "\n",
    "def outcome_k_fold_fit_and_predict(make_model, X:pd.DataFrame, y:np.array, A:np.array, n_splits:int, output_type:str):\n",
    "    '''\n",
    "    Implements K fold cross-fitting for the model predicting the outcome Y. \n",
    "    That is, \n",
    "    1. Split data into K folds\n",
    "    2. For each fold j, the model is fit on the other K-1 folds\n",
    "    3. The fitted model is used to make predictions for each data point in fold j\n",
    "    Returns two arrays containing the predictions for all units untreated, all units treated  \n",
    "\n",
    "    Args:\n",
    "    model: function that returns sklearn model (that implements fit and either predict_prob or predict)\n",
    "    X: dataframe of variables to adjust for\n",
    "    y: array of outcomes\n",
    "    A: array of treatments\n",
    "    n_splits: number of splits to use\n",
    "    output_type: type of outcome, \"binary\" or \"continuous\"\n",
    "    '''\n",
    "\n",
    "    predictions0 = np.full_like(A, np.nan, dtype=float)\n",
    "    predictions1 = np.full_like(y, np.nan, dtype=float)\n",
    "    if output_type == 'binary':\n",
    "        kf = StratifiedKFold(n_splits=n_splits, shuffle=True, random_state=RANDOM_SEED)\n",
    "    elif output_type == 'continuous':\n",
    "        kf = KFold(n_splits=n_splits, shuffle=True, random_state=RANDOM_SEED)\n",
    "\n",
    "    # include the treatment as input feature\n",
    "    X_w_treatment = X.copy()\n",
    "    X_w_treatment[\"A\"] = A\n",
    "\n",
    "    # for predicting effect under treatment / control status for each data point \n",
    "    X0 = X_w_treatment.copy()\n",
    "    X0[\"A\"] = 0\n",
    "    X1 = X_w_treatment.copy()\n",
    "    X1[\"A\"] = 1\n",
    "    X2 = X_w_treatment.copy()\n",
    "    X2[\"A\"] = 2\n",
    "    X3 = X_w_treatment.copy()\n",
    "    X3[\"A\"] = 3\n",
    "    X4 = X_w_treatment.copy()\n",
    "    X4[\"A\"] = 4\n",
    "\n",
    "    \n",
    "    for train_index, test_index in kf.split(X_w_treatment, y):\n",
    "        X_train = X_w_treatment.loc[train_index]\n",
    "        y_train = y.loc[train_index]\n",
    "        q = make_model()\n",
    "        q.fit(X_train, y_train)\n",
    "\n",
    "        if output_type =='binary':\n",
    "            predictions0[test_index] = q.predict_proba(X0.loc[test_index])[:, 1]\n",
    "            predictions1[test_index] = q.predict_proba(X1.loc[test_index])[:, 1]\n",
    "        elif output_type == 'continuous':\n",
    "            predictions0[test_index] = q.predict(X0.loc[test_index])\n",
    "            predictions1[test_index] = q.predict(X1.loc[test_index])\n",
    "        elif output_type == 'categorical':\n",
    "            \n",
    "\n",
    "    assert np.isnan(predictions0).sum() == 0\n",
    "    assert np.isnan(predictions1).sum() == 0\n",
    "    return predictions0, predictions1"
   ]
  },
  {
   "cell_type": "code",
   "execution_count": null,
   "metadata": {},
   "outputs": [],
   "source": [
    "# Fit single Q() model\n",
    "# get conditional outcomes\n",
    "Q0_lm, Q1_lm = outcome_k_fold_fit_and_predict(make_Q_model, X=confounders, y=outcome, A=treatment, \\\n",
    "                                        n_splits=5, output_type=\"continuous\")\n",
    "\n",
    "# Fir 4 g(x) models\n",
    "g = treatment_k_fold_fit_and_predict(make_g_model, X=confounders, A=treatment, n_splits=5)"
   ]
  }
 ],
 "metadata": {
  "kernelspec": {
   "display_name": "Python 3.8.8 ('stats')",
   "language": "python",
   "name": "python3"
  },
  "language_info": {
   "codemirror_mode": {
    "name": "ipython",
    "version": 3
   },
   "file_extension": ".py",
   "mimetype": "text/x-python",
   "name": "python",
   "nbconvert_exporter": "python",
   "pygments_lexer": "ipython3",
   "version": "3.8.8"
  },
  "orig_nbformat": 4,
  "vscode": {
   "interpreter": {
    "hash": "6e666a3ba3648cc9e607b3cf542e9d75d4082c9e9424a59415dd75d5759d492a"
   }
  }
 },
 "nbformat": 4,
 "nbformat_minor": 2
}
