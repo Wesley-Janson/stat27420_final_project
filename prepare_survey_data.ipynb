{
 "cells": [
  {
   "cell_type": "code",
   "execution_count": 1,
   "metadata": {},
   "outputs": [],
   "source": [
    "import pandas as pd\n",
    "import numpy as np\n",
    "import matplotlib.pyplot as plt\n",
    "import datetime as dt"
   ]
  },
  {
   "cell_type": "code",
   "execution_count": 2,
   "metadata": {},
   "outputs": [
    {
     "name": "stderr",
     "output_type": "stream",
     "text": [
      "/Users/drewkeller/opt/anaconda3/lib/python3.8/site-packages/IPython/core/interactiveshell.py:3165: DtypeWarning: Columns (13,15,16,18,32,34,36,37,41,45,46,55,71,83,84,86,87,90,91,92,96,98,100,101,103,104,105,106,107,108,109) have mixed types.Specify dtype option on import or set low_memory=False.\n",
      "  has_raised = await self.run_ast_nodes(code_ast.body, cell_name,\n"
     ]
    }
   ],
   "source": [
    "survey_data = pd.read_csv(\"../paper_replication_data/MichiganConsumerSurvey.csv\")"
   ]
  },
  {
   "cell_type": "code",
   "execution_count": 3,
   "metadata": {},
   "outputs": [
    {
     "data": {
      "text/plain": [
       "307317"
      ]
     },
     "execution_count": 3,
     "metadata": {},
     "output_type": "execute_result"
    }
   ],
   "source": [
    "len(survey_data)"
   ]
  },
  {
   "cell_type": "code",
   "execution_count": 4,
   "metadata": {},
   "outputs": [
    {
     "data": {
      "text/plain": [
       "count    307317.000000\n",
       "mean     199873.562911\n",
       "std        1375.599800\n",
       "min      197801.000000\n",
       "25%      198605.000000\n",
       "50%      199809.000000\n",
       "75%      201106.000000\n",
       "max      202210.000000\n",
       "Name: YYYYMM, dtype: float64"
      ]
     },
     "execution_count": 4,
     "metadata": {},
     "output_type": "execute_result"
    }
   ],
   "source": [
    "# date range\n",
    "survey_data.YYYYMM.describe()"
   ]
  },
  {
   "cell_type": "code",
   "execution_count": 5,
   "metadata": {},
   "outputs": [],
   "source": [
    "# convert to YYYY-MM-DD for now\n",
    "survey_data[\"DATE\"] = pd.to_datetime(survey_data.YYYYMM, format=\"%Y%m\").dt.strftime(\"%Y-%m-%d\")"
   ]
  },
  {
   "cell_type": "code",
   "execution_count": 6,
   "metadata": {},
   "outputs": [
    {
     "name": "stderr",
     "output_type": "stream",
     "text": [
      "/Users/drewkeller/opt/anaconda3/lib/python3.8/site-packages/IPython/core/interactiveshell.py:3357: DtypeWarning: Columns (13,15,16,18,32,34,36,37,41,45,46,55,71,83,84,86,87,90,91,92,96,98,100,101,103,104,105,106,107,108,109) have mixed types.Specify dtype option on import or set low_memory=False.\n",
      "  if (await self.run_code(code, result,  async_=asy)):\n",
      "/Users/drewkeller/opt/anaconda3/lib/python3.8/site-packages/openpyxl/worksheet/header_footer.py:48: UserWarning: Cannot parse header or footer so it will be ignored\n",
      "  warn(\"\"\"Cannot parse header or footer so it will be ignored\"\"\")\n"
     ]
    }
   ],
   "source": [
    "import data_merging"
   ]
  },
  {
   "cell_type": "code",
   "execution_count": 11,
   "metadata": {},
   "outputs": [],
   "source": [
    "base_data = data_merging.base_data\n",
    "for i in data_merging.other_data:\n",
    "    base_data = base_data.merge(i, how=\"left\", on=\"DATE\")"
   ]
  },
  {
   "cell_type": "code",
   "execution_count": 12,
   "metadata": {},
   "outputs": [
    {
     "data": {
      "text/html": [
       "<div>\n",
       "<style scoped>\n",
       "    .dataframe tbody tr th:only-of-type {\n",
       "        vertical-align: middle;\n",
       "    }\n",
       "\n",
       "    .dataframe tbody tr th {\n",
       "        vertical-align: top;\n",
       "    }\n",
       "\n",
       "    .dataframe thead th {\n",
       "        text-align: right;\n",
       "    }\n",
       "</style>\n",
       "<table border=\"1\" class=\"dataframe\">\n",
       "  <thead>\n",
       "    <tr style=\"text-align: right;\">\n",
       "      <th></th>\n",
       "      <th>CASEID</th>\n",
       "      <th>YYYYMM</th>\n",
       "      <th>YYYYQ</th>\n",
       "      <th>YYYY</th>\n",
       "      <th>ID</th>\n",
       "      <th>IDPREV</th>\n",
       "      <th>DATEPR</th>\n",
       "      <th>ICS</th>\n",
       "      <th>ICC</th>\n",
       "      <th>ICE</th>\n",
       "      <th>...</th>\n",
       "      <th>WT</th>\n",
       "      <th>DATE</th>\n",
       "      <th>FEDFUNDS</th>\n",
       "      <th>UNRATE</th>\n",
       "      <th>CPIAUCSL</th>\n",
       "      <th>CUSR0000SAD</th>\n",
       "      <th>SPCS10RSA</th>\n",
       "      <th>INFPGDP1YR</th>\n",
       "      <th>INFCPI1YR</th>\n",
       "      <th>INFCPI10YR</th>\n",
       "    </tr>\n",
       "  </thead>\n",
       "  <tbody>\n",
       "    <tr>\n",
       "      <th>0</th>\n",
       "      <td>1</td>\n",
       "      <td>197801</td>\n",
       "      <td>19781</td>\n",
       "      <td>1978</td>\n",
       "      <td>1</td>\n",
       "      <td></td>\n",
       "      <td></td>\n",
       "      <td>76.71</td>\n",
       "      <td>116.23</td>\n",
       "      <td>51.32</td>\n",
       "      <td>...</td>\n",
       "      <td>0.00</td>\n",
       "      <td>1978-01-01</td>\n",
       "      <td>6.70</td>\n",
       "      <td>6.4</td>\n",
       "      <td>6.814310</td>\n",
       "      <td>4.444444</td>\n",
       "      <td>NaN</td>\n",
       "      <td>5.9044</td>\n",
       "      <td>NaN</td>\n",
       "      <td>NaN</td>\n",
       "    </tr>\n",
       "    <tr>\n",
       "      <th>1</th>\n",
       "      <td>2</td>\n",
       "      <td>197801</td>\n",
       "      <td>19781</td>\n",
       "      <td>1978</td>\n",
       "      <td>2</td>\n",
       "      <td></td>\n",
       "      <td></td>\n",
       "      <td>121.12</td>\n",
       "      <td>154.08</td>\n",
       "      <td>99.94</td>\n",
       "      <td>...</td>\n",
       "      <td>0.72</td>\n",
       "      <td>1978-01-01</td>\n",
       "      <td>6.70</td>\n",
       "      <td>6.4</td>\n",
       "      <td>6.814310</td>\n",
       "      <td>4.444444</td>\n",
       "      <td>NaN</td>\n",
       "      <td>5.9044</td>\n",
       "      <td>NaN</td>\n",
       "      <td>NaN</td>\n",
       "    </tr>\n",
       "    <tr>\n",
       "      <th>2</th>\n",
       "      <td>3</td>\n",
       "      <td>197801</td>\n",
       "      <td>19781</td>\n",
       "      <td>1978</td>\n",
       "      <td>3</td>\n",
       "      <td></td>\n",
       "      <td></td>\n",
       "      <td>2.70</td>\n",
       "      <td>2.70</td>\n",
       "      <td>2.70</td>\n",
       "      <td>...</td>\n",
       "      <td>1.03</td>\n",
       "      <td>1978-01-01</td>\n",
       "      <td>6.70</td>\n",
       "      <td>6.4</td>\n",
       "      <td>6.814310</td>\n",
       "      <td>4.444444</td>\n",
       "      <td>NaN</td>\n",
       "      <td>5.9044</td>\n",
       "      <td>NaN</td>\n",
       "      <td>NaN</td>\n",
       "    </tr>\n",
       "    <tr>\n",
       "      <th>3</th>\n",
       "      <td>4</td>\n",
       "      <td>197801</td>\n",
       "      <td>19781</td>\n",
       "      <td>1978</td>\n",
       "      <td>4</td>\n",
       "      <td></td>\n",
       "      <td></td>\n",
       "      <td>76.71</td>\n",
       "      <td>154.08</td>\n",
       "      <td>27.01</td>\n",
       "      <td>...</td>\n",
       "      <td>0.00</td>\n",
       "      <td>1978-01-01</td>\n",
       "      <td>6.70</td>\n",
       "      <td>6.4</td>\n",
       "      <td>6.814310</td>\n",
       "      <td>4.444444</td>\n",
       "      <td>NaN</td>\n",
       "      <td>5.9044</td>\n",
       "      <td>NaN</td>\n",
       "      <td>NaN</td>\n",
       "    </tr>\n",
       "    <tr>\n",
       "      <th>4</th>\n",
       "      <td>5</td>\n",
       "      <td>197801</td>\n",
       "      <td>19781</td>\n",
       "      <td>1978</td>\n",
       "      <td>5</td>\n",
       "      <td></td>\n",
       "      <td></td>\n",
       "      <td>121.12</td>\n",
       "      <td>116.23</td>\n",
       "      <td>124.25</td>\n",
       "      <td>...</td>\n",
       "      <td>0.93</td>\n",
       "      <td>1978-01-01</td>\n",
       "      <td>6.70</td>\n",
       "      <td>6.4</td>\n",
       "      <td>6.814310</td>\n",
       "      <td>4.444444</td>\n",
       "      <td>NaN</td>\n",
       "      <td>5.9044</td>\n",
       "      <td>NaN</td>\n",
       "      <td>NaN</td>\n",
       "    </tr>\n",
       "    <tr>\n",
       "      <th>...</th>\n",
       "      <td>...</td>\n",
       "      <td>...</td>\n",
       "      <td>...</td>\n",
       "      <td>...</td>\n",
       "      <td>...</td>\n",
       "      <td>...</td>\n",
       "      <td>...</td>\n",
       "      <td>...</td>\n",
       "      <td>...</td>\n",
       "      <td>...</td>\n",
       "      <td>...</td>\n",
       "      <td>...</td>\n",
       "      <td>...</td>\n",
       "      <td>...</td>\n",
       "      <td>...</td>\n",
       "      <td>...</td>\n",
       "      <td>...</td>\n",
       "      <td>...</td>\n",
       "      <td>...</td>\n",
       "      <td>...</td>\n",
       "      <td>...</td>\n",
       "    </tr>\n",
       "    <tr>\n",
       "      <th>307312</th>\n",
       "      <td>307313</td>\n",
       "      <td>202210</td>\n",
       "      <td>20224</td>\n",
       "      <td>2022</td>\n",
       "      <td>2096</td>\n",
       "      <td>1091</td>\n",
       "      <td>202204</td>\n",
       "      <td>105.61</td>\n",
       "      <td>77.69</td>\n",
       "      <td>123.55</td>\n",
       "      <td>...</td>\n",
       "      <td>0.50</td>\n",
       "      <td>2022-10-01</td>\n",
       "      <td>3.08</td>\n",
       "      <td>3.7</td>\n",
       "      <td>7.763115</td>\n",
       "      <td>4.755809</td>\n",
       "      <td>NaN</td>\n",
       "      <td>2.9612</td>\n",
       "      <td>3.5003</td>\n",
       "      <td>2.95</td>\n",
       "    </tr>\n",
       "    <tr>\n",
       "      <th>307313</th>\n",
       "      <td>307314</td>\n",
       "      <td>202210</td>\n",
       "      <td>20224</td>\n",
       "      <td>2022</td>\n",
       "      <td>2097</td>\n",
       "      <td>1059</td>\n",
       "      <td>202204</td>\n",
       "      <td>16.80</td>\n",
       "      <td>2.00</td>\n",
       "      <td>26.31</td>\n",
       "      <td>...</td>\n",
       "      <td>0.75</td>\n",
       "      <td>2022-10-01</td>\n",
       "      <td>3.08</td>\n",
       "      <td>3.7</td>\n",
       "      <td>7.763115</td>\n",
       "      <td>4.755809</td>\n",
       "      <td>NaN</td>\n",
       "      <td>2.9612</td>\n",
       "      <td>3.5003</td>\n",
       "      <td>2.95</td>\n",
       "    </tr>\n",
       "    <tr>\n",
       "      <th>307314</th>\n",
       "      <td>307315</td>\n",
       "      <td>202210</td>\n",
       "      <td>20224</td>\n",
       "      <td>2022</td>\n",
       "      <td>2098</td>\n",
       "      <td>1148</td>\n",
       "      <td>202204</td>\n",
       "      <td>61.21</td>\n",
       "      <td>115.53</td>\n",
       "      <td>26.31</td>\n",
       "      <td>...</td>\n",
       "      <td>0.75</td>\n",
       "      <td>2022-10-01</td>\n",
       "      <td>3.08</td>\n",
       "      <td>3.7</td>\n",
       "      <td>7.763115</td>\n",
       "      <td>4.755809</td>\n",
       "      <td>NaN</td>\n",
       "      <td>2.9612</td>\n",
       "      <td>3.5003</td>\n",
       "      <td>2.95</td>\n",
       "    </tr>\n",
       "    <tr>\n",
       "      <th>307315</th>\n",
       "      <td>307316</td>\n",
       "      <td>202210</td>\n",
       "      <td>20224</td>\n",
       "      <td>2022</td>\n",
       "      <td>2099</td>\n",
       "      <td>1145</td>\n",
       "      <td>202204</td>\n",
       "      <td>105.61</td>\n",
       "      <td>153.38</td>\n",
       "      <td>74.93</td>\n",
       "      <td>...</td>\n",
       "      <td>1.25</td>\n",
       "      <td>2022-10-01</td>\n",
       "      <td>3.08</td>\n",
       "      <td>3.7</td>\n",
       "      <td>7.763115</td>\n",
       "      <td>4.755809</td>\n",
       "      <td>NaN</td>\n",
       "      <td>2.9612</td>\n",
       "      <td>3.5003</td>\n",
       "      <td>2.95</td>\n",
       "    </tr>\n",
       "    <tr>\n",
       "      <th>307316</th>\n",
       "      <td>307317</td>\n",
       "      <td>202210</td>\n",
       "      <td>20224</td>\n",
       "      <td>2022</td>\n",
       "      <td>2100</td>\n",
       "      <td>1109</td>\n",
       "      <td>202204</td>\n",
       "      <td>31.60</td>\n",
       "      <td>77.69</td>\n",
       "      <td>2.00</td>\n",
       "      <td>...</td>\n",
       "      <td>1.50</td>\n",
       "      <td>2022-10-01</td>\n",
       "      <td>3.08</td>\n",
       "      <td>3.7</td>\n",
       "      <td>7.763115</td>\n",
       "      <td>4.755809</td>\n",
       "      <td>NaN</td>\n",
       "      <td>2.9612</td>\n",
       "      <td>3.5003</td>\n",
       "      <td>2.95</td>\n",
       "    </tr>\n",
       "  </tbody>\n",
       "</table>\n",
       "<p>307317 rows × 120 columns</p>\n",
       "</div>"
      ],
      "text/plain": [
       "        CASEID  YYYYMM  YYYYQ  YYYY    ID IDPREV  DATEPR     ICS     ICC  \\\n",
       "0            1  197801  19781  1978     1                  76.71  116.23   \n",
       "1            2  197801  19781  1978     2                 121.12  154.08   \n",
       "2            3  197801  19781  1978     3                   2.70    2.70   \n",
       "3            4  197801  19781  1978     4                  76.71  154.08   \n",
       "4            5  197801  19781  1978     5                 121.12  116.23   \n",
       "...        ...     ...    ...   ...   ...    ...     ...     ...     ...   \n",
       "307312  307313  202210  20224  2022  2096   1091  202204  105.61   77.69   \n",
       "307313  307314  202210  20224  2022  2097   1059  202204   16.80    2.00   \n",
       "307314  307315  202210  20224  2022  2098   1148  202204   61.21  115.53   \n",
       "307315  307316  202210  20224  2022  2099   1145  202204  105.61  153.38   \n",
       "307316  307317  202210  20224  2022  2100   1109  202204   31.60   77.69   \n",
       "\n",
       "           ICE  ...    WT        DATE  FEDFUNDS UNRATE  CPIAUCSL CUSR0000SAD  \\\n",
       "0        51.32  ...  0.00  1978-01-01      6.70    6.4  6.814310    4.444444   \n",
       "1        99.94  ...  0.72  1978-01-01      6.70    6.4  6.814310    4.444444   \n",
       "2         2.70  ...  1.03  1978-01-01      6.70    6.4  6.814310    4.444444   \n",
       "3        27.01  ...  0.00  1978-01-01      6.70    6.4  6.814310    4.444444   \n",
       "4       124.25  ...  0.93  1978-01-01      6.70    6.4  6.814310    4.444444   \n",
       "...        ...  ...   ...         ...       ...    ...       ...         ...   \n",
       "307312  123.55  ...  0.50  2022-10-01      3.08    3.7  7.763115    4.755809   \n",
       "307313   26.31  ...  0.75  2022-10-01      3.08    3.7  7.763115    4.755809   \n",
       "307314   26.31  ...  0.75  2022-10-01      3.08    3.7  7.763115    4.755809   \n",
       "307315   74.93  ...  1.25  2022-10-01      3.08    3.7  7.763115    4.755809   \n",
       "307316    2.00  ...  1.50  2022-10-01      3.08    3.7  7.763115    4.755809   \n",
       "\n",
       "       SPCS10RSA INFPGDP1YR INFCPI1YR  INFCPI10YR  \n",
       "0            NaN     5.9044       NaN         NaN  \n",
       "1            NaN     5.9044       NaN         NaN  \n",
       "2            NaN     5.9044       NaN         NaN  \n",
       "3            NaN     5.9044       NaN         NaN  \n",
       "4            NaN     5.9044       NaN         NaN  \n",
       "...          ...        ...       ...         ...  \n",
       "307312       NaN     2.9612    3.5003        2.95  \n",
       "307313       NaN     2.9612    3.5003        2.95  \n",
       "307314       NaN     2.9612    3.5003        2.95  \n",
       "307315       NaN     2.9612    3.5003        2.95  \n",
       "307316       NaN     2.9612    3.5003        2.95  \n",
       "\n",
       "[307317 rows x 120 columns]"
      ]
     },
     "execution_count": 12,
     "metadata": {},
     "output_type": "execute_result"
    }
   ],
   "source": [
    "base_data"
   ]
  },
  {
   "cell_type": "code",
   "execution_count": 2,
   "metadata": {},
   "outputs": [
    {
     "name": "stderr",
     "output_type": "stream",
     "text": [
      "/Users/drewkeller/opt/anaconda3/lib/python3.8/site-packages/openpyxl/worksheet/header_footer.py:48: UserWarning: Cannot parse header or footer so it will be ignored\n",
      "  warn(\"\"\"Cannot parse header or footer so it will be ignored\"\"\")\n"
     ]
    }
   ],
   "source": [
    "from data_merging import base_data"
   ]
  },
  {
   "cell_type": "code",
   "execution_count": 4,
   "metadata": {},
   "outputs": [
    {
     "data": {
      "text/html": [
       "<div>\n",
       "<style scoped>\n",
       "    .dataframe tbody tr th:only-of-type {\n",
       "        vertical-align: middle;\n",
       "    }\n",
       "\n",
       "    .dataframe tbody tr th {\n",
       "        vertical-align: top;\n",
       "    }\n",
       "\n",
       "    .dataframe thead th {\n",
       "        text-align: right;\n",
       "    }\n",
       "</style>\n",
       "<table border=\"1\" class=\"dataframe\">\n",
       "  <thead>\n",
       "    <tr style=\"text-align: right;\">\n",
       "      <th></th>\n",
       "      <th>CASEID</th>\n",
       "      <th>YYYYMM</th>\n",
       "      <th>YYYYQ</th>\n",
       "      <th>YYYY</th>\n",
       "      <th>ID</th>\n",
       "      <th>IDPREV</th>\n",
       "      <th>DATEPR</th>\n",
       "      <th>ICS</th>\n",
       "      <th>ICC</th>\n",
       "      <th>ICE</th>\n",
       "      <th>...</th>\n",
       "      <th>WT</th>\n",
       "      <th>DATE</th>\n",
       "      <th>FEDFUNDS</th>\n",
       "      <th>UNRATE</th>\n",
       "      <th>CPIAUCSL</th>\n",
       "      <th>CUSR0000SAD</th>\n",
       "      <th>SPCS10RSA</th>\n",
       "      <th>INFPGDP1YR</th>\n",
       "      <th>INFCPI1YR</th>\n",
       "      <th>INFCPI10YR</th>\n",
       "    </tr>\n",
       "  </thead>\n",
       "  <tbody>\n",
       "    <tr>\n",
       "      <th>0</th>\n",
       "      <td>1</td>\n",
       "      <td>197801</td>\n",
       "      <td>19781</td>\n",
       "      <td>1978</td>\n",
       "      <td>1</td>\n",
       "      <td></td>\n",
       "      <td></td>\n",
       "      <td>76.71</td>\n",
       "      <td>116.23</td>\n",
       "      <td>51.32</td>\n",
       "      <td>...</td>\n",
       "      <td>0.00</td>\n",
       "      <td>1978-01-01</td>\n",
       "      <td>6.70</td>\n",
       "      <td>6.4</td>\n",
       "      <td>6.814310</td>\n",
       "      <td>4.444444</td>\n",
       "      <td>NaN</td>\n",
       "      <td>5.9044</td>\n",
       "      <td>NaN</td>\n",
       "      <td>NaN</td>\n",
       "    </tr>\n",
       "    <tr>\n",
       "      <th>1</th>\n",
       "      <td>2</td>\n",
       "      <td>197801</td>\n",
       "      <td>19781</td>\n",
       "      <td>1978</td>\n",
       "      <td>2</td>\n",
       "      <td></td>\n",
       "      <td></td>\n",
       "      <td>121.12</td>\n",
       "      <td>154.08</td>\n",
       "      <td>99.94</td>\n",
       "      <td>...</td>\n",
       "      <td>0.72</td>\n",
       "      <td>1978-01-01</td>\n",
       "      <td>6.70</td>\n",
       "      <td>6.4</td>\n",
       "      <td>6.814310</td>\n",
       "      <td>4.444444</td>\n",
       "      <td>NaN</td>\n",
       "      <td>5.9044</td>\n",
       "      <td>NaN</td>\n",
       "      <td>NaN</td>\n",
       "    </tr>\n",
       "    <tr>\n",
       "      <th>2</th>\n",
       "      <td>3</td>\n",
       "      <td>197801</td>\n",
       "      <td>19781</td>\n",
       "      <td>1978</td>\n",
       "      <td>3</td>\n",
       "      <td></td>\n",
       "      <td></td>\n",
       "      <td>2.70</td>\n",
       "      <td>2.70</td>\n",
       "      <td>2.70</td>\n",
       "      <td>...</td>\n",
       "      <td>1.03</td>\n",
       "      <td>1978-01-01</td>\n",
       "      <td>6.70</td>\n",
       "      <td>6.4</td>\n",
       "      <td>6.814310</td>\n",
       "      <td>4.444444</td>\n",
       "      <td>NaN</td>\n",
       "      <td>5.9044</td>\n",
       "      <td>NaN</td>\n",
       "      <td>NaN</td>\n",
       "    </tr>\n",
       "    <tr>\n",
       "      <th>3</th>\n",
       "      <td>4</td>\n",
       "      <td>197801</td>\n",
       "      <td>19781</td>\n",
       "      <td>1978</td>\n",
       "      <td>4</td>\n",
       "      <td></td>\n",
       "      <td></td>\n",
       "      <td>76.71</td>\n",
       "      <td>154.08</td>\n",
       "      <td>27.01</td>\n",
       "      <td>...</td>\n",
       "      <td>0.00</td>\n",
       "      <td>1978-01-01</td>\n",
       "      <td>6.70</td>\n",
       "      <td>6.4</td>\n",
       "      <td>6.814310</td>\n",
       "      <td>4.444444</td>\n",
       "      <td>NaN</td>\n",
       "      <td>5.9044</td>\n",
       "      <td>NaN</td>\n",
       "      <td>NaN</td>\n",
       "    </tr>\n",
       "    <tr>\n",
       "      <th>4</th>\n",
       "      <td>5</td>\n",
       "      <td>197801</td>\n",
       "      <td>19781</td>\n",
       "      <td>1978</td>\n",
       "      <td>5</td>\n",
       "      <td></td>\n",
       "      <td></td>\n",
       "      <td>121.12</td>\n",
       "      <td>116.23</td>\n",
       "      <td>124.25</td>\n",
       "      <td>...</td>\n",
       "      <td>0.93</td>\n",
       "      <td>1978-01-01</td>\n",
       "      <td>6.70</td>\n",
       "      <td>6.4</td>\n",
       "      <td>6.814310</td>\n",
       "      <td>4.444444</td>\n",
       "      <td>NaN</td>\n",
       "      <td>5.9044</td>\n",
       "      <td>NaN</td>\n",
       "      <td>NaN</td>\n",
       "    </tr>\n",
       "    <tr>\n",
       "      <th>...</th>\n",
       "      <td>...</td>\n",
       "      <td>...</td>\n",
       "      <td>...</td>\n",
       "      <td>...</td>\n",
       "      <td>...</td>\n",
       "      <td>...</td>\n",
       "      <td>...</td>\n",
       "      <td>...</td>\n",
       "      <td>...</td>\n",
       "      <td>...</td>\n",
       "      <td>...</td>\n",
       "      <td>...</td>\n",
       "      <td>...</td>\n",
       "      <td>...</td>\n",
       "      <td>...</td>\n",
       "      <td>...</td>\n",
       "      <td>...</td>\n",
       "      <td>...</td>\n",
       "      <td>...</td>\n",
       "      <td>...</td>\n",
       "      <td>...</td>\n",
       "    </tr>\n",
       "    <tr>\n",
       "      <th>307312</th>\n",
       "      <td>307313</td>\n",
       "      <td>202210</td>\n",
       "      <td>20224</td>\n",
       "      <td>2022</td>\n",
       "      <td>2096</td>\n",
       "      <td>1091</td>\n",
       "      <td>202204</td>\n",
       "      <td>105.61</td>\n",
       "      <td>77.69</td>\n",
       "      <td>123.55</td>\n",
       "      <td>...</td>\n",
       "      <td>0.50</td>\n",
       "      <td>2022-10-01</td>\n",
       "      <td>3.08</td>\n",
       "      <td>3.7</td>\n",
       "      <td>7.763115</td>\n",
       "      <td>4.755809</td>\n",
       "      <td>NaN</td>\n",
       "      <td>2.9612</td>\n",
       "      <td>3.5003</td>\n",
       "      <td>2.95</td>\n",
       "    </tr>\n",
       "    <tr>\n",
       "      <th>307313</th>\n",
       "      <td>307314</td>\n",
       "      <td>202210</td>\n",
       "      <td>20224</td>\n",
       "      <td>2022</td>\n",
       "      <td>2097</td>\n",
       "      <td>1059</td>\n",
       "      <td>202204</td>\n",
       "      <td>16.80</td>\n",
       "      <td>2.00</td>\n",
       "      <td>26.31</td>\n",
       "      <td>...</td>\n",
       "      <td>0.75</td>\n",
       "      <td>2022-10-01</td>\n",
       "      <td>3.08</td>\n",
       "      <td>3.7</td>\n",
       "      <td>7.763115</td>\n",
       "      <td>4.755809</td>\n",
       "      <td>NaN</td>\n",
       "      <td>2.9612</td>\n",
       "      <td>3.5003</td>\n",
       "      <td>2.95</td>\n",
       "    </tr>\n",
       "    <tr>\n",
       "      <th>307314</th>\n",
       "      <td>307315</td>\n",
       "      <td>202210</td>\n",
       "      <td>20224</td>\n",
       "      <td>2022</td>\n",
       "      <td>2098</td>\n",
       "      <td>1148</td>\n",
       "      <td>202204</td>\n",
       "      <td>61.21</td>\n",
       "      <td>115.53</td>\n",
       "      <td>26.31</td>\n",
       "      <td>...</td>\n",
       "      <td>0.75</td>\n",
       "      <td>2022-10-01</td>\n",
       "      <td>3.08</td>\n",
       "      <td>3.7</td>\n",
       "      <td>7.763115</td>\n",
       "      <td>4.755809</td>\n",
       "      <td>NaN</td>\n",
       "      <td>2.9612</td>\n",
       "      <td>3.5003</td>\n",
       "      <td>2.95</td>\n",
       "    </tr>\n",
       "    <tr>\n",
       "      <th>307315</th>\n",
       "      <td>307316</td>\n",
       "      <td>202210</td>\n",
       "      <td>20224</td>\n",
       "      <td>2022</td>\n",
       "      <td>2099</td>\n",
       "      <td>1145</td>\n",
       "      <td>202204</td>\n",
       "      <td>105.61</td>\n",
       "      <td>153.38</td>\n",
       "      <td>74.93</td>\n",
       "      <td>...</td>\n",
       "      <td>1.25</td>\n",
       "      <td>2022-10-01</td>\n",
       "      <td>3.08</td>\n",
       "      <td>3.7</td>\n",
       "      <td>7.763115</td>\n",
       "      <td>4.755809</td>\n",
       "      <td>NaN</td>\n",
       "      <td>2.9612</td>\n",
       "      <td>3.5003</td>\n",
       "      <td>2.95</td>\n",
       "    </tr>\n",
       "    <tr>\n",
       "      <th>307316</th>\n",
       "      <td>307317</td>\n",
       "      <td>202210</td>\n",
       "      <td>20224</td>\n",
       "      <td>2022</td>\n",
       "      <td>2100</td>\n",
       "      <td>1109</td>\n",
       "      <td>202204</td>\n",
       "      <td>31.60</td>\n",
       "      <td>77.69</td>\n",
       "      <td>2.00</td>\n",
       "      <td>...</td>\n",
       "      <td>1.50</td>\n",
       "      <td>2022-10-01</td>\n",
       "      <td>3.08</td>\n",
       "      <td>3.7</td>\n",
       "      <td>7.763115</td>\n",
       "      <td>4.755809</td>\n",
       "      <td>NaN</td>\n",
       "      <td>2.9612</td>\n",
       "      <td>3.5003</td>\n",
       "      <td>2.95</td>\n",
       "    </tr>\n",
       "  </tbody>\n",
       "</table>\n",
       "<p>307317 rows × 120 columns</p>\n",
       "</div>"
      ],
      "text/plain": [
       "        CASEID  YYYYMM  YYYYQ  YYYY    ID IDPREV  DATEPR     ICS     ICC  \\\n",
       "0            1  197801  19781  1978     1                  76.71  116.23   \n",
       "1            2  197801  19781  1978     2                 121.12  154.08   \n",
       "2            3  197801  19781  1978     3                   2.70    2.70   \n",
       "3            4  197801  19781  1978     4                  76.71  154.08   \n",
       "4            5  197801  19781  1978     5                 121.12  116.23   \n",
       "...        ...     ...    ...   ...   ...    ...     ...     ...     ...   \n",
       "307312  307313  202210  20224  2022  2096   1091  202204  105.61   77.69   \n",
       "307313  307314  202210  20224  2022  2097   1059  202204   16.80    2.00   \n",
       "307314  307315  202210  20224  2022  2098   1148  202204   61.21  115.53   \n",
       "307315  307316  202210  20224  2022  2099   1145  202204  105.61  153.38   \n",
       "307316  307317  202210  20224  2022  2100   1109  202204   31.60   77.69   \n",
       "\n",
       "           ICE  ...     WT       DATE FEDFUNDS UNRATE  CPIAUCSL CUSR0000SAD  \\\n",
       "0        51.32  ...   0.00 1978-01-01     6.70    6.4  6.814310    4.444444   \n",
       "1        99.94  ...   0.72 1978-01-01     6.70    6.4  6.814310    4.444444   \n",
       "2         2.70  ...   1.03 1978-01-01     6.70    6.4  6.814310    4.444444   \n",
       "3        27.01  ...   0.00 1978-01-01     6.70    6.4  6.814310    4.444444   \n",
       "4       124.25  ...   0.93 1978-01-01     6.70    6.4  6.814310    4.444444   \n",
       "...        ...  ...    ...        ...      ...    ...       ...         ...   \n",
       "307312  123.55  ...   0.50 2022-10-01     3.08    3.7  7.763115    4.755809   \n",
       "307313   26.31  ...   0.75 2022-10-01     3.08    3.7  7.763115    4.755809   \n",
       "307314   26.31  ...   0.75 2022-10-01     3.08    3.7  7.763115    4.755809   \n",
       "307315   74.93  ...   1.25 2022-10-01     3.08    3.7  7.763115    4.755809   \n",
       "307316    2.00  ...   1.50 2022-10-01     3.08    3.7  7.763115    4.755809   \n",
       "\n",
       "       SPCS10RSA INFPGDP1YR INFCPI1YR INFCPI10YR  \n",
       "0            NaN     5.9044       NaN        NaN  \n",
       "1            NaN     5.9044       NaN        NaN  \n",
       "2            NaN     5.9044       NaN        NaN  \n",
       "3            NaN     5.9044       NaN        NaN  \n",
       "4            NaN     5.9044       NaN        NaN  \n",
       "...          ...        ...       ...        ...  \n",
       "307312       NaN     2.9612    3.5003       2.95  \n",
       "307313       NaN     2.9612    3.5003       2.95  \n",
       "307314       NaN     2.9612    3.5003       2.95  \n",
       "307315       NaN     2.9612    3.5003       2.95  \n",
       "307316       NaN     2.9612    3.5003       2.95  \n",
       "\n",
       "[307317 rows x 120 columns]"
      ]
     },
     "execution_count": 4,
     "metadata": {},
     "output_type": "execute_result"
    }
   ],
   "source": [
    "base_data"
   ]
  },
  {
   "cell_type": "markdown",
   "metadata": {},
   "source": [
    "_Preprocess Features_"
   ]
  },
  {
   "cell_type": "code",
   "execution_count": 7,
   "metadata": {},
   "outputs": [
    {
     "data": {
      "text/plain": [
       "IDPREV  DATEPR\n",
       "                  194433\n",
       "        198905       269\n",
       "        198102         8\n",
       "        198312         6\n",
       "        198106         5\n",
       "                   ...  \n",
       " 105    198706         1\n",
       "        198705         1\n",
       "        198703         1\n",
       "        198702         1\n",
       "4022    198109         1\n",
       "Length: 112572, dtype: int64"
      ]
     },
     "execution_count": 7,
     "metadata": {},
     "output_type": "execute_result"
    }
   ],
   "source": [
    "survey_data[[\"IDPREV\",\"DATEPR\"]].value_counts()"
   ]
  },
  {
   "cell_type": "code",
   "execution_count": 8,
   "metadata": {},
   "outputs": [],
   "source": [
    "survey_data[\"first_interview\"] = np.where(survey_data.IDPREV.isna(), 1, 0)"
   ]
  },
  {
   "cell_type": "code",
   "execution_count": 10,
   "metadata": {},
   "outputs": [
    {
     "data": {
      "text/plain": [
       "<AxesSubplot:>"
      ]
     },
     "execution_count": 10,
     "metadata": {},
     "output_type": "execute_result"
    },
    {
     "data": {
      "image/png": "[encoded data removed]",
      "text/plain": [
       "<Figure size 432x288 with 1 Axes>"
      ]
     },
     "metadata": {
      "needs_background": "light"
     },
     "output_type": "display_data"
    }
   ],
   "source": [
    "survey_data.ICS.hist()"
   ]
  },
  {
   "cell_type": "code",
   "execution_count": 26,
   "metadata": {},
   "outputs": [
    {
     "data": {
      "text/plain": [
       "153.38    83732\n",
       "77.69     73670\n",
       "115.53    60432\n",
       "2.00      25595\n",
       "39.84     23495\n",
       "78.39     12970\n",
       "154.08     9466\n",
       "116.23     7787\n",
       "2.70       5227\n",
       "40.54      4943\n",
       "Name: ICC, dtype: int64"
      ]
     },
     "execution_count": 26,
     "metadata": {},
     "output_type": "execute_result"
    }
   ],
   "source": [
    "survey_data.ICC.value_counts(dropna=False)"
   ]
  },
  {
   "cell_type": "code",
   "execution_count": 27,
   "metadata": {},
   "outputs": [
    {
     "data": {
      "text/plain": [
       "123.55    47018\n",
       "26.31     46628\n",
       "74.93     39932\n",
       "147.86    38306\n",
       "99.24     38150\n",
       "50.62     37979\n",
       "2.00      18911\n",
       "27.01      9611\n",
       "51.32      8172\n",
       "75.63      6739\n",
       "99.94      5061\n",
       "2.70       4868\n",
       "124.25     3708\n",
       "148.56     2234\n",
       "Name: ICE, dtype: int64"
      ]
     },
     "execution_count": 27,
     "metadata": {},
     "output_type": "execute_result"
    }
   ],
   "source": [
    "survey_data.ICE.value_counts(dropna=False)"
   ]
  },
  {
   "cell_type": "code",
   "execution_count": 14,
   "metadata": {},
   "outputs": [
    {
     "data": {
      "text/plain": [
       "1    124474\n",
       "5     93587\n",
       "3     88321\n",
       "8       531\n",
       "9       404\n",
       "Name: PAGO, dtype: int64"
      ]
     },
     "execution_count": 14,
     "metadata": {},
     "output_type": "execute_result"
    }
   ],
   "source": [
    "survey_data.PAGO.value_counts(dropna=False)"
   ]
  },
  {
   "cell_type": "code",
   "execution_count": 15,
   "metadata": {},
   "outputs": [
    {
     "data": {
      "text/plain": [
       "10    39204\n",
       "12    37855\n",
       "99    35914\n",
       "54    34854\n",
       "52    27731\n",
       "0     21180\n",
       "27    10708\n",
       "20    10376\n",
       "11     9732\n",
       "19     9435\n",
       "16     8464\n",
       "50     8426\n",
       "58     8263\n",
       "51     6668\n",
       "13     6076\n",
       "59     5508\n",
       "53     5052\n",
       "60     4136\n",
       "61     3024\n",
       "67     2418\n",
       "63     1935\n",
       "98     1844\n",
       "21     1754\n",
       "56     1653\n",
       "14     1487\n",
       "23     1476\n",
       "78      521\n",
       "15      518\n",
       "57      424\n",
       "55      293\n",
       "38      245\n",
       "18      103\n",
       "39       21\n",
       "64       17\n",
       "62        1\n",
       "47        1\n",
       "Name: PAGOR1, dtype: int64"
      ]
     },
     "execution_count": 15,
     "metadata": {},
     "output_type": "execute_result"
    }
   ],
   "source": [
    "# this and PAGOR2 are reasons for change in personal finances from a year ago. \n",
    "# I suggest we separate into two classes: \"price-related\" and \"non-price-related\"\n",
    "# 14: Lower prices; 54: Higher prices\n",
    "survey_data.PAGOR1.value_counts(dropna=False)"
   ]
  },
  {
   "cell_type": "code",
   "execution_count": 16,
   "metadata": {},
   "outputs": [],
   "source": [
    "# create one variable: 1 if any price-related reason, else 0\n",
    "survey_data[\"price_related_yr_ago\"] = np.where(\n",
    "    (survey_data.PAGOR1.isin([14,54]))|(survey_data.PAGOR2.isin([14,54])), \n",
    "    1, 0)"
   ]
  },
  {
   "cell_type": "code",
   "execution_count": 17,
   "metadata": {},
   "outputs": [
    {
     "data": {
      "text/plain": [
       "0    252332\n",
       "1     54985\n",
       "Name: price_related_yr_ago, dtype: int64"
      ]
     },
     "execution_count": 17,
     "metadata": {},
     "output_type": "execute_result"
    }
   ],
   "source": [
    "survey_data.price_related_yr_ago.value_counts(dropna=False)"
   ]
  },
  {
   "cell_type": "code",
   "execution_count": 18,
   "metadata": {},
   "outputs": [
    {
     "data": {
      "text/plain": [
       "     204293\n",
       "1     41854\n",
       "5     20055\n",
       "1     17278\n",
       "5     11722\n",
       "3      7380\n",
       "3      3864\n",
       "8       386\n",
       "8       307\n",
       "9       104\n",
       "9        74\n",
       "Name: PAGO5, dtype: int64"
      ]
     },
     "execution_count": 18,
     "metadata": {},
     "output_type": "execute_result"
    }
   ],
   "source": [
    "# PAGO5 is missing for most observations...\n",
    "survey_data.PAGO5.value_counts(dropna=False)"
   ]
  },
  {
   "cell_type": "code",
   "execution_count": 19,
   "metadata": {},
   "outputs": [
    {
     "data": {
      "text/plain": [
       "3    151430\n",
       "1    106338\n",
       "5     40452\n",
       "8      7897\n",
       "9      1200\n",
       "Name: PEXP, dtype: int64"
      ]
     },
     "execution_count": 19,
     "metadata": {},
     "output_type": "execute_result"
    }
   ],
   "source": [
    "survey_data.PEXP.value_counts(dropna=False)"
   ]
  },
  {
   "cell_type": "code",
   "execution_count": 20,
   "metadata": {},
   "outputs": [
    {
     "data": {
      "text/plain": [
       "     204293\n",
       "1     34854\n",
       "3     22119\n",
       "1     15970\n",
       "3     10306\n",
       "5     10085\n",
       "5      5183\n",
       "8      2402\n",
       "8      1650\n",
       "9       289\n",
       "9       166\n",
       "Name: PEXP5, dtype: int64"
      ]
     },
     "execution_count": 20,
     "metadata": {},
     "output_type": "execute_result"
    }
   ],
   "source": [
    "survey_data.PEXP5.value_counts(dropna=False)"
   ]
  },
  {
   "cell_type": "code",
   "execution_count": 21,
   "metadata": {},
   "outputs": [
    {
     "data": {
      "text/plain": [
       "1    162751\n",
       "3     69259\n",
       "5     39947\n",
       "      15253\n",
       "1     11628\n",
       "3      3819\n",
       "8      2195\n",
       "5      1644\n",
       "9       397\n",
       "8       356\n",
       "9        68\n",
       "Name: INEXQ1, dtype: int64"
      ]
     },
     "execution_count": 21,
     "metadata": {},
     "output_type": "execute_result"
    }
   ],
   "source": [
    "survey_data.INEXQ1.value_counts(dropna=False)"
   ]
  },
  {
   "cell_type": "code",
   "execution_count": 33,
   "metadata": {},
   "outputs": [
    {
     "data": {
      "image/png": "[encoded data removed]",
      "text/plain": [
       "<Figure size 432x288 with 1 Axes>"
      ]
     },
     "metadata": {
      "needs_background": "light"
     },
     "output_type": "display_data"
    }
   ],
   "source": [
    "survey_data.INEXQ2.hist()\n",
    "# 98 and 99 are missing values - drop them\n",
    "survey_data[\"INEXQ2\"] = survey_data.INEXQ2.replace([98,99], np.nan)"
   ]
  },
  {
   "cell_type": "code",
   "execution_count": 22,
   "metadata": {},
   "outputs": [
    {
     "data": {
      "text/plain": [
       "3    125404\n",
       "5    117323\n",
       "1     58832\n",
       "8      4465\n",
       "9      1293\n",
       "Name: RINC, dtype: int64"
      ]
     },
     "execution_count": 22,
     "metadata": {},
     "output_type": "execute_result"
    }
   ],
   "source": [
    "survey_data.RINC.value_counts(dropna=False)"
   ]
  },
  {
   "cell_type": "code",
   "execution_count": 23,
   "metadata": {},
   "outputs": [
    {
     "data": {
      "text/plain": [
       "5    140447\n",
       "1    126422\n",
       "3     35476\n",
       "8      4038\n",
       "9       934\n",
       "Name: BAGO, dtype: int64"
      ]
     },
     "execution_count": 23,
     "metadata": {},
     "output_type": "execute_result"
    }
   ],
   "source": [
    "survey_data.BAGO.value_counts(dropna=False)"
   ]
  },
  {
   "cell_type": "code",
   "execution_count": 24,
   "metadata": {},
   "outputs": [
    {
     "data": {
      "text/plain": [
       "3    144173\n",
       "1    101881\n",
       "5     57334\n",
       "8      3117\n",
       "9       812\n",
       "Name: UNEMP, dtype: int64"
      ]
     },
     "execution_count": 24,
     "metadata": {},
     "output_type": "execute_result"
    }
   ],
   "source": [
    "survey_data.UNEMP.value_counts(dropna=False)"
   ]
  },
  {
   "cell_type": "code",
   "execution_count": 28,
   "metadata": {},
   "outputs": [
    {
     "data": {
      "text/plain": [
       "3    141971\n",
       "5     93751\n",
       "1     65066\n",
       "8      4739\n",
       "9      1790\n",
       "Name: GOVT, dtype: int64"
      ]
     },
     "execution_count": 28,
     "metadata": {},
     "output_type": "execute_result"
    }
   ],
   "source": [
    "survey_data.GOVT.value_counts(dropna=False)"
   ]
  },
  {
   "cell_type": "code",
   "execution_count": 30,
   "metadata": {},
   "outputs": [
    {
     "data": {
      "text/plain": [
       "1    161296\n",
       "3     92863\n",
       "5     46152\n",
       "8      6221\n",
       "9       785\n",
       "Name: RATEX, dtype: int64"
      ]
     },
     "execution_count": 30,
     "metadata": {},
     "output_type": "execute_result"
    }
   ],
   "source": [
    "survey_data.RATEX.value_counts(dropna=False)"
   ]
  },
  {
   "cell_type": "code",
   "execution_count": 31,
   "metadata": {},
   "outputs": [
    {
     "data": {
      "text/plain": [
       "1    215179\n",
       "3     45994\n",
       "2     32219\n",
       "5     10822\n",
       "8      2672\n",
       "9       431\n",
       "Name: PX1Q1, dtype: int64"
      ]
     },
     "execution_count": 31,
     "metadata": {},
     "output_type": "execute_result"
    }
   ],
   "source": [
    "survey_data.PX1Q1.value_counts(dropna=False)"
   ]
  },
  {
   "cell_type": "code",
   "execution_count": 32,
   "metadata": {},
   "outputs": [
    {
     "data": {
      "text/plain": [
       "<AxesSubplot:>"
      ]
     },
     "execution_count": 32,
     "metadata": {},
     "output_type": "execute_result"
    },
    {
     "data": {
      "image/png": "[encoded data removed]",
      "text/plain": [
       "<Figure size 432x288 with 1 Axes>"
      ]
     },
     "metadata": {
      "needs_background": "light"
     },
     "output_type": "display_data"
    }
   ],
   "source": [
    "survey_data.PX1Q2.hist()\n",
    "# 98 and 99 are missing values - drop them\n",
    "survey_data[\"PX1Q2\"] = survey_data.PX1Q2.replace([98,99], np.nan)"
   ]
  },
  {
   "cell_type": "code",
   "execution_count": 36,
   "metadata": {},
   "outputs": [
    {
     "data": {
      "text/plain": [
       "1    170850\n",
       "      73458\n",
       "1     26667\n",
       "2     11542\n",
       "5      7868\n",
       "3      6083\n",
       "8      3929\n",
       "3      2085\n",
       "5      1904\n",
       "8      1159\n",
       "2      1071\n",
       "9       549\n",
       "9       152\n",
       "Name: PX5Q1, dtype: int64"
      ]
     },
     "execution_count": 36,
     "metadata": {},
     "output_type": "execute_result"
    }
   ],
   "source": [
    "survey_data.PX5Q1.value_counts(dropna=False)"
   ]
  },
  {
   "cell_type": "code",
   "execution_count": 37,
   "metadata": {},
   "outputs": [
    {
     "data": {
      "image/png": "[encoded data removed]",
      "text/plain": [
       "<Figure size 432x288 with 1 Axes>"
      ]
     },
     "metadata": {
      "needs_background": "light"
     },
     "output_type": "display_data"
    }
   ],
   "source": [
    "survey_data.PX5Q2.hist()\n",
    "# 98 and 99 are missing values - drop them\n",
    "survey_data[\"PX5Q2\"] = survey_data.PX5Q2.replace([98,99], np.nan)"
   ]
  },
  {
   "cell_type": "code",
   "execution_count": 38,
   "metadata": {},
   "outputs": [
    {
     "data": {
      "text/plain": [
       "1    205880\n",
       "5     72235\n",
       "8     13244\n",
       "3     13212\n",
       "9      2746\n",
       "Name: DUR, dtype: int64"
      ]
     },
     "execution_count": 38,
     "metadata": {},
     "output_type": "execute_result"
    }
   ],
   "source": [
    "survey_data.DUR.value_counts(dropna=False)"
   ]
  },
  {
   "cell_type": "code",
   "execution_count": 39,
   "metadata": {},
   "outputs": [
    {
     "data": {
      "text/plain": [
       "12    29301\n",
       "12    28037\n",
       "13    24886\n",
       "11    17071\n",
       "42    14197\n",
       "      ...  \n",
       "50       10\n",
       "58        9\n",
       "43        7\n",
       "50        2\n",
       "55        1\n",
       "Name: DURRN1, Length: 89, dtype: int64"
      ]
     },
     "execution_count": 39,
     "metadata": {},
     "output_type": "execute_result"
    }
   ],
   "source": [
    "# two columns explaining why it's a good/bad time to buy durables... DURRN1 and DURRN2\n",
    "# but the codebook doesn't include codes?? For example, there is no code for 42\n",
    "# we should figure this out bc it would be nice to know when prices are relevant to the answer to this question\n",
    "survey_data.DURRN1.value_counts(dropna=False)\n"
   ]
  },
  {
   "cell_type": "code",
   "execution_count": 40,
   "metadata": {},
   "outputs": [
    {
     "data": {
      "text/plain": [
       "1    183619\n",
       "5     98337\n",
       "8     14570\n",
       "3      8458\n",
       "9      2333\n",
       "Name: CAR, dtype: int64"
      ]
     },
     "execution_count": 40,
     "metadata": {},
     "output_type": "execute_result"
    }
   ],
   "source": [
    "survey_data.CAR.value_counts(dropna=False)"
   ]
  },
  {
   "cell_type": "code",
   "execution_count": 41,
   "metadata": {},
   "outputs": [
    {
     "data": {
      "text/plain": [
       "5    63438\n",
       "4    61088\n",
       "3    52134\n",
       "2    49283\n",
       "1    41689\n",
       "     39685\n",
       "Name: YTL5, dtype: int64"
      ]
     },
     "execution_count": 41,
     "metadata": {},
     "output_type": "execute_result"
    }
   ],
   "source": [
    "# of all the income vars, let's just use quintiles\n",
    "survey_data.YTL5.value_counts(dropna=False)"
   ]
  },
  {
   "cell_type": "code",
   "execution_count": 44,
   "metadata": {},
   "outputs": [
    {
     "data": {
      "text/plain": [
       "<AxesSubplot:>"
      ]
     },
     "execution_count": 44,
     "metadata": {},
     "output_type": "execute_result"
    },
    {
     "data": {
      "image/png": "[encoded data removed]",
      "text/plain": [
       "<Figure size 432x288 with 1 Axes>"
      ]
     },
     "metadata": {
      "needs_background": "light"
     },
     "output_type": "display_data"
    }
   ],
   "source": [
    "survey_data.AGE.hist()"
   ]
  },
  {
   "cell_type": "code",
   "execution_count": 43,
   "metadata": {},
   "outputs": [
    {
     "data": {
      "text/plain": [
       "4    80460\n",
       "2    61752\n",
       "1    49226\n",
       "3    42150\n",
       "4    23221\n",
       "2    20825\n",
       "3    15346\n",
       "1    14241\n",
       "        95\n",
       "6        1\n",
       "Name: REGION, dtype: int64"
      ]
     },
     "execution_count": 43,
     "metadata": {},
     "output_type": "execute_result"
    }
   ],
   "source": [
    "survey_data.REGION.value_counts(dropna=False)"
   ]
  },
  {
   "cell_type": "code",
   "execution_count": 45,
   "metadata": {},
   "outputs": [
    {
     "data": {
      "text/plain": [
       "NaN    233589\n",
       "4       23221\n",
       "2       20825\n",
       "3       15346\n",
       "1       14241\n",
       "           95\n",
       "Name: REGION, dtype: int64"
      ]
     },
     "execution_count": 45,
     "metadata": {},
     "output_type": "execute_result"
    }
   ],
   "source": [
    "# clearly there are some with spaces and some without.... annoying\n",
    "survey_data.REGION.str.strip().value_counts(dropna=False)"
   ]
  },
  {
   "cell_type": "code",
   "execution_count": 48,
   "metadata": {},
   "outputs": [
    {
     "data": {
      "text/plain": [
       "4    103681\n",
       "2     82577\n",
       "1     63467\n",
       "3     57496\n",
       "         95\n",
       "6         1\n",
       "Name: REGION, dtype: int64"
      ]
     },
     "execution_count": 48,
     "metadata": {},
     "output_type": "execute_result"
    }
   ],
   "source": [
    "# actually, nope, the problem is that some are numeric and some are string\n",
    "survey_data.REGION.astype(str).value_counts(dropna=False)"
   ]
  },
  {
   "cell_type": "code",
   "execution_count": null,
   "metadata": {},
   "outputs": [],
   "source": [
    "# need to recode that one annoying 6..."
   ]
  },
  {
   "cell_type": "code",
   "execution_count": 46,
   "metadata": {},
   "outputs": [
    {
     "data": {
      "text/plain": [
       "2    105044\n",
       "1    103969\n",
       "2     53909\n",
       "1     43724\n",
       "        671\n",
       "Name: SEX, dtype: int64"
      ]
     },
     "execution_count": 46,
     "metadata": {},
     "output_type": "execute_result"
    }
   ],
   "source": [
    "survey_data.SEX.value_counts(dropna=False)"
   ]
  },
  {
   "cell_type": "code",
   "execution_count": 49,
   "metadata": {},
   "outputs": [
    {
     "data": {
      "text/plain": [
       "2    158953\n",
       "1    147693\n",
       "        671\n",
       "Name: SEX, dtype: int64"
      ]
     },
     "execution_count": 49,
     "metadata": {},
     "output_type": "execute_result"
    }
   ],
   "source": [
    "survey_data.SEX.astype(str).value_counts(dropna=False)"
   ]
  },
  {
   "cell_type": "code",
   "execution_count": 51,
   "metadata": {},
   "outputs": [
    {
     "ename": "ValueError",
     "evalue": "could not convert string to float: ''",
     "output_type": "error",
     "traceback": [
      "\u001b[0;31m---------------------------------------------------------------------------\u001b[0m",
      "\u001b[0;31mValueError\u001b[0m                                Traceback (most recent call last)",
      "\u001b[0;32m<ipython-input-51-36e89f93826f>\u001b[0m in \u001b[0;36m<module>\u001b[0;34m\u001b[0m\n\u001b[0;32m----> 1\u001b[0;31m \u001b[0msurvey_data\u001b[0m\u001b[0;34m[\u001b[0m\u001b[0;34m\"household_size\"\u001b[0m\u001b[0;34m]\u001b[0m \u001b[0;34m=\u001b[0m \u001b[0msurvey_data\u001b[0m\u001b[0;34m.\u001b[0m\u001b[0mNUMKID\u001b[0m\u001b[0;34m.\u001b[0m\u001b[0mastype\u001b[0m\u001b[0;34m(\u001b[0m\u001b[0mfloat\u001b[0m\u001b[0;34m)\u001b[0m \u001b[0;34m+\u001b[0m \u001b[0msurvey_data\u001b[0m\u001b[0;34m.\u001b[0m\u001b[0mNUMADT\u001b[0m\u001b[0;34m.\u001b[0m\u001b[0mastype\u001b[0m\u001b[0;34m(\u001b[0m\u001b[0mfloat\u001b[0m\u001b[0;34m)\u001b[0m\u001b[0;34m\u001b[0m\u001b[0;34m\u001b[0m\u001b[0m\n\u001b[0m\u001b[1;32m      2\u001b[0m \u001b[0msurvey_data\u001b[0m\u001b[0;34m.\u001b[0m\u001b[0mhousehold_size\u001b[0m\u001b[0;34m.\u001b[0m\u001b[0mhist\u001b[0m\u001b[0;34m(\u001b[0m\u001b[0;34m)\u001b[0m\u001b[0;34m\u001b[0m\u001b[0;34m\u001b[0m\u001b[0m\n",
      "\u001b[0;32m~/opt/anaconda3/lib/python3.8/site-packages/pandas/core/generic.py\u001b[0m in \u001b[0;36mastype\u001b[0;34m(self, dtype, copy, errors)\u001b[0m\n\u001b[1;32m   5875\u001b[0m         \u001b[0;32melse\u001b[0m\u001b[0;34m:\u001b[0m\u001b[0;34m\u001b[0m\u001b[0;34m\u001b[0m\u001b[0m\n\u001b[1;32m   5876\u001b[0m             \u001b[0;31m# else, only a single dtype is given\u001b[0m\u001b[0;34m\u001b[0m\u001b[0;34m\u001b[0m\u001b[0;34m\u001b[0m\u001b[0m\n\u001b[0;32m-> 5877\u001b[0;31m             \u001b[0mnew_data\u001b[0m \u001b[0;34m=\u001b[0m \u001b[0mself\u001b[0m\u001b[0;34m.\u001b[0m\u001b[0m_mgr\u001b[0m\u001b[0;34m.\u001b[0m\u001b[0mastype\u001b[0m\u001b[0;34m(\u001b[0m\u001b[0mdtype\u001b[0m\u001b[0;34m=\u001b[0m\u001b[0mdtype\u001b[0m\u001b[0;34m,\u001b[0m \u001b[0mcopy\u001b[0m\u001b[0;34m=\u001b[0m\u001b[0mcopy\u001b[0m\u001b[0;34m,\u001b[0m \u001b[0merrors\u001b[0m\u001b[0;34m=\u001b[0m\u001b[0merrors\u001b[0m\u001b[0;34m)\u001b[0m\u001b[0;34m\u001b[0m\u001b[0;34m\u001b[0m\u001b[0m\n\u001b[0m\u001b[1;32m   5878\u001b[0m             \u001b[0;32mreturn\u001b[0m \u001b[0mself\u001b[0m\u001b[0;34m.\u001b[0m\u001b[0m_constructor\u001b[0m\u001b[0;34m(\u001b[0m\u001b[0mnew_data\u001b[0m\u001b[0;34m)\u001b[0m\u001b[0;34m.\u001b[0m\u001b[0m__finalize__\u001b[0m\u001b[0;34m(\u001b[0m\u001b[0mself\u001b[0m\u001b[0;34m,\u001b[0m \u001b[0mmethod\u001b[0m\u001b[0;34m=\u001b[0m\u001b[0;34m\"astype\"\u001b[0m\u001b[0;34m)\u001b[0m\u001b[0;34m\u001b[0m\u001b[0;34m\u001b[0m\u001b[0m\n\u001b[1;32m   5879\u001b[0m \u001b[0;34m\u001b[0m\u001b[0m\n",
      "\u001b[0;32m~/opt/anaconda3/lib/python3.8/site-packages/pandas/core/internals/managers.py\u001b[0m in \u001b[0;36mastype\u001b[0;34m(self, dtype, copy, errors)\u001b[0m\n\u001b[1;32m    629\u001b[0m         \u001b[0mself\u001b[0m\u001b[0;34m,\u001b[0m \u001b[0mdtype\u001b[0m\u001b[0;34m,\u001b[0m \u001b[0mcopy\u001b[0m\u001b[0;34m:\u001b[0m \u001b[0mbool\u001b[0m \u001b[0;34m=\u001b[0m \u001b[0;32mFalse\u001b[0m\u001b[0;34m,\u001b[0m \u001b[0merrors\u001b[0m\u001b[0;34m:\u001b[0m \u001b[0mstr\u001b[0m \u001b[0;34m=\u001b[0m \u001b[0;34m\"raise\"\u001b[0m\u001b[0;34m\u001b[0m\u001b[0;34m\u001b[0m\u001b[0m\n\u001b[1;32m    630\u001b[0m     ) -> \"BlockManager\":\n\u001b[0;32m--> 631\u001b[0;31m         \u001b[0;32mreturn\u001b[0m \u001b[0mself\u001b[0m\u001b[0;34m.\u001b[0m\u001b[0mapply\u001b[0m\u001b[0;34m(\u001b[0m\u001b[0;34m\"astype\"\u001b[0m\u001b[0;34m,\u001b[0m \u001b[0mdtype\u001b[0m\u001b[0;34m=\u001b[0m\u001b[0mdtype\u001b[0m\u001b[0;34m,\u001b[0m \u001b[0mcopy\u001b[0m\u001b[0;34m=\u001b[0m\u001b[0mcopy\u001b[0m\u001b[0;34m,\u001b[0m \u001b[0merrors\u001b[0m\u001b[0;34m=\u001b[0m\u001b[0merrors\u001b[0m\u001b[0;34m)\u001b[0m\u001b[0;34m\u001b[0m\u001b[0;34m\u001b[0m\u001b[0m\n\u001b[0m\u001b[1;32m    632\u001b[0m \u001b[0;34m\u001b[0m\u001b[0m\n\u001b[1;32m    633\u001b[0m     def convert(\n",
      "\u001b[0;32m~/opt/anaconda3/lib/python3.8/site-packages/pandas/core/internals/managers.py\u001b[0m in \u001b[0;36mapply\u001b[0;34m(self, f, align_keys, ignore_failures, **kwargs)\u001b[0m\n\u001b[1;32m    425\u001b[0m                     \u001b[0mapplied\u001b[0m \u001b[0;34m=\u001b[0m \u001b[0mb\u001b[0m\u001b[0;34m.\u001b[0m\u001b[0mapply\u001b[0m\u001b[0;34m(\u001b[0m\u001b[0mf\u001b[0m\u001b[0;34m,\u001b[0m \u001b[0;34m**\u001b[0m\u001b[0mkwargs\u001b[0m\u001b[0;34m)\u001b[0m\u001b[0;34m\u001b[0m\u001b[0;34m\u001b[0m\u001b[0m\n\u001b[1;32m    426\u001b[0m                 \u001b[0;32melse\u001b[0m\u001b[0;34m:\u001b[0m\u001b[0;34m\u001b[0m\u001b[0;34m\u001b[0m\u001b[0m\n\u001b[0;32m--> 427\u001b[0;31m                     \u001b[0mapplied\u001b[0m \u001b[0;34m=\u001b[0m \u001b[0mgetattr\u001b[0m\u001b[0;34m(\u001b[0m\u001b[0mb\u001b[0m\u001b[0;34m,\u001b[0m \u001b[0mf\u001b[0m\u001b[0;34m)\u001b[0m\u001b[0;34m(\u001b[0m\u001b[0;34m**\u001b[0m\u001b[0mkwargs\u001b[0m\u001b[0;34m)\u001b[0m\u001b[0;34m\u001b[0m\u001b[0;34m\u001b[0m\u001b[0m\n\u001b[0m\u001b[1;32m    428\u001b[0m             \u001b[0;32mexcept\u001b[0m \u001b[0;34m(\u001b[0m\u001b[0mTypeError\u001b[0m\u001b[0;34m,\u001b[0m \u001b[0mNotImplementedError\u001b[0m\u001b[0;34m)\u001b[0m\u001b[0;34m:\u001b[0m\u001b[0;34m\u001b[0m\u001b[0;34m\u001b[0m\u001b[0m\n\u001b[1;32m    429\u001b[0m                 \u001b[0;32mif\u001b[0m \u001b[0;32mnot\u001b[0m \u001b[0mignore_failures\u001b[0m\u001b[0;34m:\u001b[0m\u001b[0;34m\u001b[0m\u001b[0;34m\u001b[0m\u001b[0m\n",
      "\u001b[0;32m~/opt/anaconda3/lib/python3.8/site-packages/pandas/core/internals/blocks.py\u001b[0m in \u001b[0;36mastype\u001b[0;34m(self, dtype, copy, errors)\u001b[0m\n\u001b[1;32m    671\u001b[0m             \u001b[0mvals1d\u001b[0m \u001b[0;34m=\u001b[0m \u001b[0mvalues\u001b[0m\u001b[0;34m.\u001b[0m\u001b[0mravel\u001b[0m\u001b[0;34m(\u001b[0m\u001b[0;34m)\u001b[0m\u001b[0;34m\u001b[0m\u001b[0;34m\u001b[0m\u001b[0m\n\u001b[1;32m    672\u001b[0m             \u001b[0;32mtry\u001b[0m\u001b[0;34m:\u001b[0m\u001b[0;34m\u001b[0m\u001b[0;34m\u001b[0m\u001b[0m\n\u001b[0;32m--> 673\u001b[0;31m                 \u001b[0mvalues\u001b[0m \u001b[0;34m=\u001b[0m \u001b[0mastype_nansafe\u001b[0m\u001b[0;34m(\u001b[0m\u001b[0mvals1d\u001b[0m\u001b[0;34m,\u001b[0m \u001b[0mdtype\u001b[0m\u001b[0;34m,\u001b[0m \u001b[0mcopy\u001b[0m\u001b[0;34m=\u001b[0m\u001b[0;32mTrue\u001b[0m\u001b[0;34m)\u001b[0m\u001b[0;34m\u001b[0m\u001b[0;34m\u001b[0m\u001b[0m\n\u001b[0m\u001b[1;32m    674\u001b[0m             \u001b[0;32mexcept\u001b[0m \u001b[0;34m(\u001b[0m\u001b[0mValueError\u001b[0m\u001b[0;34m,\u001b[0m \u001b[0mTypeError\u001b[0m\u001b[0;34m)\u001b[0m\u001b[0;34m:\u001b[0m\u001b[0;34m\u001b[0m\u001b[0;34m\u001b[0m\u001b[0m\n\u001b[1;32m    675\u001b[0m                 \u001b[0;31m# e.g. astype_nansafe can fail on object-dtype of strings\u001b[0m\u001b[0;34m\u001b[0m\u001b[0;34m\u001b[0m\u001b[0;34m\u001b[0m\u001b[0m\n",
      "\u001b[0;32m~/opt/anaconda3/lib/python3.8/site-packages/pandas/core/dtypes/cast.py\u001b[0m in \u001b[0;36mastype_nansafe\u001b[0;34m(arr, dtype, copy, skipna)\u001b[0m\n\u001b[1;32m   1095\u001b[0m     \u001b[0;32mif\u001b[0m \u001b[0mcopy\u001b[0m \u001b[0;32mor\u001b[0m \u001b[0mis_object_dtype\u001b[0m\u001b[0;34m(\u001b[0m\u001b[0marr\u001b[0m\u001b[0;34m)\u001b[0m \u001b[0;32mor\u001b[0m \u001b[0mis_object_dtype\u001b[0m\u001b[0;34m(\u001b[0m\u001b[0mdtype\u001b[0m\u001b[0;34m)\u001b[0m\u001b[0;34m:\u001b[0m\u001b[0;34m\u001b[0m\u001b[0;34m\u001b[0m\u001b[0m\n\u001b[1;32m   1096\u001b[0m         \u001b[0;31m# Explicit copy, or required since NumPy can't view from / to object.\u001b[0m\u001b[0;34m\u001b[0m\u001b[0;34m\u001b[0m\u001b[0;34m\u001b[0m\u001b[0m\n\u001b[0;32m-> 1097\u001b[0;31m         \u001b[0;32mreturn\u001b[0m \u001b[0marr\u001b[0m\u001b[0;34m.\u001b[0m\u001b[0mastype\u001b[0m\u001b[0;34m(\u001b[0m\u001b[0mdtype\u001b[0m\u001b[0;34m,\u001b[0m \u001b[0mcopy\u001b[0m\u001b[0;34m=\u001b[0m\u001b[0;32mTrue\u001b[0m\u001b[0;34m)\u001b[0m\u001b[0;34m\u001b[0m\u001b[0;34m\u001b[0m\u001b[0m\n\u001b[0m\u001b[1;32m   1098\u001b[0m \u001b[0;34m\u001b[0m\u001b[0m\n\u001b[1;32m   1099\u001b[0m     \u001b[0;32mreturn\u001b[0m \u001b[0marr\u001b[0m\u001b[0;34m.\u001b[0m\u001b[0mview\u001b[0m\u001b[0;34m(\u001b[0m\u001b[0mdtype\u001b[0m\u001b[0;34m)\u001b[0m\u001b[0;34m\u001b[0m\u001b[0;34m\u001b[0m\u001b[0m\n",
      "\u001b[0;31mValueError\u001b[0m: could not convert string to float: ''"
     ]
    }
   ],
   "source": [
    "survey_data[\"household_size\"] = survey_data.NUMKID.astype(float) + survey_data.NUMADT.astype(float)\n",
    "survey_data.household_size.hist()"
   ]
  },
  {
   "cell_type": "code",
   "execution_count": 52,
   "metadata": {},
   "outputs": [
    {
     "data": {
      "text/plain": [
       "3    85929\n",
       "4    75323\n",
       "5    65932\n",
       "6    45372\n",
       "2    19185\n",
       "1    11943\n",
       "      3633\n",
       "Name: EDUC, dtype: int64"
      ]
     },
     "execution_count": 52,
     "metadata": {},
     "output_type": "execute_result"
    }
   ],
   "source": [
    "survey_data.EDUC.value_counts(dropna=False)"
   ]
  },
  {
   "cell_type": "code",
   "execution_count": 53,
   "metadata": {},
   "outputs": [
    {
     "data": {
      "text/plain": [
       "     245100\n",
       "3     14674\n",
       "2     11015\n",
       "1     10122\n",
       "3      9056\n",
       "2      8247\n",
       "1      7140\n",
       "9       992\n",
       "9       646\n",
       "8       178\n",
       "8       147\n",
       "Name: POLAFF, dtype: int64"
      ]
     },
     "execution_count": 53,
     "metadata": {},
     "output_type": "execute_result"
    }
   ],
   "source": [
    "survey_data.POLAFF.value_counts(dropna=False)"
   ]
  },
  {
   "cell_type": "code",
   "execution_count": 54,
   "metadata": {},
   "outputs": [
    {
     "data": {
      "text/plain": [
       "     245100\n",
       "3     23730\n",
       "2     19262\n",
       "1     17262\n",
       "9      1638\n",
       "8       325\n",
       "Name: POLAFF, dtype: int64"
      ]
     },
     "execution_count": 54,
     "metadata": {},
     "output_type": "execute_result"
    }
   ],
   "source": [
    "# mostly missing - don't include\n",
    "survey_data.POLAFF.astype(str).value_counts(dropna=False)"
   ]
  },
  {
   "cell_type": "code",
   "execution_count": 56,
   "metadata": {},
   "outputs": [
    {
     "data": {
      "text/plain": [
       "1    162908\n",
       "     128074\n",
       "5     13722\n",
       "9      2613\n",
       "Name: VEHOWN, dtype: int64"
      ]
     },
     "execution_count": 56,
     "metadata": {},
     "output_type": "execute_result"
    }
   ],
   "source": [
    "survey_data.VEHOWN.astype(str).value_counts(dropna=False)"
   ]
  },
  {
   "cell_type": "code",
   "execution_count": 58,
   "metadata": {},
   "outputs": [
    {
     "data": {
      "text/plain": [
       "<AxesSubplot:>"
      ]
     },
     "execution_count": 58,
     "metadata": {},
     "output_type": "execute_result"
    },
    {
     "data": {
      "image/png": "[encoded data removed]",
      "text/plain": [
       "<Figure size 432x288 with 1 Axes>"
      ]
     },
     "metadata": {
      "needs_background": "light"
     },
     "output_type": "display_data"
    }
   ],
   "source": [
    "survey_data.VEHNUM.hist()"
   ]
  },
  {
   "cell_type": "code",
   "execution_count": 61,
   "metadata": {},
   "outputs": [
    {
     "data": {
      "text/plain": [
       "         148395\n",
       "50.0      24864\n",
       "20.0      21567\n",
       "0.0       21397\n",
       "10.0      11088\n",
       "          ...  \n",
       " 27.0         1\n",
       " 59.0         1\n",
       " 96.0         1\n",
       " 92.0         1\n",
       " 18.0         1\n",
       "Name: PINC, Length: 184, dtype: int64"
      ]
     },
     "execution_count": 61,
     "metadata": {},
     "output_type": "execute_result"
    }
   ],
   "source": [
    "survey_data.PINC.value_counts(dropna=False)"
   ]
  },
  {
   "cell_type": "code",
   "execution_count": 2,
   "metadata": {},
   "outputs": [],
   "source": [
    "var_renames = {\n",
    "    \"DATE\": \"date\",\n",
    "    'FEDFUNDS': 'fed_funds_rate',\n",
    "    'UNRATE': 'unemployment_rate',\n",
    "    'CPIAUCSL': 'cpi',\n",
    "    'CUSR0000SAD': 'cpi_durable',\n",
    "    'SPCS10RSA': 'home_price_index',\n",
    "    'INFPGDP1YR': '1yr_inflation_via_gdp',\n",
    "    'INFCPI1YR': '1yr_inflation_via_cpi',\n",
    "    'INFCPI10YR': '10yr_inflation_via_cpi',\n",
    "    \"CASEID\": \"case_id\",\n",
    "    \"ID\": \"interview_id\",\n",
    "    \"IDPREV\": \"prev_interview_id\",\n",
    "    \"DATEPR\": \"prev_interview_date\",\n",
    "    \"ICS\":\"consumer_sentiment_index\",\n",
    "    \"ICC\":\"economic_conditions_index\",\n",
    "    \"ICE\":\"consumer_expectations_index\",\n",
    "    \"PAGO\":\"personal_finances_yr_ago\",\n",
    "    \"PAGO5\":\"personal_finances_5yr_ago\",\n",
    "    \"PEXP\":\"personal_finances_next_yr\",\n",
    "    \"PEXP5\":\"personal_finances_next_5yr\",\n",
    "    \"INEXQ1\":\"income_change_next_yr\",\n",
    "    \"INEXQ2\":\"income_change_amt_next_yr\",\n",
    "    \"RINC\":\"real_income_expectations\",\n",
    "    \"BAGO\":\"conditions_yr_ago\",\n",
    "    \"BEXP\":\"conditions_next_yr\",\n",
    "    \"UNEMP\":\"unemployment_next_yr\",\n",
    "    \"GOVT\":\"govt_policy_efficacy\",\n",
    "    \"RATEX\":\"interest_rates_next_yr\",\n",
    "    \"PX1Q1\":\"price_change_next_yr\",\n",
    "    \"PX1Q2\":\"price_change_amt_next_yr\",\n",
    "    \"PX5Q1\":\"price_change_next_5yr\",\n",
    "    \"PX5Q2\":\"price_change_amt_next_5yr\",\n",
    "    \"DUR\":\"durable_purchase\",\n",
    "    \"CAR\":\"car_purchase\",\n",
    "    \"YTL5\":\"income_quintile\",\n",
    "    \"AGE\":\"age\",\n",
    "    \"REGION\":\"region\",\n",
    "    \"SEX\":\"sex\",\n",
    "    \"EDUC\":\"education\",\n",
    "    \"VEHOWN\":\"vehicle_ownership\",\n",
    "    \"VEHNUM\":\"n_cars\",\n",
    "    \"PINC\":\"real_income_increase_chance_next_5yr\",\n",
    "    }\n",
    "\n",
    "categorical_vars = {\n",
    "    \"first_interview\": {},\n",
    "    \"personal_finances_yr_ago\": {1: \"Better\", 3: \"Same\", 5: \"Worse\", 8: \"Don't know\", 9: \"Refused\"},\n",
    "    \"price_related_yr_ago\": {},\n",
    "    \"personal_finances_5yr_ago\": {1: \"Better\", 3: \"Same\", 5: \"Worse\", 8: \"Don't know\", 9: \"Refused\"},\n",
    "    \"personal_finances_next_yr\": {1: \"Better\", 3: \"Same\", 5: \"Worse\", 8: \"Don't know\", 9: \"Refused\"},\n",
    "    \"personal_finances_next_5yr\": {1: \"Better\", 3: \"Same\", 5: \"Worse\", 8: \"Don't know\", 9: \"Refused\"},\n",
    "    \"income_change_next_yr\": {1: \"Higher\", 3: \"Same\", 5: \"Lower\", 8: \"Don't know\", 9: \"Refused\"},\n",
    "    \"real_income_expectations\": {1: \"Higher\", 3: \"Same\", 5: \"Lower\", 8: \"Don't know\", 9: \"Refused\"},\n",
    "    \"conditions_yr_ago\": {1: \"Better\", 3: \"Same\", 5: \"Worse\", 8: \"Don't know\", 9: \"Refused\"},\n",
    "    \"conditions_next_yr\": {1: \"Better\", 3: \"Same\", 5: \"Worse\", 8: \"Don't know\", 9: \"Refused\"},\n",
    "    \"unemployment_next_yr\": {1: \"Higher\", 3: \"Same\", 5: \"Lower\", 8: \"Don't know\", 9: \"Refused\"},\n",
    "    \"govt_policy_efficacy\": {1: \"Good\", 3: \"Fair\", 5: \"Poor\", 8: \"Don't know\", 9: \"Refused\"},\n",
    "    \"interest_rates_next_yr\": {1: \"Higher\", 3: \"Same\", 5: \"Lower\", 8: \"Don't know\", 9: \"Refused\"},\n",
    "    \"price_change_next_yr\": {1: \"Higher\", 2:\"Higher same rate\", 3: \"Same\", 5: \"Lower\", 8: \"Don't know\", 9: \"Refused\"},\n",
    "    \"price_change_next_5yr\": {1: \"Higher\", 2:\"Higher same rate\", 3: \"Same\", 5: \"Lower\", 8: \"Don't know\", 9: \"Refused\"},\n",
    "    \"durable_purchase\": {1: \"Good\", 3: \"Neutral\", 5:\"Bad\", 8: \"Don't know\", 9: \"Refused\"},\n",
    "    \"car_purchase\": {1: \"Good\", 3: \"Neutral\", 5:\"Bad\", 8: \"Don't know\", 9: \"Refused\"},\n",
    "    \"income_quintile\": {1: \"Lowest\", 2: \"Lower middle\", 3: \"Middle\", 4: \"Upper middle\", 5: \"Highest\"},\n",
    "    \"region\": {1: \"West\", 2: \"North Central\", 3: \"Northeast\", 4: \"South\",6: np.nan},\n",
    "    \"sex\":{1: \"Male\", 2: \"Female\"},\n",
    "    \"education\": {1: \"No high school\", 2: \"Partial high school\", 3: \"High school\", 4: \"Some college\", 5: \"College\", 6: \"Graduate school\"},\n",
    "    \"vehicle_ownership\": {1: \"Yes\", 5: \"No\", 8: \"Don't know\", 9: \"Refused\"},\n",
    "    }\n",
    "\n",
    "cts_vars = [\n",
    "    \"consumer_sentiment_index\",\"economic_conditions_index\",\"consumer_expectations_index\",\n",
    "    \"income_change_amt_next_yr\",\"price_change_amt_next_yr\",\"price_change_amt_next_5yr\",\n",
    "    \"age\",\"household_size\", \"n_cars\", \"real_income_increase_chance_next_5yr\",'fed_funds_rate',\n",
    "    'unemployment_rate','cpi','cpi_durable','home_price_index','1yr_inflation_via_gdp',\n",
    "    '1yr_inflation_via_cpi','10yr_inflation_via_cpi'\n",
    "    ]\n",
    "\n",
    "other_vars = [\"date\", \"case_id\", \"interview_id\", \"prev_interview_id\", \"prev_interview_date\"]\n",
    "construction_vars = [\"PAGOR1\", \"PAGOR2\", \"NUMKID\", \"NUMADT\"]\n"
   ]
  },
  {
   "cell_type": "code",
   "execution_count": 77,
   "metadata": {},
   "outputs": [
    {
     "name": "stderr",
     "output_type": "stream",
     "text": [
      "/Users/drewkeller/opt/anaconda3/lib/python3.8/site-packages/IPython/core/interactiveshell.py:3165: DtypeWarning: Columns (13,15,16,18,32,34,36,37,41,45,46,55,71,83,84,86,87,90,91,92,96,98,100,101,103,104,105,106,107,108,109) have mixed types.Specify dtype option on import or set low_memory=False.\n",
      "  has_raised = await self.run_ast_nodes(code_ast.body, cell_name,\n"
     ]
    },
    {
     "ename": "ValueError",
     "evalue": "could not convert string to float: ''",
     "output_type": "error",
     "traceback": [
      "\u001b[0;31m---------------------------------------------------------------------------\u001b[0m",
      "\u001b[0;31mValueError\u001b[0m                                Traceback (most recent call last)",
      "\u001b[0;32m<ipython-input-77-07ba4870b4f9>\u001b[0m in \u001b[0;36m<module>\u001b[0;34m\u001b[0m\n\u001b[1;32m     14\u001b[0m \u001b[0;34m\u001b[0m\u001b[0m\n\u001b[1;32m     15\u001b[0m \u001b[0;31m# convert cts vars to numeric\u001b[0m\u001b[0;34m\u001b[0m\u001b[0;34m\u001b[0m\u001b[0;34m\u001b[0m\u001b[0m\n\u001b[0;32m---> 16\u001b[0;31m \u001b[0msurvey_data\u001b[0m\u001b[0;34m[\u001b[0m\u001b[0;34m\"household_size\"\u001b[0m\u001b[0;34m]\u001b[0m \u001b[0;34m=\u001b[0m \u001b[0msurvey_data\u001b[0m\u001b[0;34m.\u001b[0m\u001b[0mNUMKID\u001b[0m\u001b[0;34m.\u001b[0m\u001b[0mastype\u001b[0m\u001b[0;34m(\u001b[0m\u001b[0mfloat\u001b[0m\u001b[0;34m)\u001b[0m \u001b[0;34m+\u001b[0m \u001b[0msurvey_data\u001b[0m\u001b[0;34m.\u001b[0m\u001b[0mNUMADT\u001b[0m\u001b[0;34m.\u001b[0m\u001b[0mastype\u001b[0m\u001b[0;34m(\u001b[0m\u001b[0mfloat\u001b[0m\u001b[0;34m)\u001b[0m\u001b[0;34m\u001b[0m\u001b[0;34m\u001b[0m\u001b[0m\n\u001b[0m\u001b[1;32m     17\u001b[0m \u001b[0msurvey_data\u001b[0m\u001b[0;34m[\u001b[0m\u001b[0mcts_vars\u001b[0m\u001b[0;34m]\u001b[0m \u001b[0;34m=\u001b[0m \u001b[0msurvey_data\u001b[0m\u001b[0;34m[\u001b[0m\u001b[0mcts_vars\u001b[0m\u001b[0;34m]\u001b[0m\u001b[0;34m.\u001b[0m\u001b[0mastype\u001b[0m\u001b[0;34m(\u001b[0m\u001b[0mfloat\u001b[0m\u001b[0;34m)\u001b[0m\u001b[0;34m\u001b[0m\u001b[0;34m\u001b[0m\u001b[0m\n\u001b[1;32m     18\u001b[0m \u001b[0msurvey_data\u001b[0m\u001b[0;34m[\u001b[0m\u001b[0;34m\"price_change_amt_next_5yr\"\u001b[0m\u001b[0;34m]\u001b[0m \u001b[0;34m=\u001b[0m \u001b[0msurvey_data\u001b[0m\u001b[0;34m.\u001b[0m\u001b[0mPX5Q2\u001b[0m\u001b[0;34m.\u001b[0m\u001b[0mreplace\u001b[0m\u001b[0;34m(\u001b[0m\u001b[0;34m[\u001b[0m\u001b[0;36m98\u001b[0m\u001b[0;34m,\u001b[0m\u001b[0;36m99\u001b[0m\u001b[0;34m]\u001b[0m\u001b[0;34m,\u001b[0m \u001b[0mnp\u001b[0m\u001b[0;34m.\u001b[0m\u001b[0mnan\u001b[0m\u001b[0;34m)\u001b[0m\u001b[0;34m\u001b[0m\u001b[0;34m\u001b[0m\u001b[0m\n",
      "\u001b[0;32m~/opt/anaconda3/lib/python3.8/site-packages/pandas/core/generic.py\u001b[0m in \u001b[0;36mastype\u001b[0;34m(self, dtype, copy, errors)\u001b[0m\n\u001b[1;32m   5875\u001b[0m         \u001b[0;32melse\u001b[0m\u001b[0;34m:\u001b[0m\u001b[0;34m\u001b[0m\u001b[0;34m\u001b[0m\u001b[0m\n\u001b[1;32m   5876\u001b[0m             \u001b[0;31m# else, only a single dtype is given\u001b[0m\u001b[0;34m\u001b[0m\u001b[0;34m\u001b[0m\u001b[0;34m\u001b[0m\u001b[0m\n\u001b[0;32m-> 5877\u001b[0;31m             \u001b[0mnew_data\u001b[0m \u001b[0;34m=\u001b[0m \u001b[0mself\u001b[0m\u001b[0;34m.\u001b[0m\u001b[0m_mgr\u001b[0m\u001b[0;34m.\u001b[0m\u001b[0mastype\u001b[0m\u001b[0;34m(\u001b[0m\u001b[0mdtype\u001b[0m\u001b[0;34m=\u001b[0m\u001b[0mdtype\u001b[0m\u001b[0;34m,\u001b[0m \u001b[0mcopy\u001b[0m\u001b[0;34m=\u001b[0m\u001b[0mcopy\u001b[0m\u001b[0;34m,\u001b[0m \u001b[0merrors\u001b[0m\u001b[0;34m=\u001b[0m\u001b[0merrors\u001b[0m\u001b[0;34m)\u001b[0m\u001b[0;34m\u001b[0m\u001b[0;34m\u001b[0m\u001b[0m\n\u001b[0m\u001b[1;32m   5878\u001b[0m             \u001b[0;32mreturn\u001b[0m \u001b[0mself\u001b[0m\u001b[0;34m.\u001b[0m\u001b[0m_constructor\u001b[0m\u001b[0;34m(\u001b[0m\u001b[0mnew_data\u001b[0m\u001b[0;34m)\u001b[0m\u001b[0;34m.\u001b[0m\u001b[0m__finalize__\u001b[0m\u001b[0;34m(\u001b[0m\u001b[0mself\u001b[0m\u001b[0;34m,\u001b[0m \u001b[0mmethod\u001b[0m\u001b[0;34m=\u001b[0m\u001b[0;34m\"astype\"\u001b[0m\u001b[0;34m)\u001b[0m\u001b[0;34m\u001b[0m\u001b[0;34m\u001b[0m\u001b[0m\n\u001b[1;32m   5879\u001b[0m \u001b[0;34m\u001b[0m\u001b[0m\n",
      "\u001b[0;32m~/opt/anaconda3/lib/python3.8/site-packages/pandas/core/internals/managers.py\u001b[0m in \u001b[0;36mastype\u001b[0;34m(self, dtype, copy, errors)\u001b[0m\n\u001b[1;32m    629\u001b[0m         \u001b[0mself\u001b[0m\u001b[0;34m,\u001b[0m \u001b[0mdtype\u001b[0m\u001b[0;34m,\u001b[0m \u001b[0mcopy\u001b[0m\u001b[0;34m:\u001b[0m \u001b[0mbool\u001b[0m \u001b[0;34m=\u001b[0m \u001b[0;32mFalse\u001b[0m\u001b[0;34m,\u001b[0m \u001b[0merrors\u001b[0m\u001b[0;34m:\u001b[0m \u001b[0mstr\u001b[0m \u001b[0;34m=\u001b[0m \u001b[0;34m\"raise\"\u001b[0m\u001b[0;34m\u001b[0m\u001b[0;34m\u001b[0m\u001b[0m\n\u001b[1;32m    630\u001b[0m     ) -> \"BlockManager\":\n\u001b[0;32m--> 631\u001b[0;31m         \u001b[0;32mreturn\u001b[0m \u001b[0mself\u001b[0m\u001b[0;34m.\u001b[0m\u001b[0mapply\u001b[0m\u001b[0;34m(\u001b[0m\u001b[0;34m\"astype\"\u001b[0m\u001b[0;34m,\u001b[0m \u001b[0mdtype\u001b[0m\u001b[0;34m=\u001b[0m\u001b[0mdtype\u001b[0m\u001b[0;34m,\u001b[0m \u001b[0mcopy\u001b[0m\u001b[0;34m=\u001b[0m\u001b[0mcopy\u001b[0m\u001b[0;34m,\u001b[0m \u001b[0merrors\u001b[0m\u001b[0;34m=\u001b[0m\u001b[0merrors\u001b[0m\u001b[0;34m)\u001b[0m\u001b[0;34m\u001b[0m\u001b[0;34m\u001b[0m\u001b[0m\n\u001b[0m\u001b[1;32m    632\u001b[0m \u001b[0;34m\u001b[0m\u001b[0m\n\u001b[1;32m    633\u001b[0m     def convert(\n",
      "\u001b[0;32m~/opt/anaconda3/lib/python3.8/site-packages/pandas/core/internals/managers.py\u001b[0m in \u001b[0;36mapply\u001b[0;34m(self, f, align_keys, ignore_failures, **kwargs)\u001b[0m\n\u001b[1;32m    425\u001b[0m                     \u001b[0mapplied\u001b[0m \u001b[0;34m=\u001b[0m \u001b[0mb\u001b[0m\u001b[0;34m.\u001b[0m\u001b[0mapply\u001b[0m\u001b[0;34m(\u001b[0m\u001b[0mf\u001b[0m\u001b[0;34m,\u001b[0m \u001b[0;34m**\u001b[0m\u001b[0mkwargs\u001b[0m\u001b[0;34m)\u001b[0m\u001b[0;34m\u001b[0m\u001b[0;34m\u001b[0m\u001b[0m\n\u001b[1;32m    426\u001b[0m                 \u001b[0;32melse\u001b[0m\u001b[0;34m:\u001b[0m\u001b[0;34m\u001b[0m\u001b[0;34m\u001b[0m\u001b[0m\n\u001b[0;32m--> 427\u001b[0;31m                     \u001b[0mapplied\u001b[0m \u001b[0;34m=\u001b[0m \u001b[0mgetattr\u001b[0m\u001b[0;34m(\u001b[0m\u001b[0mb\u001b[0m\u001b[0;34m,\u001b[0m \u001b[0mf\u001b[0m\u001b[0;34m)\u001b[0m\u001b[0;34m(\u001b[0m\u001b[0;34m**\u001b[0m\u001b[0mkwargs\u001b[0m\u001b[0;34m)\u001b[0m\u001b[0;34m\u001b[0m\u001b[0;34m\u001b[0m\u001b[0m\n\u001b[0m\u001b[1;32m    428\u001b[0m             \u001b[0;32mexcept\u001b[0m \u001b[0;34m(\u001b[0m\u001b[0mTypeError\u001b[0m\u001b[0;34m,\u001b[0m \u001b[0mNotImplementedError\u001b[0m\u001b[0;34m)\u001b[0m\u001b[0;34m:\u001b[0m\u001b[0;34m\u001b[0m\u001b[0;34m\u001b[0m\u001b[0m\n\u001b[1;32m    429\u001b[0m                 \u001b[0;32mif\u001b[0m \u001b[0;32mnot\u001b[0m \u001b[0mignore_failures\u001b[0m\u001b[0;34m:\u001b[0m\u001b[0;34m\u001b[0m\u001b[0;34m\u001b[0m\u001b[0m\n",
      "\u001b[0;32m~/opt/anaconda3/lib/python3.8/site-packages/pandas/core/internals/blocks.py\u001b[0m in \u001b[0;36mastype\u001b[0;34m(self, dtype, copy, errors)\u001b[0m\n\u001b[1;32m    671\u001b[0m             \u001b[0mvals1d\u001b[0m \u001b[0;34m=\u001b[0m \u001b[0mvalues\u001b[0m\u001b[0;34m.\u001b[0m\u001b[0mravel\u001b[0m\u001b[0;34m(\u001b[0m\u001b[0;34m)\u001b[0m\u001b[0;34m\u001b[0m\u001b[0;34m\u001b[0m\u001b[0m\n\u001b[1;32m    672\u001b[0m             \u001b[0;32mtry\u001b[0m\u001b[0;34m:\u001b[0m\u001b[0;34m\u001b[0m\u001b[0;34m\u001b[0m\u001b[0m\n\u001b[0;32m--> 673\u001b[0;31m                 \u001b[0mvalues\u001b[0m \u001b[0;34m=\u001b[0m \u001b[0mastype_nansafe\u001b[0m\u001b[0;34m(\u001b[0m\u001b[0mvals1d\u001b[0m\u001b[0;34m,\u001b[0m \u001b[0mdtype\u001b[0m\u001b[0;34m,\u001b[0m \u001b[0mcopy\u001b[0m\u001b[0;34m=\u001b[0m\u001b[0;32mTrue\u001b[0m\u001b[0;34m)\u001b[0m\u001b[0;34m\u001b[0m\u001b[0;34m\u001b[0m\u001b[0m\n\u001b[0m\u001b[1;32m    674\u001b[0m             \u001b[0;32mexcept\u001b[0m \u001b[0;34m(\u001b[0m\u001b[0mValueError\u001b[0m\u001b[0;34m,\u001b[0m \u001b[0mTypeError\u001b[0m\u001b[0;34m)\u001b[0m\u001b[0;34m:\u001b[0m\u001b[0;34m\u001b[0m\u001b[0;34m\u001b[0m\u001b[0m\n\u001b[1;32m    675\u001b[0m                 \u001b[0;31m# e.g. astype_nansafe can fail on object-dtype of strings\u001b[0m\u001b[0;34m\u001b[0m\u001b[0;34m\u001b[0m\u001b[0;34m\u001b[0m\u001b[0m\n",
      "\u001b[0;32m~/opt/anaconda3/lib/python3.8/site-packages/pandas/core/dtypes/cast.py\u001b[0m in \u001b[0;36mastype_nansafe\u001b[0;34m(arr, dtype, copy, skipna)\u001b[0m\n\u001b[1;32m   1095\u001b[0m     \u001b[0;32mif\u001b[0m \u001b[0mcopy\u001b[0m \u001b[0;32mor\u001b[0m \u001b[0mis_object_dtype\u001b[0m\u001b[0;34m(\u001b[0m\u001b[0marr\u001b[0m\u001b[0;34m)\u001b[0m \u001b[0;32mor\u001b[0m \u001b[0mis_object_dtype\u001b[0m\u001b[0;34m(\u001b[0m\u001b[0mdtype\u001b[0m\u001b[0;34m)\u001b[0m\u001b[0;34m:\u001b[0m\u001b[0;34m\u001b[0m\u001b[0;34m\u001b[0m\u001b[0m\n\u001b[1;32m   1096\u001b[0m         \u001b[0;31m# Explicit copy, or required since NumPy can't view from / to object.\u001b[0m\u001b[0;34m\u001b[0m\u001b[0;34m\u001b[0m\u001b[0;34m\u001b[0m\u001b[0m\n\u001b[0;32m-> 1097\u001b[0;31m         \u001b[0;32mreturn\u001b[0m \u001b[0marr\u001b[0m\u001b[0;34m.\u001b[0m\u001b[0mastype\u001b[0m\u001b[0;34m(\u001b[0m\u001b[0mdtype\u001b[0m\u001b[0;34m,\u001b[0m \u001b[0mcopy\u001b[0m\u001b[0;34m=\u001b[0m\u001b[0;32mTrue\u001b[0m\u001b[0;34m)\u001b[0m\u001b[0;34m\u001b[0m\u001b[0;34m\u001b[0m\u001b[0m\n\u001b[0m\u001b[1;32m   1098\u001b[0m \u001b[0;34m\u001b[0m\u001b[0m\n\u001b[1;32m   1099\u001b[0m     \u001b[0;32mreturn\u001b[0m \u001b[0marr\u001b[0m\u001b[0;34m.\u001b[0m\u001b[0mview\u001b[0m\u001b[0;34m(\u001b[0m\u001b[0mdtype\u001b[0m\u001b[0;34m)\u001b[0m\u001b[0;34m\u001b[0m\u001b[0;34m\u001b[0m\u001b[0m\n",
      "\u001b[0;31mValueError\u001b[0m: could not convert string to float: ''"
     ]
    }
   ],
   "source": [
    "from data_merging import base_data \n",
    "\n",
    "# first convert all to string, strip all, recode '' to np.nan\n",
    "base_data[list(var_renames.keys())+construction_vars] = base_data[\n",
    "    list(var_renames.keys())+construction_vars\n",
    "    ].astype(str).apply(lambda x: x.str.strip()\n",
    "    ).replace('', np.nan).replace('nan', np.nan)\n",
    "base_data.rename(columns=var_renames,inplace=True)\n",
    "\n",
    "# now recode categorical variables\n",
    "base_data[\"first_interview\"] = np.where(base_data.prev_interview_id.isna(), 1, 0)\n",
    "base_data[\"price_related_yr_ago\"] = np.where(\n",
    "    (base_data.PAGOR1.astype(str).isin([\"14\",\"54\"]))|(base_data.PAGOR2.astype(str).isin([\"14\",\"54\"])), 1, 0)\n",
    "for var,codes in categorical_vars.items():\n",
    "    base_data[var] = base_data[var].astype(float).replace(categorical_vars[var])\n",
    "\n",
    "# convert cts vars to numeric\n",
    "base_data[\"household_size\"] = base_data.NUMKID.astype(float) + base_data.NUMADT.astype(float)\n",
    "base_data[cts_vars] = base_data[cts_vars].astype(float)\n",
    "base_data[\"price_change_amt_next_5yr\"] = base_data.PX5Q2.replace([98,99], np.nan)\n",
    "\n",
    "base_data = base_data.drop(columns=construction_vars)\n",
    "\n",
    "base_data.head()"
   ]
  },
  {
   "cell_type": "code",
   "execution_count": null,
   "metadata": {},
   "outputs": [],
   "source": [
    "# we're not going to include:\n",
    "# home buying/selling variables\n",
    "# own home / pay rent vars\n",
    "# home value / rent / home price expectations vars\n",
    "# investments / stocks vars\n",
    "# marriage status\n",
    "# political affiliation\n",
    "# gas price expectations\n",
    "\n",
    "# or should we include one of these (home or investments, or both) as a proxy for wealth aside from income?"
   ]
  }
 ],
 "metadata": {
  "kernelspec": {
   "display_name": "Python 3.8.8 ('base')",
   "language": "python",
   "name": "python3"
  },
  "language_info": {
   "codemirror_mode": {
    "name": "ipython",
    "version": 3
   },
   "file_extension": ".py",
   "mimetype": "text/x-python",
   "name": "python",
   "nbconvert_exporter": "python",
   "pygments_lexer": "ipython3",
   "version": "3.8.8"
  },
  "orig_nbformat": 4,
  "vscode": {
   "interpreter": {
    "hash": "a46f1b5a7c2f7d98a9c5b822833f2b5c313c9e905fbdd070e07917c35d21e938"
   }
  }
 },
 "nbformat": 4,
 "nbformat_minor": 2
}
