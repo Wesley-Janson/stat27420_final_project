{
 "cells": [
  {
   "cell_type": "markdown",
   "metadata": {},
   "source": [
    "# Wesley Janson\n",
    "## Replication Testing"
   ]
  },
  {
   "cell_type": "code",
   "execution_count": 1,
   "metadata": {},
   "outputs": [],
   "source": [
    "import pandas as pd\n",
    "import numpy as np"
   ]
  },
  {
   "cell_type": "code",
   "execution_count": 6,
   "metadata": {},
   "outputs": [
    {
     "name": "stderr",
     "output_type": "stream",
     "text": [
      "/var/folders/9f/pxm614n1557f1snrw150gf9r0000gn/T/ipykernel_92136/2679269293.py:2: DtypeWarning: Columns (13,15,16,18,32,34,36,37,41,45,46,55,71,83,84,86,87,90,91,92,96,98,100,101,103,104,105,106,107,108,109) have mixed types. Specify dtype option on import or set low_memory=False.\n",
      "  new_data = pd.read_csv(\"paper_replication_data/MichiganConsumerSurvey.csv\")\n"
     ]
    }
   ],
   "source": [
    "# Load in New Data\n",
    "new_data = pd.read_csv(\"paper_replication_data/MichiganConsumerSurvey.csv\")\n"
   ]
  },
  {
   "cell_type": "code",
   "execution_count": 7,
   "metadata": {},
   "outputs": [
    {
     "data": {
      "text/plain": [
       "Index(['CASEID', 'YYYYMM', 'YYYYQ', 'YYYY', 'ID', 'IDPREV', 'DATEPR', 'ICS',\n",
       "       'ICC', 'ICE',\n",
       "       ...\n",
       "       'GAS1PX1', 'GAS1PX2', 'GAS1', 'PINC', 'PINC2', 'PJOB', 'PSSA', 'PCRY',\n",
       "       'PSTK', 'WT'],\n",
       "      dtype='object', length=111)"
      ]
     },
     "execution_count": 7,
     "metadata": {},
     "output_type": "execute_result"
    }
   ],
   "source": [
    "new_data.columns"
   ]
  },
  {
   "cell_type": "code",
   "execution_count": 10,
   "metadata": {},
   "outputs": [
    {
     "data": {
      "text/plain": [
       "Index(['caseid', 'yyyymm', 'yyyyq', 'yyyy', 'id', 'idprev', 'datepr', 'ics',\n",
       "       'icc', 'ice',\n",
       "       ...\n",
       "       'PX1MEAN', 'PX1STD', 'GOOD', 'DURRN1', 'CARRN1', 'HOMRN1', 'INFLFORW',\n",
       "       'SPF', 'OUTSIDE', 'GOOD2'],\n",
       "      dtype='object', length=171)"
      ]
     },
     "execution_count": 10,
     "metadata": {},
     "output_type": "execute_result"
    }
   ],
   "source": [
    "# Load in old data\n",
    "old_data = pd.read_csv(\"paper_replication_data/replication/replication_data.csv\")\n",
    "old_data.columns"
   ]
  }
 ],
 "metadata": {
  "kernelspec": {
   "display_name": "Python 3.9.6 64-bit",
   "language": "python",
   "name": "python3"
  },
  "language_info": {
   "codemirror_mode": {
    "name": "ipython",
    "version": 3
   },
   "file_extension": ".py",
   "mimetype": "text/x-python",
   "name": "python",
   "nbconvert_exporter": "python",
   "pygments_lexer": "ipython3",
   "version": "3.9.6"
  },
  "orig_nbformat": 4,
  "vscode": {
   "interpreter": {
    "hash": "31f2aee4e71d21fbe5cf8b01ff0e069b9275f58929596ceb00d14d90e3e16cd6"
   }
  }
 },
 "nbformat": 4,
 "nbformat_minor": 2
}
